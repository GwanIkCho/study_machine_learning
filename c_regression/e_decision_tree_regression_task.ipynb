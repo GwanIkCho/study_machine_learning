{
 "cells": [
  {
   "cell_type": "markdown",
   "id": "10374ebe-19ea-4693-b4f6-e00fd010921a",
   "metadata": {},
   "source": [
    "### Decision Tree Regression Task\n",
    "\n",
    "##### 기온 및 강수량 별 모기 비율 예측\n",
    "\n",
    "- date: 년-월-일\n",
    "- mosquito_Indicator: 모기 비율\n",
    "- rain(mm): 일 강수량\n",
    "- mean_T(℃): 일 평균 기온\n",
    "- min_T(℃): 일 최저 기온\n",
    "- max_T(℃): 일 최고 기온\n",
    "\n",
    "r2 0.8204"
   ]
  },
  {
   "cell_type": "code",
   "execution_count": 85,
   "id": "a6c2a479-9b18-4cea-91d6-1b344a05db77",
   "metadata": {},
   "outputs": [
    {
     "data": {
      "text/html": [
       "<div>\n",
       "<style scoped>\n",
       "    .dataframe tbody tr th:only-of-type {\n",
       "        vertical-align: middle;\n",
       "    }\n",
       "\n",
       "    .dataframe tbody tr th {\n",
       "        vertical-align: top;\n",
       "    }\n",
       "\n",
       "    .dataframe thead th {\n",
       "        text-align: right;\n",
       "    }\n",
       "</style>\n",
       "<table border=\"1\" class=\"dataframe\">\n",
       "  <thead>\n",
       "    <tr style=\"text-align: right;\">\n",
       "      <th></th>\n",
       "      <th>date</th>\n",
       "      <th>mosquito_Indicator</th>\n",
       "      <th>rain(mm)</th>\n",
       "      <th>mean_T(℃)</th>\n",
       "      <th>min_T(℃)</th>\n",
       "      <th>max_T(℃)</th>\n",
       "    </tr>\n",
       "  </thead>\n",
       "  <tbody>\n",
       "    <tr>\n",
       "      <th>0</th>\n",
       "      <td>2016-05-01</td>\n",
       "      <td>254.4</td>\n",
       "      <td>0.0</td>\n",
       "      <td>18.8</td>\n",
       "      <td>12.2</td>\n",
       "      <td>26.0</td>\n",
       "    </tr>\n",
       "    <tr>\n",
       "      <th>1</th>\n",
       "      <td>2016-05-02</td>\n",
       "      <td>273.5</td>\n",
       "      <td>16.5</td>\n",
       "      <td>21.1</td>\n",
       "      <td>16.5</td>\n",
       "      <td>28.4</td>\n",
       "    </tr>\n",
       "    <tr>\n",
       "      <th>2</th>\n",
       "      <td>2016-05-03</td>\n",
       "      <td>304.0</td>\n",
       "      <td>27.0</td>\n",
       "      <td>12.9</td>\n",
       "      <td>8.9</td>\n",
       "      <td>17.6</td>\n",
       "    </tr>\n",
       "    <tr>\n",
       "      <th>3</th>\n",
       "      <td>2016-05-04</td>\n",
       "      <td>256.2</td>\n",
       "      <td>0.0</td>\n",
       "      <td>15.7</td>\n",
       "      <td>10.2</td>\n",
       "      <td>20.6</td>\n",
       "    </tr>\n",
       "    <tr>\n",
       "      <th>4</th>\n",
       "      <td>2016-05-05</td>\n",
       "      <td>243.8</td>\n",
       "      <td>7.5</td>\n",
       "      <td>18.9</td>\n",
       "      <td>10.2</td>\n",
       "      <td>26.9</td>\n",
       "    </tr>\n",
       "    <tr>\n",
       "      <th>...</th>\n",
       "      <td>...</td>\n",
       "      <td>...</td>\n",
       "      <td>...</td>\n",
       "      <td>...</td>\n",
       "      <td>...</td>\n",
       "      <td>...</td>\n",
       "    </tr>\n",
       "    <tr>\n",
       "      <th>1337</th>\n",
       "      <td>2019-12-27</td>\n",
       "      <td>5.5</td>\n",
       "      <td>0.0</td>\n",
       "      <td>-1.7</td>\n",
       "      <td>-4.6</td>\n",
       "      <td>2.6</td>\n",
       "    </tr>\n",
       "    <tr>\n",
       "      <th>1338</th>\n",
       "      <td>2019-12-28</td>\n",
       "      <td>5.5</td>\n",
       "      <td>0.0</td>\n",
       "      <td>1.1</td>\n",
       "      <td>-3.6</td>\n",
       "      <td>6.1</td>\n",
       "    </tr>\n",
       "    <tr>\n",
       "      <th>1339</th>\n",
       "      <td>2019-12-29</td>\n",
       "      <td>5.5</td>\n",
       "      <td>1.4</td>\n",
       "      <td>3.8</td>\n",
       "      <td>1.1</td>\n",
       "      <td>6.2</td>\n",
       "    </tr>\n",
       "    <tr>\n",
       "      <th>1340</th>\n",
       "      <td>2019-12-30</td>\n",
       "      <td>5.5</td>\n",
       "      <td>0.4</td>\n",
       "      <td>2.7</td>\n",
       "      <td>-5.7</td>\n",
       "      <td>6.8</td>\n",
       "    </tr>\n",
       "    <tr>\n",
       "      <th>1341</th>\n",
       "      <td>2019-12-31</td>\n",
       "      <td>5.5</td>\n",
       "      <td>0.0</td>\n",
       "      <td>-7.9</td>\n",
       "      <td>-10.9</td>\n",
       "      <td>-4.5</td>\n",
       "    </tr>\n",
       "  </tbody>\n",
       "</table>\n",
       "<p>1342 rows × 6 columns</p>\n",
       "</div>"
      ],
      "text/plain": [
       "            date  mosquito_Indicator  rain(mm)  mean_T(℃)  min_T(℃)  max_T(℃)\n",
       "0     2016-05-01               254.4       0.0       18.8      12.2      26.0\n",
       "1     2016-05-02               273.5      16.5       21.1      16.5      28.4\n",
       "2     2016-05-03               304.0      27.0       12.9       8.9      17.6\n",
       "3     2016-05-04               256.2       0.0       15.7      10.2      20.6\n",
       "4     2016-05-05               243.8       7.5       18.9      10.2      26.9\n",
       "...          ...                 ...       ...        ...       ...       ...\n",
       "1337  2019-12-27                 5.5       0.0       -1.7      -4.6       2.6\n",
       "1338  2019-12-28                 5.5       0.0        1.1      -3.6       6.1\n",
       "1339  2019-12-29                 5.5       1.4        3.8       1.1       6.2\n",
       "1340  2019-12-30                 5.5       0.4        2.7      -5.7       6.8\n",
       "1341  2019-12-31                 5.5       0.0       -7.9     -10.9      -4.5\n",
       "\n",
       "[1342 rows x 6 columns]"
      ]
     },
     "execution_count": 85,
     "metadata": {},
     "output_type": "execute_result"
    }
   ],
   "source": [
    "import pandas as pd\n",
    "\n",
    "m_df = pd.read_csv('./datasets/korea_mosquito.csv',low_memory=False)\n",
    "\n",
    "m_df"
   ]
  },
  {
   "cell_type": "code",
   "execution_count": 4,
   "id": "fcb1fb66-ed47-442c-981a-6a86afc7107f",
   "metadata": {},
   "outputs": [
    {
     "data": {
      "text/plain": [
       "date                  0\n",
       "mosquito_Indicator    0\n",
       "rain(mm)              0\n",
       "mean_T(℃)             0\n",
       "min_T(℃)              0\n",
       "max_T(℃)              0\n",
       "dtype: int64"
      ]
     },
     "execution_count": 4,
     "metadata": {},
     "output_type": "execute_result"
    }
   ],
   "source": [
    "m_df.isna().sum()"
   ]
  },
  {
   "cell_type": "code",
   "execution_count": 5,
   "id": "5907a1d6-3ce2-4a7e-b465-c00f70e32ed4",
   "metadata": {},
   "outputs": [
    {
     "data": {
      "text/plain": [
       "47"
      ]
     },
     "execution_count": 5,
     "metadata": {},
     "output_type": "execute_result"
    }
   ],
   "source": [
    "m_df.duplicated().sum()"
   ]
  },
  {
   "cell_type": "code",
   "execution_count": 86,
   "id": "2ef5348f-f560-47e8-b548-b32af1c00407",
   "metadata": {},
   "outputs": [],
   "source": [
    "m_df = m_df.drop(labels=['date'], axis=1)"
   ]
  },
  {
   "cell_type": "code",
   "execution_count": 87,
   "id": "1a39cbe1-b955-48b1-a154-8b09ed59e9e5",
   "metadata": {},
   "outputs": [],
   "source": [
    "m_df['mosquito_Indicator'] = m_df.pop('mosquito_Indicator')"
   ]
  },
  {
   "cell_type": "code",
   "execution_count": 33,
   "id": "729b7f90-6ae7-4fd1-801c-ff8b27146ce7",
   "metadata": {},
   "outputs": [
    {
     "data": {
      "text/plain": [
       "mean_T(℃)\n",
       " 23.3    18\n",
       " 21.9    14\n",
       " 23.5    11\n",
       " 24.7    11\n",
       " 22.6    10\n",
       "         ..\n",
       " 7.4      1\n",
       "-8.5      1\n",
       " 8.7      1\n",
       "-9.9      1\n",
       "-7.9      1\n",
       "Name: count, Length: 384, dtype: int64"
      ]
     },
     "execution_count": 33,
     "metadata": {},
     "output_type": "execute_result"
    }
   ],
   "source": [
    "m_df['mean_T(℃)'].value_counts()"
   ]
  },
  {
   "cell_type": "code",
   "execution_count": 37,
   "id": "f343e10b-4817-4994-a73c-e3b11e9f3f3a",
   "metadata": {},
   "outputs": [],
   "source": [
    "m_df = m_df.drop(labels=['min_T(℃)', 'max_T(℃)'], axis=1)"
   ]
  },
  {
   "cell_type": "code",
   "execution_count": 131,
   "id": "ddc562cc-af3e-4858-b6cf-3d9fc092633e",
   "metadata": {},
   "outputs": [],
   "source": [
    "m_df['mosquito_Indicato'] = np.log1p(m_df['mosquito_Indicator'])"
   ]
  },
  {
   "cell_type": "code",
   "execution_count": 25,
   "id": "540da929-7fdf-4168-832d-d23a31ddeffe",
   "metadata": {},
   "outputs": [
    {
     "data": {
      "text/plain": [
       "array([[<Axes: title={'center': 'rain(mm)'}>,\n",
       "        <Axes: title={'center': 'mean_T(℃)'}>],\n",
       "       [<Axes: title={'center': 'mosquito_Indicator'}>, <Axes: >]],\n",
       "      dtype=object)"
      ]
     },
     "execution_count": 25,
     "metadata": {},
     "output_type": "execute_result"
    },
    {
     "data": {
      "image/png": "[encoded data removed]",
      "text/plain": [
       "<Figure size 640x480 with 4 Axes>"
      ]
     },
     "metadata": {},
     "output_type": "display_data"
    }
   ],
   "source": [
    "from sklearn.preprocessing import PowerTransformer\n",
    "\n",
    "# box-cox: 양수만 가능\n",
    "# yeo-johnson: 음수, 0 포함 가능, default\n",
    "\n",
    "# ptf = PowerTransformer(method='box-cox', standardize=False)\n",
    "ptf = PowerTransformer(standardize=False)\n",
    "result = ptf.fit_transform(m_df[['mean_T(℃)']])\n",
    "m_df['mean_T(℃)'] = result\n",
    "m_df.hist()"
   ]
  },
  {
   "cell_type": "code",
   "execution_count": 21,
   "id": "ad33fa9a-16c1-4350-9ae0-879d0e905b96",
   "metadata": {},
   "outputs": [
    {
     "name": "stderr",
     "output_type": "stream",
     "text": [
      "C:\\ProgramData\\anaconda3\\Lib\\site-packages\\pandas\\core\\arraylike.py:396: RuntimeWarning: invalid value encountered in log1p\n",
      "  result = getattr(ufunc, method)(*inputs, **kwargs)\n"
     ]
    },
    {
     "data": {
      "text/plain": [
       "<Axes: >"
      ]
     },
     "execution_count": 21,
     "metadata": {},
     "output_type": "execute_result"
    },
    {
     "data": {
      "image/png": "[encoded data removed]",
      "text/plain": [
       "<Figure size 640x480 with 1 Axes>"
      ]
     },
     "metadata": {},
     "output_type": "display_data"
    }
   ],
   "source": [
    "import numpy as np\n",
    "\n",
    "np.log1p(m_df['mean_T(℃)']).hist()"
   ]
  },
  {
   "cell_type": "code",
   "execution_count": 88,
   "id": "2e3d4fce-0f61-4bab-b811-2170bf6e60af",
   "metadata": {},
   "outputs": [
    {
     "data": {
      "text/plain": [
       "array([[<Axes: title={'center': 'rain(mm)'}>,\n",
       "        <Axes: title={'center': 'mean_T(℃)'}>],\n",
       "       [<Axes: title={'center': 'min_T(℃)'}>,\n",
       "        <Axes: title={'center': 'max_T(℃)'}>],\n",
       "       [<Axes: title={'center': 'mosquito_Indicator'}>, <Axes: >]],\n",
       "      dtype=object)"
      ]
     },
     "execution_count": 88,
     "metadata": {},
     "output_type": "execute_result"
    },
    {
     "data": {
      "image/png": "[encoded data removed]",
      "text/plain": [
       "<Figure size 640x480 with 6 Axes>"
      ]
     },
     "metadata": {},
     "output_type": "display_data"
    }
   ],
   "source": [
    "m_df.hist()"
   ]
  },
  {
   "cell_type": "code",
   "execution_count": 105,
   "id": "60b8f8a5-4f02-49ed-a54c-fbc5923d11ed",
   "metadata": {},
   "outputs": [],
   "source": [
    "m_df = m_df.drop(labels=['mean_T(℃)'], axis=1)"
   ]
  },
  {
   "cell_type": "code",
   "execution_count": 132,
   "id": "fbd88ffb-5025-4387-9ae3-110e24d88b70",
   "metadata": {},
   "outputs": [
    {
     "name": "stdout",
     "output_type": "stream",
     "text": [
      "                                 OLS Regression Results                                \n",
      "=======================================================================================\n",
      "Dep. Variable:      mosquito_Indicato   R-squared (uncentered):                   0.958\n",
      "Model:                            OLS   Adj. R-squared (uncentered):              0.958\n",
      "Method:                 Least Squares   F-statistic:                              7622.\n",
      "Date:                Mon, 29 Apr 2024   Prob (F-statistic):                        0.00\n",
      "Time:                        14:43:43   Log-Likelihood:                         -1820.6\n",
      "No. Observations:                1342   AIC:                                      3649.\n",
      "Df Residuals:                    1338   BIC:                                      3670.\n",
      "Df Model:                           4                                                  \n",
      "Covariance Type:            nonrobust                                                  \n",
      "======================================================================================\n",
      "                         coef    std err          t      P>|t|      [0.025      0.975]\n",
      "--------------------------------------------------------------------------------------\n",
      "rain(mm)               0.0101      0.002      5.322      0.000       0.006       0.014\n",
      "min_T(℃)              -0.1110      0.005    -20.275      0.000      -0.122      -0.100\n",
      "max_T(℃)               0.2041      0.003     59.736      0.000       0.197       0.211\n",
      "mosquito_Indicator     0.0044      0.000     33.491      0.000       0.004       0.005\n",
      "==============================================================================\n",
      "Omnibus:                      224.937   Durbin-Watson:                   0.492\n",
      "Prob(Omnibus):                  0.000   Jarque-Bera (JB):              714.105\n",
      "Skew:                          -0.827   Prob(JB):                    8.59e-156\n",
      "Kurtosis:                       6.168   Cond. No.                         93.8\n",
      "==============================================================================\n",
      "\n",
      "Notes:\n",
      "[1] R² is computed without centering (uncentered) since the model does not contain a constant.\n",
      "[2] Standard Errors assume that the covariance matrix of the errors is correctly specified.\n"
     ]
    }
   ],
   "source": [
    "from statsmodels.api import OLS\n",
    "\n",
    "features, targets = m_df.iloc[:, :-1], m_df.iloc[:, -1]\n",
    "\n",
    "model = OLS(targets, features)\n",
    "print(model.fit().summary())"
   ]
  },
  {
   "cell_type": "code",
   "execution_count": 133,
   "id": "441df9ab-35f3-4df0-a1c2-0e37195de560",
   "metadata": {},
   "outputs": [],
   "source": [
    "from statsmodels.stats.outliers_influence import variance_inflation_factor\n",
    "\n",
    "def get_vif(features):\n",
    "    vif = pd.DataFrame()\n",
    "    vif['vif_score'] = [variance_inflation_factor(features.values, i) for i in range(features.shape[1])]\n",
    "    vif['feature'] = features.columns\n",
    "    return vif"
   ]
  },
  {
   "cell_type": "code",
   "execution_count": 134,
   "id": "c1eaa2a1-504f-4543-bed1-9b8949256208",
   "metadata": {},
   "outputs": [
    {
     "data": {
      "text/html": [
       "<div>\n",
       "<style scoped>\n",
       "    .dataframe tbody tr th:only-of-type {\n",
       "        vertical-align: middle;\n",
       "    }\n",
       "\n",
       "    .dataframe tbody tr th {\n",
       "        vertical-align: top;\n",
       "    }\n",
       "\n",
       "    .dataframe thead th {\n",
       "        text-align: right;\n",
       "    }\n",
       "</style>\n",
       "<table border=\"1\" class=\"dataframe\">\n",
       "  <thead>\n",
       "    <tr style=\"text-align: right;\">\n",
       "      <th></th>\n",
       "      <th>vif_score</th>\n",
       "      <th>feature</th>\n",
       "    </tr>\n",
       "  </thead>\n",
       "  <tbody>\n",
       "    <tr>\n",
       "      <th>0</th>\n",
       "      <td>1.125058</td>\n",
       "      <td>rain(mm)</td>\n",
       "    </tr>\n",
       "    <tr>\n",
       "      <th>1</th>\n",
       "      <td>10.144323</td>\n",
       "      <td>min_T(℃)</td>\n",
       "    </tr>\n",
       "    <tr>\n",
       "      <th>2</th>\n",
       "      <td>8.615218</td>\n",
       "      <td>max_T(℃)</td>\n",
       "    </tr>\n",
       "    <tr>\n",
       "      <th>3</th>\n",
       "      <td>3.892077</td>\n",
       "      <td>mosquito_Indicator</td>\n",
       "    </tr>\n",
       "  </tbody>\n",
       "</table>\n",
       "</div>"
      ],
      "text/plain": [
       "   vif_score             feature\n",
       "0   1.125058            rain(mm)\n",
       "1  10.144323            min_T(℃)\n",
       "2   8.615218            max_T(℃)\n",
       "3   3.892077  mosquito_Indicator"
      ]
     },
     "execution_count": 134,
     "metadata": {},
     "output_type": "execute_result"
    }
   ],
   "source": [
    "get_vif(features)"
   ]
  },
  {
   "cell_type": "code",
   "execution_count": 109,
   "id": "044006ad-5d3a-47f4-95a5-53fbbb29efb0",
   "metadata": {},
   "outputs": [],
   "source": [
    "import numpy as np\n",
    "from sklearn.metrics import mean_squared_log_error, mean_squared_error, r2_score\n",
    "\n",
    "def get_evaluation(y_test, prediction):\n",
    "    MSE = mean_squared_error(y_test, prediction)\n",
    "    RMSE = np.sqrt(MSE)\n",
    "    # MSLE = mean_squared_log_error(y_test, prediction)\n",
    "    # RMSLE = np.sqrt(mean_squared_log_error(y_test, prediction))\n",
    "    R2 = r2_score(y_test, prediction)\n",
    "    print('MSE: {:.4f}, RMSE: {:.4f}, R2: {:.4f}'\\\n",
    "          .format(MSE, RMSE, R2))"
   ]
  },
  {
   "cell_type": "code",
   "execution_count": 153,
   "id": "8716ccf1-fcd9-48e4-ac23-05b62c616137",
   "metadata": {},
   "outputs": [
    {
     "data": {
      "text/html": [
       "<style>#sk-container-id-40 {color: black;background-color: white;}#sk-container-id-40 pre{padding: 0;}#sk-container-id-40 div.sk-toggleable {background-color: white;}#sk-container-id-40 label.sk-toggleable__label {cursor: pointer;display: block;width: 100%;margin-bottom: 0;padding: 0.3em;box-sizing: border-box;text-align: center;}#sk-container-id-40 label.sk-toggleable__label-arrow:before {content: \"▸\";float: left;margin-right: 0.25em;color: #696969;}#sk-container-id-40 label.sk-toggleable__label-arrow:hover:before {color: black;}#sk-container-id-40 div.sk-estimator:hover label.sk-toggleable__label-arrow:before {color: black;}#sk-container-id-40 div.sk-toggleable__content {max-height: 0;max-width: 0;overflow: hidden;text-align: left;background-color: #f0f8ff;}#sk-container-id-40 div.sk-toggleable__content pre {margin: 0.2em;color: black;border-radius: 0.25em;background-color: #f0f8ff;}#sk-container-id-40 input.sk-toggleable__control:checked~div.sk-toggleable__content {max-height: 200px;max-width: 100%;overflow: auto;}#sk-container-id-40 input.sk-toggleable__control:checked~label.sk-toggleable__label-arrow:before {content: \"▾\";}#sk-container-id-40 div.sk-estimator input.sk-toggleable__control:checked~label.sk-toggleable__label {background-color: #d4ebff;}#sk-container-id-40 div.sk-label input.sk-toggleable__control:checked~label.sk-toggleable__label {background-color: #d4ebff;}#sk-container-id-40 input.sk-hidden--visually {border: 0;clip: rect(1px 1px 1px 1px);clip: rect(1px, 1px, 1px, 1px);height: 1px;margin: -1px;overflow: hidden;padding: 0;position: absolute;width: 1px;}#sk-container-id-40 div.sk-estimator {font-family: monospace;background-color: #f0f8ff;border: 1px dotted black;border-radius: 0.25em;box-sizing: border-box;margin-bottom: 0.5em;}#sk-container-id-40 div.sk-estimator:hover {background-color: #d4ebff;}#sk-container-id-40 div.sk-parallel-item::after {content: \"\";width: 100%;border-bottom: 1px solid gray;flex-grow: 1;}#sk-container-id-40 div.sk-label:hover label.sk-toggleable__label {background-color: #d4ebff;}#sk-container-id-40 div.sk-serial::before {content: \"\";position: absolute;border-left: 1px solid gray;box-sizing: border-box;top: 0;bottom: 0;left: 50%;z-index: 0;}#sk-container-id-40 div.sk-serial {display: flex;flex-direction: column;align-items: center;background-color: white;padding-right: 0.2em;padding-left: 0.2em;position: relative;}#sk-container-id-40 div.sk-item {position: relative;z-index: 1;}#sk-container-id-40 div.sk-parallel {display: flex;align-items: stretch;justify-content: center;background-color: white;position: relative;}#sk-container-id-40 div.sk-item::before, #sk-container-id-40 div.sk-parallel-item::before {content: \"\";position: absolute;border-left: 1px solid gray;box-sizing: border-box;top: 0;bottom: 0;left: 50%;z-index: -1;}#sk-container-id-40 div.sk-parallel-item {display: flex;flex-direction: column;z-index: 1;position: relative;background-color: white;}#sk-container-id-40 div.sk-parallel-item:first-child::after {align-self: flex-end;width: 50%;}#sk-container-id-40 div.sk-parallel-item:last-child::after {align-self: flex-start;width: 50%;}#sk-container-id-40 div.sk-parallel-item:only-child::after {width: 0;}#sk-container-id-40 div.sk-dashed-wrapped {border: 1px dashed gray;margin: 0 0.4em 0.5em 0.4em;box-sizing: border-box;padding-bottom: 0.4em;background-color: white;}#sk-container-id-40 div.sk-label label {font-family: monospace;font-weight: bold;display: inline-block;line-height: 1.2em;}#sk-container-id-40 div.sk-label-container {text-align: center;}#sk-container-id-40 div.sk-container {/* jupyter's `normalize.less` sets `[hidden] { display: none; }` but bootstrap.min.css set `[hidden] { display: none !important; }` so we also need the `!important` here to be able to override the default hidden behavior on the sphinx rendered scikit-learn.org. See: https://github.com/scikit-learn/scikit-learn/issues/21755 */display: inline-block !important;position: relative;}#sk-container-id-40 div.sk-text-repr-fallback {display: none;}</style><div id=\"sk-container-id-40\" class=\"sk-top-container\"><div class=\"sk-text-repr-fallback\"><pre>LinearRegression()</pre><b>In a Jupyter environment, please rerun this cell to show the HTML representation or trust the notebook. <br />On GitHub, the HTML representation is unable to render, please try loading this page with nbviewer.org.</b></div><div class=\"sk-container\" hidden><div class=\"sk-item\"><div class=\"sk-estimator sk-toggleable\"><input class=\"sk-toggleable__control sk-hidden--visually\" id=\"sk-estimator-id-48\" type=\"checkbox\" checked><label for=\"sk-estimator-id-48\" class=\"sk-toggleable__label sk-toggleable__label-arrow\">LinearRegression</label><div class=\"sk-toggleable__content\"><pre>LinearRegression()</pre></div></div></div></div></div>"
      ],
      "text/plain": [
       "LinearRegression()"
      ]
     },
     "execution_count": 153,
     "metadata": {},
     "output_type": "execute_result"
    }
   ],
   "source": [
    "from sklearn.model_selection import train_test_split\n",
    "from sklearn.linear_model import LinearRegression\n",
    "\n",
    "features, targets = m_df.iloc[:, :-1], m_df.iloc[:, -1]\n",
    "\n",
    "X_train, X_test, y_train, y_test = \\\n",
    "train_test_split(features, targets, test_size=0.2, random_state=124)\n",
    "\n",
    "l_r = LinearRegression()\n",
    "l_r.fit(X_train, y_train)"
   ]
  },
  {
   "cell_type": "code",
   "execution_count": 154,
   "id": "5e3429c7-4e1f-4016-894f-cd9400137e34",
   "metadata": {},
   "outputs": [
    {
     "name": "stdout",
     "output_type": "stream",
     "text": [
      "MSE: 0.6571, RMSE: 0.8106, R2: 0.8460\n"
     ]
    }
   ],
   "source": [
    "prediction = l_r.predict(X_test)\n",
    "get_evaluation(y_test, prediction)"
   ]
  },
  {
   "cell_type": "code",
   "execution_count": 155,
   "id": "78bf8d87-ed11-42c7-af71-6adaf28c445a",
   "metadata": {},
   "outputs": [
    {
     "data": {
      "text/html": [
       "<style>#sk-container-id-41 {color: black;background-color: white;}#sk-container-id-41 pre{padding: 0;}#sk-container-id-41 div.sk-toggleable {background-color: white;}#sk-container-id-41 label.sk-toggleable__label {cursor: pointer;display: block;width: 100%;margin-bottom: 0;padding: 0.3em;box-sizing: border-box;text-align: center;}#sk-container-id-41 label.sk-toggleable__label-arrow:before {content: \"▸\";float: left;margin-right: 0.25em;color: #696969;}#sk-container-id-41 label.sk-toggleable__label-arrow:hover:before {color: black;}#sk-container-id-41 div.sk-estimator:hover label.sk-toggleable__label-arrow:before {color: black;}#sk-container-id-41 div.sk-toggleable__content {max-height: 0;max-width: 0;overflow: hidden;text-align: left;background-color: #f0f8ff;}#sk-container-id-41 div.sk-toggleable__content pre {margin: 0.2em;color: black;border-radius: 0.25em;background-color: #f0f8ff;}#sk-container-id-41 input.sk-toggleable__control:checked~div.sk-toggleable__content {max-height: 200px;max-width: 100%;overflow: auto;}#sk-container-id-41 input.sk-toggleable__control:checked~label.sk-toggleable__label-arrow:before {content: \"▾\";}#sk-container-id-41 div.sk-estimator input.sk-toggleable__control:checked~label.sk-toggleable__label {background-color: #d4ebff;}#sk-container-id-41 div.sk-label input.sk-toggleable__control:checked~label.sk-toggleable__label {background-color: #d4ebff;}#sk-container-id-41 input.sk-hidden--visually {border: 0;clip: rect(1px 1px 1px 1px);clip: rect(1px, 1px, 1px, 1px);height: 1px;margin: -1px;overflow: hidden;padding: 0;position: absolute;width: 1px;}#sk-container-id-41 div.sk-estimator {font-family: monospace;background-color: #f0f8ff;border: 1px dotted black;border-radius: 0.25em;box-sizing: border-box;margin-bottom: 0.5em;}#sk-container-id-41 div.sk-estimator:hover {background-color: #d4ebff;}#sk-container-id-41 div.sk-parallel-item::after {content: \"\";width: 100%;border-bottom: 1px solid gray;flex-grow: 1;}#sk-container-id-41 div.sk-label:hover label.sk-toggleable__label {background-color: #d4ebff;}#sk-container-id-41 div.sk-serial::before {content: \"\";position: absolute;border-left: 1px solid gray;box-sizing: border-box;top: 0;bottom: 0;left: 50%;z-index: 0;}#sk-container-id-41 div.sk-serial {display: flex;flex-direction: column;align-items: center;background-color: white;padding-right: 0.2em;padding-left: 0.2em;position: relative;}#sk-container-id-41 div.sk-item {position: relative;z-index: 1;}#sk-container-id-41 div.sk-parallel {display: flex;align-items: stretch;justify-content: center;background-color: white;position: relative;}#sk-container-id-41 div.sk-item::before, #sk-container-id-41 div.sk-parallel-item::before {content: \"\";position: absolute;border-left: 1px solid gray;box-sizing: border-box;top: 0;bottom: 0;left: 50%;z-index: -1;}#sk-container-id-41 div.sk-parallel-item {display: flex;flex-direction: column;z-index: 1;position: relative;background-color: white;}#sk-container-id-41 div.sk-parallel-item:first-child::after {align-self: flex-end;width: 50%;}#sk-container-id-41 div.sk-parallel-item:last-child::after {align-self: flex-start;width: 50%;}#sk-container-id-41 div.sk-parallel-item:only-child::after {width: 0;}#sk-container-id-41 div.sk-dashed-wrapped {border: 1px dashed gray;margin: 0 0.4em 0.5em 0.4em;box-sizing: border-box;padding-bottom: 0.4em;background-color: white;}#sk-container-id-41 div.sk-label label {font-family: monospace;font-weight: bold;display: inline-block;line-height: 1.2em;}#sk-container-id-41 div.sk-label-container {text-align: center;}#sk-container-id-41 div.sk-container {/* jupyter's `normalize.less` sets `[hidden] { display: none; }` but bootstrap.min.css set `[hidden] { display: none !important; }` so we also need the `!important` here to be able to override the default hidden behavior on the sphinx rendered scikit-learn.org. See: https://github.com/scikit-learn/scikit-learn/issues/21755 */display: inline-block !important;position: relative;}#sk-container-id-41 div.sk-text-repr-fallback {display: none;}</style><div id=\"sk-container-id-41\" class=\"sk-top-container\"><div class=\"sk-text-repr-fallback\"><pre>LinearRegression()</pre><b>In a Jupyter environment, please rerun this cell to show the HTML representation or trust the notebook. <br />On GitHub, the HTML representation is unable to render, please try loading this page with nbviewer.org.</b></div><div class=\"sk-container\" hidden><div class=\"sk-item\"><div class=\"sk-estimator sk-toggleable\"><input class=\"sk-toggleable__control sk-hidden--visually\" id=\"sk-estimator-id-49\" type=\"checkbox\" checked><label for=\"sk-estimator-id-49\" class=\"sk-toggleable__label sk-toggleable__label-arrow\">LinearRegression</label><div class=\"sk-toggleable__content\"><pre>LinearRegression()</pre></div></div></div></div></div>"
      ],
      "text/plain": [
       "LinearRegression()"
      ]
     },
     "execution_count": 155,
     "metadata": {},
     "output_type": "execute_result"
    }
   ],
   "source": [
    "from sklearn.preprocessing import PolynomialFeatures\n",
    "\n",
    "poly_features = PolynomialFeatures(degree=4).fit_transform(features)\n",
    "\n",
    "X_train, X_test, y_train, y_test = \\\n",
    "train_test_split(poly_features, targets, test_size=0.2, random_state=124)\n",
    "\n",
    "l_r = LinearRegression()\n",
    "l_r.fit(X_train, y_train)"
   ]
  },
  {
   "cell_type": "code",
   "execution_count": 156,
   "id": "2e9f5434-a61a-492d-a7dd-3b39fa752c1f",
   "metadata": {},
   "outputs": [
    {
     "name": "stdout",
     "output_type": "stream",
     "text": [
      "MSE: 0.1611, RMSE: 0.4014, R2: 0.9622\n"
     ]
    }
   ],
   "source": [
    "prediction = l_r.predict(X_test)\n",
    "get_evaluation(y_test.values, prediction)"
   ]
  },
  {
   "cell_type": "code",
   "execution_count": 149,
   "id": "9aeb2247-4e87-48b6-b1e0-b4cf9c50507f",
   "metadata": {},
   "outputs": [
    {
     "name": "stdout",
     "output_type": "stream",
     "text": [
      "DecisionTreeRegressor\n",
      "MSE: 0.0004, RMSE: 0.0211, R2: 0.9999\n",
      "RandomForestRegressor\n",
      "MSE: 0.0001, RMSE: 0.0082, R2: 1.0000\n",
      "GradientBoostingRegressor\n",
      "MSE: 0.0002, RMSE: 0.0149, R2: 0.9999\n",
      "XGBRegressor\n",
      "MSE: 0.0007, RMSE: 0.0260, R2: 0.9998\n",
      "[LightGBM] [Info] Auto-choosing col-wise multi-threading, the overhead of testing was 0.000046 seconds.\n",
      "You can set `force_col_wise=true` to remove the overhead.\n",
      "[LightGBM] [Info] Total Bins 804\n",
      "[LightGBM] [Info] Number of data points in the train set: 1073, number of used features: 4\n",
      "[LightGBM] [Info] Start training from score 4.010299\n",
      "LGBMRegressor\n",
      "MSE: 0.0004, RMSE: 0.0187, R2: 0.9999\n"
     ]
    }
   ],
   "source": [
    "from sklearn.tree import DecisionTreeRegressor\n",
    "from sklearn.ensemble import RandomForestRegressor\n",
    "from sklearn.ensemble import GradientBoostingRegressor\n",
    "from xgboost import XGBRegressor\n",
    "from lightgbm import LGBMRegressor\n",
    "from sklearn.model_selection import train_test_split\n",
    "\n",
    "features, targets = m_df.iloc[:, :-1], m_df.iloc[:, -1]\n",
    "\n",
    "X_train, X_test, y_train, y_test = \\\n",
    "train_test_split(features, targets, test_size=0.2, random_state=124)\n",
    "\n",
    "dt_r = DecisionTreeRegressor(random_state=124)\n",
    "rf_r = RandomForestRegressor(random_state=124, n_estimators=1000)\n",
    "gb_r = GradientBoostingRegressor(random_state=124)\n",
    "xgb_r = XGBRegressor()\n",
    "lgb_r = LGBMRegressor(n_estimators=100)\n",
    "\n",
    "models = [dt_r, rf_r, gb_r, xgb_r, lgb_r]\n",
    "for model in models:\n",
    "    model.fit(X_train, y_train)\n",
    "    prediction = model.predict(X_test)\n",
    "    print(model.__class__.__name__)\n",
    "    get_evaluation(y_test, prediction)"
   ]
  },
  {
   "cell_type": "code",
   "execution_count": 150,
   "id": "7e54521a-95b5-4a30-a2bb-76bac16e989e",
   "metadata": {},
   "outputs": [
    {
     "data": {
      "text/html": [
       "<style>#sk-container-id-39 {color: black;background-color: white;}#sk-container-id-39 pre{padding: 0;}#sk-container-id-39 div.sk-toggleable {background-color: white;}#sk-container-id-39 label.sk-toggleable__label {cursor: pointer;display: block;width: 100%;margin-bottom: 0;padding: 0.3em;box-sizing: border-box;text-align: center;}#sk-container-id-39 label.sk-toggleable__label-arrow:before {content: \"▸\";float: left;margin-right: 0.25em;color: #696969;}#sk-container-id-39 label.sk-toggleable__label-arrow:hover:before {color: black;}#sk-container-id-39 div.sk-estimator:hover label.sk-toggleable__label-arrow:before {color: black;}#sk-container-id-39 div.sk-toggleable__content {max-height: 0;max-width: 0;overflow: hidden;text-align: left;background-color: #f0f8ff;}#sk-container-id-39 div.sk-toggleable__content pre {margin: 0.2em;color: black;border-radius: 0.25em;background-color: #f0f8ff;}#sk-container-id-39 input.sk-toggleable__control:checked~div.sk-toggleable__content {max-height: 200px;max-width: 100%;overflow: auto;}#sk-container-id-39 input.sk-toggleable__control:checked~label.sk-toggleable__label-arrow:before {content: \"▾\";}#sk-container-id-39 div.sk-estimator input.sk-toggleable__control:checked~label.sk-toggleable__label {background-color: #d4ebff;}#sk-container-id-39 div.sk-label input.sk-toggleable__control:checked~label.sk-toggleable__label {background-color: #d4ebff;}#sk-container-id-39 input.sk-hidden--visually {border: 0;clip: rect(1px 1px 1px 1px);clip: rect(1px, 1px, 1px, 1px);height: 1px;margin: -1px;overflow: hidden;padding: 0;position: absolute;width: 1px;}#sk-container-id-39 div.sk-estimator {font-family: monospace;background-color: #f0f8ff;border: 1px dotted black;border-radius: 0.25em;box-sizing: border-box;margin-bottom: 0.5em;}#sk-container-id-39 div.sk-estimator:hover {background-color: #d4ebff;}#sk-container-id-39 div.sk-parallel-item::after {content: \"\";width: 100%;border-bottom: 1px solid gray;flex-grow: 1;}#sk-container-id-39 div.sk-label:hover label.sk-toggleable__label {background-color: #d4ebff;}#sk-container-id-39 div.sk-serial::before {content: \"\";position: absolute;border-left: 1px solid gray;box-sizing: border-box;top: 0;bottom: 0;left: 50%;z-index: 0;}#sk-container-id-39 div.sk-serial {display: flex;flex-direction: column;align-items: center;background-color: white;padding-right: 0.2em;padding-left: 0.2em;position: relative;}#sk-container-id-39 div.sk-item {position: relative;z-index: 1;}#sk-container-id-39 div.sk-parallel {display: flex;align-items: stretch;justify-content: center;background-color: white;position: relative;}#sk-container-id-39 div.sk-item::before, #sk-container-id-39 div.sk-parallel-item::before {content: \"\";position: absolute;border-left: 1px solid gray;box-sizing: border-box;top: 0;bottom: 0;left: 50%;z-index: -1;}#sk-container-id-39 div.sk-parallel-item {display: flex;flex-direction: column;z-index: 1;position: relative;background-color: white;}#sk-container-id-39 div.sk-parallel-item:first-child::after {align-self: flex-end;width: 50%;}#sk-container-id-39 div.sk-parallel-item:last-child::after {align-self: flex-start;width: 50%;}#sk-container-id-39 div.sk-parallel-item:only-child::after {width: 0;}#sk-container-id-39 div.sk-dashed-wrapped {border: 1px dashed gray;margin: 0 0.4em 0.5em 0.4em;box-sizing: border-box;padding-bottom: 0.4em;background-color: white;}#sk-container-id-39 div.sk-label label {font-family: monospace;font-weight: bold;display: inline-block;line-height: 1.2em;}#sk-container-id-39 div.sk-label-container {text-align: center;}#sk-container-id-39 div.sk-container {/* jupyter's `normalize.less` sets `[hidden] { display: none; }` but bootstrap.min.css set `[hidden] { display: none !important; }` so we also need the `!important` here to be able to override the default hidden behavior on the sphinx rendered scikit-learn.org. See: https://github.com/scikit-learn/scikit-learn/issues/21755 */display: inline-block !important;position: relative;}#sk-container-id-39 div.sk-text-repr-fallback {display: none;}</style><div id=\"sk-container-id-39\" class=\"sk-top-container\"><div class=\"sk-text-repr-fallback\"><pre>GridSearchCV(cv=KFold(n_splits=10, random_state=124, shuffle=True),\n",
       "             estimator=RandomForestRegressor(random_state=124),\n",
       "             param_grid={&#x27;max_depth&#x27;: [2, 3, 4],\n",
       "                         &#x27;min_samples_split&#x27;: [50, 100, 150],\n",
       "                         &#x27;n_estimators&#x27;: [10, 50, 100, 500, 1000]},\n",
       "             scoring=&#x27;r2&#x27;)</pre><b>In a Jupyter environment, please rerun this cell to show the HTML representation or trust the notebook. <br />On GitHub, the HTML representation is unable to render, please try loading this page with nbviewer.org.</b></div><div class=\"sk-container\" hidden><div class=\"sk-item sk-dashed-wrapped\"><div class=\"sk-label-container\"><div class=\"sk-label sk-toggleable\"><input class=\"sk-toggleable__control sk-hidden--visually\" id=\"sk-estimator-id-45\" type=\"checkbox\" ><label for=\"sk-estimator-id-45\" class=\"sk-toggleable__label sk-toggleable__label-arrow\">GridSearchCV</label><div class=\"sk-toggleable__content\"><pre>GridSearchCV(cv=KFold(n_splits=10, random_state=124, shuffle=True),\n",
       "             estimator=RandomForestRegressor(random_state=124),\n",
       "             param_grid={&#x27;max_depth&#x27;: [2, 3, 4],\n",
       "                         &#x27;min_samples_split&#x27;: [50, 100, 150],\n",
       "                         &#x27;n_estimators&#x27;: [10, 50, 100, 500, 1000]},\n",
       "             scoring=&#x27;r2&#x27;)</pre></div></div></div><div class=\"sk-parallel\"><div class=\"sk-parallel-item\"><div class=\"sk-item\"><div class=\"sk-label-container\"><div class=\"sk-label sk-toggleable\"><input class=\"sk-toggleable__control sk-hidden--visually\" id=\"sk-estimator-id-46\" type=\"checkbox\" ><label for=\"sk-estimator-id-46\" class=\"sk-toggleable__label sk-toggleable__label-arrow\">estimator: RandomForestRegressor</label><div class=\"sk-toggleable__content\"><pre>RandomForestRegressor(random_state=124)</pre></div></div></div><div class=\"sk-serial\"><div class=\"sk-item\"><div class=\"sk-estimator sk-toggleable\"><input class=\"sk-toggleable__control sk-hidden--visually\" id=\"sk-estimator-id-47\" type=\"checkbox\" ><label for=\"sk-estimator-id-47\" class=\"sk-toggleable__label sk-toggleable__label-arrow\">RandomForestRegressor</label><div class=\"sk-toggleable__content\"><pre>RandomForestRegressor(random_state=124)</pre></div></div></div></div></div></div></div></div></div></div>"
      ],
      "text/plain": [
       "GridSearchCV(cv=KFold(n_splits=10, random_state=124, shuffle=True),\n",
       "             estimator=RandomForestRegressor(random_state=124),\n",
       "             param_grid={'max_depth': [2, 3, 4],\n",
       "                         'min_samples_split': [50, 100, 150],\n",
       "                         'n_estimators': [10, 50, 100, 500, 1000]},\n",
       "             scoring='r2')"
      ]
     },
     "execution_count": 150,
     "metadata": {},
     "output_type": "execute_result"
    }
   ],
   "source": [
    "from sklearn.model_selection import GridSearchCV\n",
    "from sklearn.ensemble import RandomForestRegressor\n",
    "from sklearn.model_selection import train_test_split\n",
    "from sklearn.model_selection import KFold\n",
    "\n",
    "features, targets = m_df.iloc[:, :-1], m_df.iloc[:, -1]\n",
    "\n",
    "X_train, X_test, y_train, y_test = \\\n",
    "train_test_split(features, targets, test_size=0.2, random_state=124)\n",
    "\n",
    "rf_r = RandomForestRegressor(random_state=124)\n",
    "\n",
    "parameters = {'max_depth': [2,3,4], 'min_samples_split': [50,100,150], 'n_estimators': [10, 50, 100, 500, 1000]}\n",
    "kfold = KFold(n_splits=10, random_state=124, shuffle=True)\n",
    "\n",
    "# grid_rf_r = GridSearchCV(rf_r, param_grid=parameters, scoring='neg_mean_squared_error', cv=kfold)\n",
    "grid_rf_r = GridSearchCV(rf_r, param_grid=parameters, scoring='r2', cv=kfold)\n",
    "grid_rf_r.fit(X_train, y_train)"
   ]
  },
  {
   "cell_type": "code",
   "execution_count": 151,
   "id": "bc1e5df9-6d0e-4e83-b755-4ee329d01402",
   "metadata": {},
   "outputs": [
    {
     "data": {
      "text/html": [
       "<div>\n",
       "<style scoped>\n",
       "    .dataframe tbody tr th:only-of-type {\n",
       "        vertical-align: middle;\n",
       "    }\n",
       "\n",
       "    .dataframe tbody tr th {\n",
       "        vertical-align: top;\n",
       "    }\n",
       "\n",
       "    .dataframe thead th {\n",
       "        text-align: right;\n",
       "    }\n",
       "</style>\n",
       "<table border=\"1\" class=\"dataframe\">\n",
       "  <thead>\n",
       "    <tr style=\"text-align: right;\">\n",
       "      <th></th>\n",
       "      <th>params</th>\n",
       "      <th>mean_test_score</th>\n",
       "      <th>rank_test_score</th>\n",
       "    </tr>\n",
       "  </thead>\n",
       "  <tbody>\n",
       "    <tr>\n",
       "      <th>0</th>\n",
       "      <td>{'max_depth': 2, 'min_samples_split': 50, 'n_e...</td>\n",
       "      <td>0.967181</td>\n",
       "      <td>43</td>\n",
       "    </tr>\n",
       "    <tr>\n",
       "      <th>1</th>\n",
       "      <td>{'max_depth': 2, 'min_samples_split': 50, 'n_e...</td>\n",
       "      <td>0.967256</td>\n",
       "      <td>40</td>\n",
       "    </tr>\n",
       "    <tr>\n",
       "      <th>2</th>\n",
       "      <td>{'max_depth': 2, 'min_samples_split': 50, 'n_e...</td>\n",
       "      <td>0.967291</td>\n",
       "      <td>37</td>\n",
       "    </tr>\n",
       "    <tr>\n",
       "      <th>3</th>\n",
       "      <td>{'max_depth': 2, 'min_samples_split': 50, 'n_e...</td>\n",
       "      <td>0.967433</td>\n",
       "      <td>34</td>\n",
       "    </tr>\n",
       "    <tr>\n",
       "      <th>4</th>\n",
       "      <td>{'max_depth': 2, 'min_samples_split': 50, 'n_e...</td>\n",
       "      <td>0.967437</td>\n",
       "      <td>31</td>\n",
       "    </tr>\n",
       "    <tr>\n",
       "      <th>5</th>\n",
       "      <td>{'max_depth': 2, 'min_samples_split': 100, 'n_...</td>\n",
       "      <td>0.967181</td>\n",
       "      <td>43</td>\n",
       "    </tr>\n",
       "    <tr>\n",
       "      <th>6</th>\n",
       "      <td>{'max_depth': 2, 'min_samples_split': 100, 'n_...</td>\n",
       "      <td>0.967256</td>\n",
       "      <td>40</td>\n",
       "    </tr>\n",
       "    <tr>\n",
       "      <th>7</th>\n",
       "      <td>{'max_depth': 2, 'min_samples_split': 100, 'n_...</td>\n",
       "      <td>0.967291</td>\n",
       "      <td>37</td>\n",
       "    </tr>\n",
       "    <tr>\n",
       "      <th>8</th>\n",
       "      <td>{'max_depth': 2, 'min_samples_split': 100, 'n_...</td>\n",
       "      <td>0.967433</td>\n",
       "      <td>34</td>\n",
       "    </tr>\n",
       "    <tr>\n",
       "      <th>9</th>\n",
       "      <td>{'max_depth': 2, 'min_samples_split': 100, 'n_...</td>\n",
       "      <td>0.967437</td>\n",
       "      <td>31</td>\n",
       "    </tr>\n",
       "    <tr>\n",
       "      <th>10</th>\n",
       "      <td>{'max_depth': 2, 'min_samples_split': 150, 'n_...</td>\n",
       "      <td>0.967181</td>\n",
       "      <td>43</td>\n",
       "    </tr>\n",
       "    <tr>\n",
       "      <th>11</th>\n",
       "      <td>{'max_depth': 2, 'min_samples_split': 150, 'n_...</td>\n",
       "      <td>0.967256</td>\n",
       "      <td>40</td>\n",
       "    </tr>\n",
       "    <tr>\n",
       "      <th>12</th>\n",
       "      <td>{'max_depth': 2, 'min_samples_split': 150, 'n_...</td>\n",
       "      <td>0.967291</td>\n",
       "      <td>37</td>\n",
       "    </tr>\n",
       "    <tr>\n",
       "      <th>13</th>\n",
       "      <td>{'max_depth': 2, 'min_samples_split': 150, 'n_...</td>\n",
       "      <td>0.967433</td>\n",
       "      <td>34</td>\n",
       "    </tr>\n",
       "    <tr>\n",
       "      <th>14</th>\n",
       "      <td>{'max_depth': 2, 'min_samples_split': 150, 'n_...</td>\n",
       "      <td>0.967437</td>\n",
       "      <td>31</td>\n",
       "    </tr>\n",
       "    <tr>\n",
       "      <th>15</th>\n",
       "      <td>{'max_depth': 3, 'min_samples_split': 50, 'n_e...</td>\n",
       "      <td>0.993295</td>\n",
       "      <td>10</td>\n",
       "    </tr>\n",
       "    <tr>\n",
       "      <th>16</th>\n",
       "      <td>{'max_depth': 3, 'min_samples_split': 50, 'n_e...</td>\n",
       "      <td>0.993520</td>\n",
       "      <td>9</td>\n",
       "    </tr>\n",
       "    <tr>\n",
       "      <th>17</th>\n",
       "      <td>{'max_depth': 3, 'min_samples_split': 50, 'n_e...</td>\n",
       "      <td>0.993571</td>\n",
       "      <td>8</td>\n",
       "    </tr>\n",
       "    <tr>\n",
       "      <th>18</th>\n",
       "      <td>{'max_depth': 3, 'min_samples_split': 50, 'n_e...</td>\n",
       "      <td>0.993603</td>\n",
       "      <td>7</td>\n",
       "    </tr>\n",
       "    <tr>\n",
       "      <th>19</th>\n",
       "      <td>{'max_depth': 3, 'min_samples_split': 50, 'n_e...</td>\n",
       "      <td>0.993622</td>\n",
       "      <td>6</td>\n",
       "    </tr>\n",
       "    <tr>\n",
       "      <th>20</th>\n",
       "      <td>{'max_depth': 3, 'min_samples_split': 100, 'n_...</td>\n",
       "      <td>0.985627</td>\n",
       "      <td>25</td>\n",
       "    </tr>\n",
       "    <tr>\n",
       "      <th>21</th>\n",
       "      <td>{'max_depth': 3, 'min_samples_split': 100, 'n_...</td>\n",
       "      <td>0.985883</td>\n",
       "      <td>24</td>\n",
       "    </tr>\n",
       "    <tr>\n",
       "      <th>22</th>\n",
       "      <td>{'max_depth': 3, 'min_samples_split': 100, 'n_...</td>\n",
       "      <td>0.985988</td>\n",
       "      <td>22</td>\n",
       "    </tr>\n",
       "    <tr>\n",
       "      <th>23</th>\n",
       "      <td>{'max_depth': 3, 'min_samples_split': 100, 'n_...</td>\n",
       "      <td>0.986084</td>\n",
       "      <td>21</td>\n",
       "    </tr>\n",
       "    <tr>\n",
       "      <th>24</th>\n",
       "      <td>{'max_depth': 3, 'min_samples_split': 100, 'n_...</td>\n",
       "      <td>0.986095</td>\n",
       "      <td>20</td>\n",
       "    </tr>\n",
       "    <tr>\n",
       "      <th>25</th>\n",
       "      <td>{'max_depth': 3, 'min_samples_split': 150, 'n_...</td>\n",
       "      <td>0.984983</td>\n",
       "      <td>30</td>\n",
       "    </tr>\n",
       "    <tr>\n",
       "      <th>26</th>\n",
       "      <td>{'max_depth': 3, 'min_samples_split': 150, 'n_...</td>\n",
       "      <td>0.985116</td>\n",
       "      <td>29</td>\n",
       "    </tr>\n",
       "    <tr>\n",
       "      <th>27</th>\n",
       "      <td>{'max_depth': 3, 'min_samples_split': 150, 'n_...</td>\n",
       "      <td>0.985159</td>\n",
       "      <td>28</td>\n",
       "    </tr>\n",
       "    <tr>\n",
       "      <th>28</th>\n",
       "      <td>{'max_depth': 3, 'min_samples_split': 150, 'n_...</td>\n",
       "      <td>0.985190</td>\n",
       "      <td>26</td>\n",
       "    </tr>\n",
       "    <tr>\n",
       "      <th>29</th>\n",
       "      <td>{'max_depth': 3, 'min_samples_split': 150, 'n_...</td>\n",
       "      <td>0.985184</td>\n",
       "      <td>27</td>\n",
       "    </tr>\n",
       "    <tr>\n",
       "      <th>30</th>\n",
       "      <td>{'max_depth': 4, 'min_samples_split': 50, 'n_e...</td>\n",
       "      <td>0.995819</td>\n",
       "      <td>5</td>\n",
       "    </tr>\n",
       "    <tr>\n",
       "      <th>31</th>\n",
       "      <td>{'max_depth': 4, 'min_samples_split': 50, 'n_e...</td>\n",
       "      <td>0.996090</td>\n",
       "      <td>4</td>\n",
       "    </tr>\n",
       "    <tr>\n",
       "      <th>32</th>\n",
       "      <td>{'max_depth': 4, 'min_samples_split': 50, 'n_e...</td>\n",
       "      <td>0.996168</td>\n",
       "      <td>3</td>\n",
       "    </tr>\n",
       "    <tr>\n",
       "      <th>33</th>\n",
       "      <td>{'max_depth': 4, 'min_samples_split': 50, 'n_e...</td>\n",
       "      <td>0.996174</td>\n",
       "      <td>2</td>\n",
       "    </tr>\n",
       "    <tr>\n",
       "      <th>34</th>\n",
       "      <td>{'max_depth': 4, 'min_samples_split': 50, 'n_e...</td>\n",
       "      <td>0.996185</td>\n",
       "      <td>1</td>\n",
       "    </tr>\n",
       "    <tr>\n",
       "      <th>35</th>\n",
       "      <td>{'max_depth': 4, 'min_samples_split': 100, 'n_...</td>\n",
       "      <td>0.987027</td>\n",
       "      <td>15</td>\n",
       "    </tr>\n",
       "    <tr>\n",
       "      <th>36</th>\n",
       "      <td>{'max_depth': 4, 'min_samples_split': 100, 'n_...</td>\n",
       "      <td>0.987329</td>\n",
       "      <td>14</td>\n",
       "    </tr>\n",
       "    <tr>\n",
       "      <th>37</th>\n",
       "      <td>{'max_depth': 4, 'min_samples_split': 100, 'n_...</td>\n",
       "      <td>0.987460</td>\n",
       "      <td>13</td>\n",
       "    </tr>\n",
       "    <tr>\n",
       "      <th>38</th>\n",
       "      <td>{'max_depth': 4, 'min_samples_split': 100, 'n_...</td>\n",
       "      <td>0.987533</td>\n",
       "      <td>12</td>\n",
       "    </tr>\n",
       "    <tr>\n",
       "      <th>39</th>\n",
       "      <td>{'max_depth': 4, 'min_samples_split': 100, 'n_...</td>\n",
       "      <td>0.987537</td>\n",
       "      <td>11</td>\n",
       "    </tr>\n",
       "    <tr>\n",
       "      <th>40</th>\n",
       "      <td>{'max_depth': 4, 'min_samples_split': 150, 'n_...</td>\n",
       "      <td>0.985983</td>\n",
       "      <td>23</td>\n",
       "    </tr>\n",
       "    <tr>\n",
       "      <th>41</th>\n",
       "      <td>{'max_depth': 4, 'min_samples_split': 150, 'n_...</td>\n",
       "      <td>0.986341</td>\n",
       "      <td>19</td>\n",
       "    </tr>\n",
       "    <tr>\n",
       "      <th>42</th>\n",
       "      <td>{'max_depth': 4, 'min_samples_split': 150, 'n_...</td>\n",
       "      <td>0.986437</td>\n",
       "      <td>18</td>\n",
       "    </tr>\n",
       "    <tr>\n",
       "      <th>43</th>\n",
       "      <td>{'max_depth': 4, 'min_samples_split': 150, 'n_...</td>\n",
       "      <td>0.986465</td>\n",
       "      <td>16</td>\n",
       "    </tr>\n",
       "    <tr>\n",
       "      <th>44</th>\n",
       "      <td>{'max_depth': 4, 'min_samples_split': 150, 'n_...</td>\n",
       "      <td>0.986445</td>\n",
       "      <td>17</td>\n",
       "    </tr>\n",
       "  </tbody>\n",
       "</table>\n",
       "</div>"
      ],
      "text/plain": [
       "                                               params  mean_test_score  \\\n",
       "0   {'max_depth': 2, 'min_samples_split': 50, 'n_e...         0.967181   \n",
       "1   {'max_depth': 2, 'min_samples_split': 50, 'n_e...         0.967256   \n",
       "2   {'max_depth': 2, 'min_samples_split': 50, 'n_e...         0.967291   \n",
       "3   {'max_depth': 2, 'min_samples_split': 50, 'n_e...         0.967433   \n",
       "4   {'max_depth': 2, 'min_samples_split': 50, 'n_e...         0.967437   \n",
       "5   {'max_depth': 2, 'min_samples_split': 100, 'n_...         0.967181   \n",
       "6   {'max_depth': 2, 'min_samples_split': 100, 'n_...         0.967256   \n",
       "7   {'max_depth': 2, 'min_samples_split': 100, 'n_...         0.967291   \n",
       "8   {'max_depth': 2, 'min_samples_split': 100, 'n_...         0.967433   \n",
       "9   {'max_depth': 2, 'min_samples_split': 100, 'n_...         0.967437   \n",
       "10  {'max_depth': 2, 'min_samples_split': 150, 'n_...         0.967181   \n",
       "11  {'max_depth': 2, 'min_samples_split': 150, 'n_...         0.967256   \n",
       "12  {'max_depth': 2, 'min_samples_split': 150, 'n_...         0.967291   \n",
       "13  {'max_depth': 2, 'min_samples_split': 150, 'n_...         0.967433   \n",
       "14  {'max_depth': 2, 'min_samples_split': 150, 'n_...         0.967437   \n",
       "15  {'max_depth': 3, 'min_samples_split': 50, 'n_e...         0.993295   \n",
       "16  {'max_depth': 3, 'min_samples_split': 50, 'n_e...         0.993520   \n",
       "17  {'max_depth': 3, 'min_samples_split': 50, 'n_e...         0.993571   \n",
       "18  {'max_depth': 3, 'min_samples_split': 50, 'n_e...         0.993603   \n",
       "19  {'max_depth': 3, 'min_samples_split': 50, 'n_e...         0.993622   \n",
       "20  {'max_depth': 3, 'min_samples_split': 100, 'n_...         0.985627   \n",
       "21  {'max_depth': 3, 'min_samples_split': 100, 'n_...         0.985883   \n",
       "22  {'max_depth': 3, 'min_samples_split': 100, 'n_...         0.985988   \n",
       "23  {'max_depth': 3, 'min_samples_split': 100, 'n_...         0.986084   \n",
       "24  {'max_depth': 3, 'min_samples_split': 100, 'n_...         0.986095   \n",
       "25  {'max_depth': 3, 'min_samples_split': 150, 'n_...         0.984983   \n",
       "26  {'max_depth': 3, 'min_samples_split': 150, 'n_...         0.985116   \n",
       "27  {'max_depth': 3, 'min_samples_split': 150, 'n_...         0.985159   \n",
       "28  {'max_depth': 3, 'min_samples_split': 150, 'n_...         0.985190   \n",
       "29  {'max_depth': 3, 'min_samples_split': 150, 'n_...         0.985184   \n",
       "30  {'max_depth': 4, 'min_samples_split': 50, 'n_e...         0.995819   \n",
       "31  {'max_depth': 4, 'min_samples_split': 50, 'n_e...         0.996090   \n",
       "32  {'max_depth': 4, 'min_samples_split': 50, 'n_e...         0.996168   \n",
       "33  {'max_depth': 4, 'min_samples_split': 50, 'n_e...         0.996174   \n",
       "34  {'max_depth': 4, 'min_samples_split': 50, 'n_e...         0.996185   \n",
       "35  {'max_depth': 4, 'min_samples_split': 100, 'n_...         0.987027   \n",
       "36  {'max_depth': 4, 'min_samples_split': 100, 'n_...         0.987329   \n",
       "37  {'max_depth': 4, 'min_samples_split': 100, 'n_...         0.987460   \n",
       "38  {'max_depth': 4, 'min_samples_split': 100, 'n_...         0.987533   \n",
       "39  {'max_depth': 4, 'min_samples_split': 100, 'n_...         0.987537   \n",
       "40  {'max_depth': 4, 'min_samples_split': 150, 'n_...         0.985983   \n",
       "41  {'max_depth': 4, 'min_samples_split': 150, 'n_...         0.986341   \n",
       "42  {'max_depth': 4, 'min_samples_split': 150, 'n_...         0.986437   \n",
       "43  {'max_depth': 4, 'min_samples_split': 150, 'n_...         0.986465   \n",
       "44  {'max_depth': 4, 'min_samples_split': 150, 'n_...         0.986445   \n",
       "\n",
       "    rank_test_score  \n",
       "0                43  \n",
       "1                40  \n",
       "2                37  \n",
       "3                34  \n",
       "4                31  \n",
       "5                43  \n",
       "6                40  \n",
       "7                37  \n",
       "8                34  \n",
       "9                31  \n",
       "10               43  \n",
       "11               40  \n",
       "12               37  \n",
       "13               34  \n",
       "14               31  \n",
       "15               10  \n",
       "16                9  \n",
       "17                8  \n",
       "18                7  \n",
       "19                6  \n",
       "20               25  \n",
       "21               24  \n",
       "22               22  \n",
       "23               21  \n",
       "24               20  \n",
       "25               30  \n",
       "26               29  \n",
       "27               28  \n",
       "28               26  \n",
       "29               27  \n",
       "30                5  \n",
       "31                4  \n",
       "32                3  \n",
       "33                2  \n",
       "34                1  \n",
       "35               15  \n",
       "36               14  \n",
       "37               13  \n",
       "38               12  \n",
       "39               11  \n",
       "40               23  \n",
       "41               19  \n",
       "42               18  \n",
       "43               16  \n",
       "44               17  "
      ]
     },
     "metadata": {},
     "output_type": "display_data"
    }
   ],
   "source": [
    "result_df = pd.DataFrame(grid_rf_r.cv_results_)[['params', 'mean_test_score', 'rank_test_score']]\n",
    "display(result_df)"
   ]
  },
  {
   "cell_type": "code",
   "execution_count": 152,
   "id": "7cd1ba33-cf18-4c17-9ee1-d6b850bdaee7",
   "metadata": {},
   "outputs": [
    {
     "data": {
      "text/html": [
       "<div>\n",
       "<style scoped>\n",
       "    .dataframe tbody tr th:only-of-type {\n",
       "        vertical-align: middle;\n",
       "    }\n",
       "\n",
       "    .dataframe tbody tr th {\n",
       "        vertical-align: top;\n",
       "    }\n",
       "\n",
       "    .dataframe thead th {\n",
       "        text-align: right;\n",
       "    }\n",
       "</style>\n",
       "<table border=\"1\" class=\"dataframe\">\n",
       "  <thead>\n",
       "    <tr style=\"text-align: right;\">\n",
       "      <th></th>\n",
       "      <th>params</th>\n",
       "      <th>mean_test_score</th>\n",
       "      <th>rank_test_score</th>\n",
       "    </tr>\n",
       "  </thead>\n",
       "  <tbody>\n",
       "    <tr>\n",
       "      <th>34</th>\n",
       "      <td>{'max_depth': 4, 'min_samples_split': 50, 'n_e...</td>\n",
       "      <td>0.996185</td>\n",
       "      <td>1</td>\n",
       "    </tr>\n",
       "  </tbody>\n",
       "</table>\n",
       "</div>"
      ],
      "text/plain": [
       "                                               params  mean_test_score  \\\n",
       "34  {'max_depth': 4, 'min_samples_split': 50, 'n_e...         0.996185   \n",
       "\n",
       "    rank_test_score  \n",
       "34                1  "
      ]
     },
     "metadata": {},
     "output_type": "display_data"
    }
   ],
   "source": [
    "best_result = result_df[result_df['mean_test_score'] == result_df['mean_test_score'].max()]\n",
    "display(best_result)\n"
   ]
  },
  {
   "cell_type": "code",
   "execution_count": null,
   "id": "a3ef3ad7-3a21-4039-ab20-1cbbb72dae1d",
   "metadata": {},
   "outputs": [],
   "source": []
  },
  {
   "cell_type": "code",
   "execution_count": null,
   "id": "9eee59b1-31c8-4ab2-884a-54e65c0e107d",
   "metadata": {},
   "outputs": [],
   "source": []
  },
  {
   "cell_type": "code",
   "execution_count": null,
   "id": "6e55c2a9-81d8-464f-b8b0-d8bef05feb09",
   "metadata": {},
   "outputs": [],
   "source": []
  },
  {
   "cell_type": "code",
   "execution_count": null,
   "id": "734cdcfc-2640-49af-8060-643e13a901eb",
   "metadata": {},
   "outputs": [],
   "source": []
  },
  {
   "cell_type": "code",
   "execution_count": null,
   "id": "95a05cb2-4499-45c4-ac65-b8cd24956be0",
   "metadata": {},
   "outputs": [],
   "source": []
  },
  {
   "cell_type": "code",
   "execution_count": null,
   "id": "b9cfc623-035b-479a-b32d-336d582f6e55",
   "metadata": {},
   "outputs": [],
   "source": []
  },
  {
   "cell_type": "code",
   "execution_count": null,
   "id": "9a2acc34-61dc-4e5b-aa59-3cb0af406e18",
   "metadata": {},
   "outputs": [],
   "source": []
  },
  {
   "cell_type": "code",
   "execution_count": null,
   "id": "ed4a69f3-4fa6-4970-87cd-de2c02d0648a",
   "metadata": {},
   "outputs": [],
   "source": []
  },
  {
   "cell_type": "code",
   "execution_count": null,
   "id": "0565f4e6-bf02-4576-bd17-74c37fb52189",
   "metadata": {},
   "outputs": [],
   "source": []
  },
  {
   "cell_type": "code",
   "execution_count": null,
   "id": "51229b25-2c82-4a8e-b14b-fe66af61f58a",
   "metadata": {},
   "outputs": [],
   "source": []
  },
  {
   "cell_type": "code",
   "execution_count": null,
   "id": "5ab72af1-6a03-4f9f-92a6-4386b3ca1421",
   "metadata": {},
   "outputs": [],
   "source": []
  },
  {
   "cell_type": "code",
   "execution_count": null,
   "id": "17adae61-bb2b-4c23-88e0-4779126697e6",
   "metadata": {},
   "outputs": [],
   "source": []
  },
  {
   "cell_type": "code",
   "execution_count": null,
   "id": "b89eb689-08c1-4cfe-bb84-50256c79c27b",
   "metadata": {},
   "outputs": [],
   "source": []
  },
  {
   "cell_type": "code",
   "execution_count": null,
   "id": "ec266233-4e37-4d5c-9aa4-dcdc4071f018",
   "metadata": {},
   "outputs": [],
   "source": []
  },
  {
   "cell_type": "code",
   "execution_count": null,
   "id": "e14342dc-4c92-4f3c-83c8-2a9a02e337ee",
   "metadata": {},
   "outputs": [],
   "source": []
  },
  {
   "cell_type": "code",
   "execution_count": null,
   "id": "78929ceb-7d1d-401c-b023-28e847611b28",
   "metadata": {},
   "outputs": [],
   "source": []
  },
  {
   "cell_type": "code",
   "execution_count": null,
   "id": "b0af1f22-3a17-49f5-82f6-4a58bee9a522",
   "metadata": {},
   "outputs": [],
   "source": []
  },
  {
   "cell_type": "code",
   "execution_count": null,
   "id": "cbafdba1-0a35-42f5-93f5-43fc92211191",
   "metadata": {},
   "outputs": [],
   "source": []
  },
  {
   "cell_type": "code",
   "execution_count": null,
   "id": "5a44a916-ce87-4939-ac7e-d9fcaa1f5c7c",
   "metadata": {},
   "outputs": [],
   "source": []
  },
  {
   "cell_type": "code",
   "execution_count": null,
   "id": "05c4bbb6-87ee-48c6-9bc6-7f99f4134382",
   "metadata": {},
   "outputs": [],
   "source": []
  },
  {
   "cell_type": "code",
   "execution_count": null,
   "id": "7df7706a-3e45-4850-85f4-7a7398a6a691",
   "metadata": {},
   "outputs": [],
   "source": []
  },
  {
   "cell_type": "code",
   "execution_count": null,
   "id": "6b232373-07cf-41b0-8945-9fbaf37e1bd5",
   "metadata": {},
   "outputs": [],
   "source": []
  },
  {
   "cell_type": "code",
   "execution_count": null,
   "id": "8bf586cf-c954-4b87-9cc8-b47b33e32e3c",
   "metadata": {},
   "outputs": [],
   "source": []
  },
  {
   "cell_type": "code",
   "execution_count": null,
   "id": "5653779b-0f81-46fe-9fc4-e62ba0fee58f",
   "metadata": {},
   "outputs": [],
   "source": []
  },
  {
   "cell_type": "code",
   "execution_count": null,
   "id": "e37ccd78-e04c-4f0d-a1d5-cda5fa8cae5a",
   "metadata": {},
   "outputs": [],
   "source": []
  },
  {
   "cell_type": "code",
   "execution_count": null,
   "id": "8bc6713b-968c-4f2d-baa7-c8abe6258ac1",
   "metadata": {},
   "outputs": [],
   "source": []
  },
  {
   "cell_type": "code",
   "execution_count": null,
   "id": "ceafac4a-986f-46b1-8197-04cc700d57af",
   "metadata": {},
   "outputs": [],
   "source": []
  },
  {
   "cell_type": "code",
   "execution_count": null,
   "id": "f8226a5b-15e1-4154-baf5-f4e33e7791cb",
   "metadata": {},
   "outputs": [],
   "source": []
  },
  {
   "cell_type": "code",
   "execution_count": null,
   "id": "84a7c842-b124-4123-8624-2301ad8cce94",
   "metadata": {},
   "outputs": [],
   "source": []
  }
 ],
 "metadata": {
  "kernelspec": {
   "display_name": "Python 3 (ipykernel)",
   "language": "python",
   "name": "python3"
  },
  "language_info": {
   "codemirror_mode": {
    "name": "ipython",
    "version": 3
   },
   "file_extension": ".py",
   "mimetype": "text/x-python",
   "name": "python",
   "nbconvert_exporter": "python",
   "pygments_lexer": "ipython3",
   "version": "3.11.8"
  }
 },
 "nbformat": 4,
 "nbformat_minor": 5
}
