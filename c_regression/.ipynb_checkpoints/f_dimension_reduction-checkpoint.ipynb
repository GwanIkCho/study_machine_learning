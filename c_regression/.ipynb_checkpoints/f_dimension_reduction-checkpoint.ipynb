{
 "cells": [
  {
   "cell_type": "markdown",
   "id": "d5253cc3-2335-434c-acef-43d31622b36f",
   "metadata": {},
   "source": [
    "### Dimension Reduction (차원 축소)\n",
    "- 우리가 다루는 데이터들은 보통 3차원 공간에서는 표현하기 힘든 고차원의 데이터인 경우가 많다.\n",
    "- 차원이 커질 수록 데이터 간 거리가 크게 늘어나며, 데이터가 희소화된다.\n",
    "- 고차원을 이루는 feature 중 상대적으로 중요도가 떨어지는 feature가 존재할 수 있기 때문에\n",
    "  계산 비용이 많이 들고 분석에 필요한 시각화가 어렵다.\n",
    "- 머신러닝에서는 고차원 데이터를 다루는 경우가 많으며, 희소 데이터를 학습 시 예측 성능이 좋지 않다.\n",
    "- 차원 축소를 통해 Spares Date를 Dense하게 만들 필요가 있다.\n",
    "- feature가 많을경우 독립변수 간 상관관계가 높아질 가능성이 높고, 이로인해 다중 공선성문제가 발생할 수 있다.\n",
    "- 차원 축소로 인해 표현력이 일부 손실되지만, 손실을 감수하더라도 계산 효울을 얻기 위해 사용한다.\n",
    "  \n",
    "---\n",
    "#### PCA (Principal ComPonent Analysis), 주성분 분석\n",
    "- 고차원의 데이터를 저차원으로 압축하는 대표적인 차원 축소방법이다.\n",
    "- 데이터의 특성을 눈으로 쉽게 파악할 수 있드록 하며, 연산 속도에 큰 이점을 얻을 수 있다.\n",
    "- 고차원 데이터를 저차원 데이터로 압축하기 위해서는 먼저, 데이터를 가장 잘 표현하는 축을 설정해야 한다.\n",
    "\n",
    "\n",
    "<>\n",
    "  \n",
    "#### LDA ()"
   ]
  },
  {
   "cell_type": "code",
   "execution_count": null,
   "id": "cbe92243-ecb6-4fb2-9299-fc5b5a2f65f0",
   "metadata": {},
   "outputs": [],
   "source": []
  },
  {
   "cell_type": "code",
   "execution_count": null,
   "id": "5e576079-8468-4365-899f-27793c2368c9",
   "metadata": {},
   "outputs": [],
   "source": []
  },
  {
   "cell_type": "code",
   "execution_count": null,
   "id": "af9e7683-0b1a-4386-9dc2-9d1efc764fda",
   "metadata": {},
   "outputs": [],
   "source": []
  },
  {
   "cell_type": "code",
   "execution_count": null,
   "id": "c021ef75-cf86-43c4-8c56-5f6425dbe83d",
   "metadata": {},
   "outputs": [],
   "source": []
  },
  {
   "cell_type": "code",
   "execution_count": null,
   "id": "9ea814c7-443f-4bcb-87f1-18e48e7bf9fb",
   "metadata": {},
   "outputs": [],
   "source": []
  },
  {
   "cell_type": "code",
   "execution_count": null,
   "id": "c144e60b-c165-408f-a8d0-252232e65a3c",
   "metadata": {},
   "outputs": [],
   "source": []
  },
  {
   "cell_type": "code",
   "execution_count": null,
   "id": "a05651c0-2a92-4b1b-b022-a242d7217fb4",
   "metadata": {},
   "outputs": [],
   "source": []
  },
  {
   "cell_type": "code",
   "execution_count": null,
   "id": "cb12c645-dbe7-4005-869d-8de904049c5d",
   "metadata": {},
   "outputs": [],
   "source": []
  },
  {
   "cell_type": "code",
   "execution_count": null,
   "id": "e1c7435a-3385-479a-8000-3db9c9b515e9",
   "metadata": {},
   "outputs": [],
   "source": []
  },
  {
   "cell_type": "code",
   "execution_count": null,
   "id": "45635a49-499e-41b6-bed5-88fb0ba5b1b3",
   "metadata": {},
   "outputs": [],
   "source": []
  },
  {
   "cell_type": "code",
   "execution_count": null,
   "id": "29d90084-f4ea-45e9-81c5-f3e5d4c60bd9",
   "metadata": {},
   "outputs": [],
   "source": []
  },
  {
   "cell_type": "code",
   "execution_count": null,
   "id": "87bfacb5-4169-4fa7-b20b-eb4e6c7bceb1",
   "metadata": {},
   "outputs": [],
   "source": []
  },
  {
   "cell_type": "code",
   "execution_count": null,
   "id": "f30bff15-9eb7-420a-a16d-3383a4f28139",
   "metadata": {},
   "outputs": [],
   "source": []
  },
  {
   "cell_type": "code",
   "execution_count": null,
   "id": "d58c960f-c7d0-477a-9a8d-0dcfc1943590",
   "metadata": {},
   "outputs": [],
   "source": []
  },
  {
   "cell_type": "code",
   "execution_count": null,
   "id": "39eb24fd-ba3f-4675-ad0d-b27dc3288644",
   "metadata": {},
   "outputs": [],
   "source": []
  },
  {
   "cell_type": "code",
   "execution_count": null,
   "id": "1d2488bd-587e-42e7-8605-810fc64ee557",
   "metadata": {},
   "outputs": [],
   "source": []
  },
  {
   "cell_type": "code",
   "execution_count": null,
   "id": "3b369eb2-d4c4-4956-8965-2084162133ca",
   "metadata": {},
   "outputs": [],
   "source": []
  },
  {
   "cell_type": "code",
   "execution_count": null,
   "id": "3612a415-4774-4884-8fdb-a3ca1e14d0fd",
   "metadata": {},
   "outputs": [],
   "source": []
  },
  {
   "cell_type": "code",
   "execution_count": null,
   "id": "bad52cf6-310a-4962-b6f8-6101e3978c6b",
   "metadata": {},
   "outputs": [],
   "source": []
  },
  {
   "cell_type": "code",
   "execution_count": null,
   "id": "9902766a-aa6b-4cb0-b935-cc2c2083d3ff",
   "metadata": {},
   "outputs": [],
   "source": []
  },
  {
   "cell_type": "code",
   "execution_count": null,
   "id": "8abf62bd-16fb-4491-92d2-531c90de5047",
   "metadata": {},
   "outputs": [],
   "source": []
  },
  {
   "cell_type": "code",
   "execution_count": null,
   "id": "b9f9f9ff-ddec-4d25-a1ff-72c7b61cf738",
   "metadata": {},
   "outputs": [],
   "source": []
  },
  {
   "cell_type": "code",
   "execution_count": null,
   "id": "31674d7f-9f3e-4af5-98de-e5c0db311767",
   "metadata": {},
   "outputs": [],
   "source": []
  },
  {
   "cell_type": "code",
   "execution_count": null,
   "id": "fe43aa71-5741-4043-afbb-da36462b2159",
   "metadata": {},
   "outputs": [],
   "source": []
  },
  {
   "cell_type": "code",
   "execution_count": null,
   "id": "e4df1bcc-651f-427d-a067-dc81317fb458",
   "metadata": {},
   "outputs": [],
   "source": []
  },
  {
   "cell_type": "code",
   "execution_count": null,
   "id": "bbeed136-9f3d-435a-a38f-c0e914981fc1",
   "metadata": {},
   "outputs": [],
   "source": []
  },
  {
   "cell_type": "code",
   "execution_count": null,
   "id": "58fad2cd-56d8-46c4-b8be-161526ed8808",
   "metadata": {},
   "outputs": [],
   "source": []
  },
  {
   "cell_type": "code",
   "execution_count": null,
   "id": "93316e5b-8b4a-4918-a0f1-55deacbe74f7",
   "metadata": {},
   "outputs": [],
   "source": []
  },
  {
   "cell_type": "code",
   "execution_count": null,
   "id": "bacb44be-3f53-4969-a5ff-21daaf972ce1",
   "metadata": {},
   "outputs": [],
   "source": []
  },
  {
   "cell_type": "code",
   "execution_count": null,
   "id": "09d03121-6501-4a4a-8461-bbf149bb7e24",
   "metadata": {},
   "outputs": [],
   "source": []
  },
  {
   "cell_type": "code",
   "execution_count": null,
   "id": "8f1c5467-7e73-453b-a222-52732b9a884a",
   "metadata": {},
   "outputs": [],
   "source": []
  },
  {
   "cell_type": "code",
   "execution_count": null,
   "id": "6f2308d2-1c47-4d3b-95b8-d4f13bce6f55",
   "metadata": {},
   "outputs": [],
   "source": []
  },
  {
   "cell_type": "code",
   "execution_count": null,
   "id": "789ec4ed-4b16-44a9-9c72-ddafc442412d",
   "metadata": {},
   "outputs": [],
   "source": []
  },
  {
   "cell_type": "code",
   "execution_count": null,
   "id": "e114193e-0c7b-411e-b172-ee24aabcf7d8",
   "metadata": {},
   "outputs": [],
   "source": []
  },
  {
   "cell_type": "code",
   "execution_count": null,
   "id": "6e865437-9be8-4aec-ac65-eda4df5e8e19",
   "metadata": {},
   "outputs": [],
   "source": []
  },
  {
   "cell_type": "code",
   "execution_count": null,
   "id": "5aa629ec-7b72-443f-9467-fcbf582660e9",
   "metadata": {},
   "outputs": [],
   "source": []
  },
  {
   "cell_type": "code",
   "execution_count": null,
   "id": "57a4c720-5c9d-4b98-9439-a8dc057af1ba",
   "metadata": {},
   "outputs": [],
   "source": []
  },
  {
   "cell_type": "code",
   "execution_count": null,
   "id": "c1a8ffe0-1013-42aa-8fa8-171906a076de",
   "metadata": {},
   "outputs": [],
   "source": []
  },
  {
   "cell_type": "code",
   "execution_count": null,
   "id": "a9218d69-e211-475d-85f3-7f11f43870a2",
   "metadata": {},
   "outputs": [],
   "source": []
  },
  {
   "cell_type": "code",
   "execution_count": null,
   "id": "abc75ce8-3ce1-4079-a7f3-fd864393a69b",
   "metadata": {},
   "outputs": [],
   "source": []
  },
  {
   "cell_type": "code",
   "execution_count": null,
   "id": "48a68c38-ea6f-4b98-adef-c6613ad39b12",
   "metadata": {},
   "outputs": [],
   "source": []
  },
  {
   "cell_type": "code",
   "execution_count": null,
   "id": "89004deb-169f-4f18-9ecd-0070e9c4ec83",
   "metadata": {},
   "outputs": [],
   "source": []
  },
  {
   "cell_type": "code",
   "execution_count": null,
   "id": "4151fa22-99d1-40da-83e8-509022bb8fa3",
   "metadata": {},
   "outputs": [],
   "source": []
  },
  {
   "cell_type": "code",
   "execution_count": null,
   "id": "32f8e77c-422d-4577-b66e-52a197c4cc76",
   "metadata": {},
   "outputs": [],
   "source": []
  },
  {
   "cell_type": "code",
   "execution_count": null,
   "id": "4b7a00ee-e512-40e9-8407-fb72f06e66a5",
   "metadata": {},
   "outputs": [],
   "source": []
  },
  {
   "cell_type": "code",
   "execution_count": null,
   "id": "5797b77e-157a-45ac-8bbd-9206a8326a75",
   "metadata": {},
   "outputs": [],
   "source": []
  },
  {
   "cell_type": "code",
   "execution_count": null,
   "id": "41d106ed-aa39-40a0-bad4-a9272ff4c380",
   "metadata": {},
   "outputs": [],
   "source": []
  },
  {
   "cell_type": "code",
   "execution_count": null,
   "id": "9eb6cba1-913b-46cf-8797-72cb2495a89e",
   "metadata": {},
   "outputs": [],
   "source": []
  },
  {
   "cell_type": "code",
   "execution_count": null,
   "id": "fc693f5b-8335-4475-894d-41e557be0550",
   "metadata": {},
   "outputs": [],
   "source": []
  },
  {
   "cell_type": "code",
   "execution_count": null,
   "id": "17b25e53-2647-4a59-a129-b88ec701d0db",
   "metadata": {},
   "outputs": [],
   "source": []
  }
 ],
 "metadata": {
  "kernelspec": {
   "display_name": "Python 3 (ipykernel)",
   "language": "python",
   "name": "python3"
  },
  "language_info": {
   "codemirror_mode": {
    "name": "ipython",
    "version": 3
   },
   "file_extension": ".py",
   "mimetype": "text/x-python",
   "name": "python",
   "nbconvert_exporter": "python",
   "pygments_lexer": "ipython3",
   "version": "3.11.8"
  }
 },
 "nbformat": 4,
 "nbformat_minor": 5
}
