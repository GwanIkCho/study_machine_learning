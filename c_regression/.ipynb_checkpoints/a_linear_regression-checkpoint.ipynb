{
 "cells": [
  {
   "cell_type": "markdown",
   "id": "58300c61-1464-47a2-bbf9-a344a7340194",
   "metadata": {},
   "source": [
    "### 회귀 (Regression)\r\n",
    "- 데이터가 평균과 같은 일정한 값으로 돌아가려는 경향을 이용한 통계학 기법이다.\r\n",
    "- 여러 개의 독립 변수와 한 개의 종속 변수 간의 상관관계를 모델링하는 기법을 통칭한다.\r\n",
    "- feature와 target 데이터 기반으로 학습하여 최적의 회귀 계수(W)를 찾는 것이 회귀의 목적이다.\r\n",
    "- 아래는 복습 시간에 따른 다음 수업의 이해도를 수치로 표현한 표이다.\r\n",
    "\r\n",
    "\r\n",
    "---\r\n",
    "<div style=\"display: flex; justify-content: center; width: 900px;\">\r\n",
    "    <table style=\"margin-left: 20px; text-align: center; border: 1px solid #eee; width: 500px;\">\r\n",
    "        <tr>\r\n",
    "            <th>복습 시간 (x)</th>\r\n",
    "            <th>다음 수업의 이해도 (y)</th>\r\n",
    "        </tr>\r\n",
    "        <tr>\r\n",
    "            <td>1</td>\r\n",
    "            <td>2.2</td>\r\n",
    "        </tr>\r\n",
    "        <tr>\r\n",
    "            <td>2</td>\r\n",
    "            <td>5.8</td>\r\n",
    "        </tr>\r\n",
    "        <tr>\r\n",
    "            <td>3</td>\r\n",
    "            <td>7.6</td>\r\n",
    "        </tr>\r\n",
    "        <tr>\r\n",
    "            <td>4</td>\r\n",
    "            <td>9.3</td>\r\n",
    "        </tr>\r\n",
    "    </table>  \r\n",
    "    <div style=\"margin-top: 60px;\">\r\n",
    "        <img src=\"./images/regression_train.png\">\r\n",
    "    </div>\r\n",
    "</div>  \r\n",
    "\r\n",
    "---\r\n",
    "\r\n",
    "- 5시간 복습을 했을 때, 다음 수업의 이해도를 예측하고자 한다면,  \r\n",
    "학습 데이터(x)를 가장 잘 표현할 수 있는 직선을 찾아야 하고, 이 식을 가설(Hypothesis)라고 한다.\r\n",
    "- 아래는 위 데이터를 표현하고자 하는 직선의 방정식과 가설이다.\r\n",
    "\r\n",
    "<img src=\"./images/regression_h.png\" style=\"margin-left: 20px;\">  \r\n",
    "\r\n",
    "- 수학에서 W는 기울기, b는 절편이지만, 가설에서 W(Weight) 가중치, b(bias)를 편향이라 한다. 편향은 다양한 요인을 대표하는 값이다."
   ]
  },
  {
   "cell_type": "code",
   "execution_count": 1,
   "id": "c5fdb155-9fe7-4bf3-ad0b-88faeb3c04f5",
   "metadata": {},
   "outputs": [],
   "source": [
    "import matplotlib.pyplot as plt\n",
    "\n",
    "plt.rcParams['font.family'] ='Malgun Gothic'\n",
    "plt.rcParams['axes.unicode_minus'] =False"
   ]
  },
  {
   "cell_type": "code",
   "execution_count": 4,
   "id": "ede2b9ea-53c3-44d5-a3ac-eccb48a0098d",
   "metadata": {},
   "outputs": [
    {
     "ename": "OSError",
     "evalue": "[WinError 126] 지정된 모듈을 찾을 수 없습니다. Error loading \"C:\\ProgramData\\anaconda3\\Lib\\site-packages\\torch\\lib\\c10_cuda.dll\" or one of its dependencies.",
     "output_type": "error",
     "traceback": [
      "\u001b[1;31m---------------------------------------------------------------------------\u001b[0m",
      "\u001b[1;31mOSError\u001b[0m                                   Traceback (most recent call last)",
      "Cell \u001b[1;32mIn[4], line 1\u001b[0m\n\u001b[1;32m----> 1\u001b[0m \u001b[38;5;28;01mimport\u001b[39;00m \u001b[38;5;21;01mtorch\u001b[39;00m\n\u001b[0;32m      3\u001b[0m \u001b[38;5;28mprint\u001b[39m(torch\u001b[38;5;241m.\u001b[39m__version__)\n",
      "File \u001b[1;32mC:\\ProgramData\\anaconda3\\Lib\\site-packages\\torch\\__init__.py:141\u001b[0m\n\u001b[0;32m    139\u001b[0m                 err \u001b[38;5;241m=\u001b[39m ctypes\u001b[38;5;241m.\u001b[39mWinError(ctypes\u001b[38;5;241m.\u001b[39mget_last_error())\n\u001b[0;32m    140\u001b[0m                 err\u001b[38;5;241m.\u001b[39mstrerror \u001b[38;5;241m+\u001b[39m\u001b[38;5;241m=\u001b[39m \u001b[38;5;124mf\u001b[39m\u001b[38;5;124m'\u001b[39m\u001b[38;5;124m Error loading \u001b[39m\u001b[38;5;124m\"\u001b[39m\u001b[38;5;132;01m{\u001b[39;00mdll\u001b[38;5;132;01m}\u001b[39;00m\u001b[38;5;124m\"\u001b[39m\u001b[38;5;124m or one of its dependencies.\u001b[39m\u001b[38;5;124m'\u001b[39m\n\u001b[1;32m--> 141\u001b[0m                 \u001b[38;5;28;01mraise\u001b[39;00m err\n\u001b[0;32m    143\u001b[0m     kernel32\u001b[38;5;241m.\u001b[39mSetErrorMode(prev_error_mode)\n\u001b[0;32m    146\u001b[0m \u001b[38;5;28;01mdef\u001b[39;00m \u001b[38;5;21m_preload_cuda_deps\u001b[39m(lib_folder, lib_name):\n",
      "\u001b[1;31mOSError\u001b[0m: [WinError 126] 지정된 모듈을 찾을 수 없습니다. Error loading \"C:\\ProgramData\\anaconda3\\Lib\\site-packages\\torch\\lib\\c10_cuda.dll\" or one of its dependencies."
     ]
    }
   ],
   "source": [
    "import torch\n",
    "\n",
    "print(torch.__version__)"
   ]
  },
  {
   "cell_type": "code",
   "execution_count": null,
   "id": "dcdd10e5-89e9-42e4-8b08-6747fd11cc56",
   "metadata": {},
   "outputs": [],
   "source": [
    "thrch.FlaotTensor([1,2,3,4]).dim()\n",
    "thrch.FlaotTensor([1,2,3,4]).unsqueeze(1)"
   ]
  },
  {
   "cell_type": "code",
   "execution_count": 2,
   "id": "05077f63-092a-4264-bb34-d8527b50f018",
   "metadata": {},
   "outputs": [
    {
     "ename": "NameError",
     "evalue": "name 'torch' is not defined",
     "output_type": "error",
     "traceback": [
      "\u001b[1;31m---------------------------------------------------------------------------\u001b[0m",
      "\u001b[1;31mNameError\u001b[0m                                 Traceback (most recent call last)",
      "Cell \u001b[1;32mIn[2], line 2\u001b[0m\n\u001b[0;32m      1\u001b[0m \u001b[38;5;28;01mimport\u001b[39;00m \u001b[38;5;21;01mnumpy\u001b[39;00m \u001b[38;5;28;01mas\u001b[39;00m \u001b[38;5;21;01mnp\u001b[39;00m\n\u001b[1;32m----> 2\u001b[0m X_train \u001b[38;5;241m=\u001b[39m torch\u001b[38;5;241m.\u001b[39mFlaotTensor(np\u001b[38;5;241m.\u001b[39marray([\u001b[38;5;241m1\u001b[39m,\u001b[38;5;241m2\u001b[39m,\u001b[38;5;241m3\u001b[39m,\u001b[38;5;241m4\u001b[39m]))\u001b[38;5;241m.\u001b[39mview(\u001b[38;5;241m-\u001b[39m\u001b[38;5;241m1\u001b[39m, \u001b[38;5;241m1\u001b[39m)\n\u001b[0;32m      3\u001b[0m y_train \u001b[38;5;241m=\u001b[39m torch\u001b[38;5;241m.\u001b[39mFlaotTensor(np\u001b[38;5;241m.\u001b[39marray([\u001b[38;5;241m2.2\u001b[39m, \u001b[38;5;241m5.8\u001b[39m, \u001b[38;5;241m7.6\u001b[39m, \u001b[38;5;241m9.3\u001b[39m]))\u001b[38;5;241m.\u001b[39mview(\u001b[38;5;241m-\u001b[39m\u001b[38;5;241m1\u001b[39m, \u001b[38;5;241m1\u001b[39m)\n",
      "\u001b[1;31mNameError\u001b[0m: name 'torch' is not defined"
     ]
    }
   ],
   "source": [
    "import numpy as np\n",
    "X_train = torch.FlaotTensor(np.array([1,2,3,4])).view(-1, 1)\n",
    "y_train = torch.FlaotTensor(np.array([2.2, 5.8, 7.6, 9.3])).view(-1, 1)"
   ]
  },
  {
   "cell_type": "code",
   "execution_count": null,
   "id": "f7dd57b3-8f11-4c7e-8286-5770782ac53b",
   "metadata": {},
   "outputs": [],
   "source": [
    "plt.scatter(X_train, y_train)\n",
    "plt.plot(X_train, 2 * X_train+1, label= )\n",
    "plt.plot(X_train, 3 * X_train-1)\n",
    "plt.plot(X_train, 0 * X_train+ 6.5)\n",
    "plt.grid(visible=True, linestyle = '--')\n",
    "plt.title('복습과다음 수업과의 관계')\n",
    "plt.legend()\n",
    "plt.show()"
   ]
  },
  {
   "cell_type": "markdown",
   "id": "cce2b5f7-d147-4b7e-8357-113dd0f23f6a",
   "metadata": {},
   "source": [
    "- 위 3개의 직선 중에서 데이터를 가장 잘 표현한 직선을 고르고자 한다면, 오차(error)를 구해봐야 한다.\r\n",
    "\r\n",
    "<table style=\"margin-left: 20px; text-align: center; border: 1px solid red; width: 700px; margin-bottom: 50px;\">\r\n",
    "    <caption style=\"font-weight: bold\">H(x) = 2x + 1</caption>\r\n",
    "    <tr>\r\n",
    "        <th>X</th>\r\n",
    "        <th>1</th>\r\n",
    "        <th>2</th>\r\n",
    "        <th>3</th>\r\n",
    "        <th>4</th>\r\n",
    "    </tr>\r\n",
    "    <tr>\r\n",
    "        <td>Y</td>\r\n",
    "        <td>2.2</td>\r\n",
    "        <td>5.8</td>\r\n",
    "        <td>7.6</td>\r\n",
    "        <td>9.3</td>\r\n",
    "    </tr>\r\n",
    "    <tr>\r\n",
    "        <td>H(x)</td>\r\n",
    "        <td>3</td>\r\n",
    "        <td>5</td>\r\n",
    "        <td>7</td>\r\n",
    "        <td>9</td>\r\n",
    "    </tr>\r\n",
    "    <tr style=\"font-weight: bold\">\r\n",
    "        <td>E</td>\r\n",
    "        <td>-0.8</td>\r\n",
    "        <td>0.8</td>\r\n",
    "        <td>0.6</td>\r\n",
    "        <td>0.3</td>\r\n",
    "    </tr>\r\n",
    "</table>\r\n",
    "\r\n",
    "<table style=\"margin-left: 20px; text-align: center; border: 1px solid blue; width: 700px; margin-bottom: 50px;\">\r\n",
    "    <caption style=\"font-weight: bold\">H(x) = 3x - 1</caption>\r\n",
    "    <tr>\r\n",
    "        <th>X</th>\r\n",
    "        <th>1</th>\r\n",
    "        <th>2</th>\r\n",
    "        <th>3</th>\r\n",
    "        <th>4</th>\r\n",
    "    </tr>\r\n",
    "    <tr>\r\n",
    "        <td>Y</td>\r\n",
    "        <td>2.2</td>\r\n",
    "        <td>5.8</td>\r\n",
    "        <td>7.6</td>\r\n",
    "        <td>9.3</td>\r\n",
    "    </tr>\r\n",
    "    <tr>\r\n",
    "        <td>H(x)</td>\r\n",
    "        <td>2</td>\r\n",
    "        <td>5</td>\r\n",
    "        <td>8</td>\r\n",
    "        <td>11</td>\r\n",
    "    </tr>\r\n",
    "    <tr style=\"font-weight: bold\">\r\n",
    "        <td>E</td>\r\n",
    "        <td>0.2</td>\r\n",
    "        <td>0.8</td>\r\n",
    "        <td>-0.4</td>\r\n",
    "        <td>-1.7</td>\r\n",
    "    </tr>\r\n",
    "</table>\r\n",
    "\r\n",
    "<table style=\"margin-left: 20px; text-align: center; border: 1px solid green; width: 700px;\">\r\n",
    "    <caption style=\"font-weight: bold\">H(x) = 6.5</caption>\r\n",
    "    <tr>\r\n",
    "        <th>X</th>\r\n",
    "        <th>1</th>\r\n",
    "        <th>2</th>\r\n",
    "        <th>3</th>\r\n",
    "        <th>4</th>\r\n",
    "    </tr>\r\n",
    "    <tr>\r\n",
    "        <td>Y</td>\r\n",
    "        <td>2.2</td>\r\n",
    "        <td>5.8</td>\r\n",
    "        <td>7.6</td>\r\n",
    "        <td>9.3</td>\r\n",
    "    </tr>\r\n",
    "    <tr>\r\n",
    "        <td>H(x)</td>\r\n",
    "        <td>6.5</td>\r\n",
    "        <td>6.5</td>\r\n",
    "        <td>6.5</td>\r\n",
    "        <td>6.5</td>\r\n",
    "    </tr>\r\n",
    "    <tr style=\"font-weight: bold\">\r\n",
    "        <td>E</td>\r\n",
    "        <td>-4.3</td\n",
    "\n",
    "- E = Y - H(x)로 계산하면 E가 음수로 나올 수 있기 때문에 전체 오차가 크기를 측정할 수 없다.\n",
    "- 따라서 **각 제곱을 더하고 평균**을 구한다.\n",
    "- 이를 **평균 제곱 오차(MSE)**라고 한다.  \n",
    "  \n",
    "<img src='./images/regression_e.png' style='margin-left:20px'>\n",
    "\n",
    "- 이 때, 오차를 구해주는 함수로 표현하면 아래와 같이 손실 함수(loss function)로 표현된다.\n",
    "\n",
    "<img src='./images/regression_loss_function01.png' style='margin-left:20px'>\n",
    "\n",
    "- 죽, 손실 함수가 최소가 되는 w와 b를 구함으로써 훈련 데이터를 가장 잘 나타내는 직선을 고를 수 있다.\n",
    "\n",
    "<img src='./images/regression_loss_function02.png' style='margin-left:20px'>>\r\n",
    "        <td>-0.7</td>\r\n",
    "        <td>1.1</td>\r\n",
    "        <td>2.8</td>\r\n",
    "    </tr>\r\n",
    "</table>\r\n",
    "\r\n",
    "---  "
   ]
  },
  {
   "cell_type": "markdown",
   "id": "981e6404-4771-4ff5-bba4-1e75e82f98d0",
   "metadata": {},
   "source": [
    "### 최적화(Optimizer) - 경사 하강법(Gradient Descent)\n",
    "<sub>아래의 설명부터는 이해를 위해 w를 가중치가 아닌 기울기로, bise를 절편, 0으로 가정한다.</sub>\n",
    "\n",
    "- 손실 함수의 값을 최소로하는 기울기와 절편을 찾기 위해서 최적화(Opimization) 알고리즘이 사용된다.\n",
    "- 기울기(w)와 오차의 관계를 그래프로 나타내기 위해서는 패턴을 알아야 한다. 그 패턴은 다음과 같다\n",
    "- 기울기(w)가 지나치게 크면 오차도 커지고, 지나치게 작아도 오차가 커지기 때문에 적절한 기울기를 찾아야 한다."
   ]
  },
  {
   "cell_type": "code",
   "execution_count": null,
   "id": "6bb45f83-a545-4155-a5bf-3c271ac51f7b",
   "metadata": {},
   "outputs": [],
   "source": [
    "plt.scatter(X_train, y_train)\n",
    "plt.plot(X_train, 4 * X_train, label= 'H(x) = 4x' )\n",
    "plt.plot(X_train, 2 * X_train, label= 'H(x) = 2x')\n",
    "plt.plot(X_train, -2 * X_train, label= 'H(x) = -2x')\n",
    "plt.grid(visible=True, linestyle = '--')\n",
    "plt.title('복습과다음 수업과의 관계')\n",
    "plt.legend()\n",
    "plt.show()"
   ]
  },
  {
   "cell_type": "markdown",
   "id": "86c2c39c-cd87-41bf-bccf-02d0f4f02d14",
   "metadata": {},
   "source": [
    "- 따라서 기울기와 오차는 기울기가 커질 수록 Loss 값도 커지고,  \r\n",
    "지나치게 작아져도 Loss 값은 계속 커지기 때문에 아래와 같은 관계 그래프가 나온다.\r\n",
    "\r\n",
    "<img src=\"./images/gradient_descent01.png\" style=\"margin-left: 20px;\">;\">"
   ]
  },
  {
   "cell_type": "code",
   "execution_count": null,
   "id": "586a1ac7-4b16-4de2-8d1c-73db8c328cfd",
   "metadata": {},
   "outputs": [],
   "source": []
  },
  {
   "cell_type": "code",
   "execution_count": null,
   "id": "995b79a0-a4c1-4777-94c9-789737147335",
   "metadata": {},
   "outputs": [],
   "source": []
  },
  {
   "cell_type": "code",
   "execution_count": null,
   "id": "df556e2b-0d3c-4f6d-8598-ca8967ed9f9f",
   "metadata": {},
   "outputs": [],
   "source": []
  },
  {
   "cell_type": "code",
   "execution_count": null,
   "id": "6aace692-5272-45c5-9adb-121f993197e2",
   "metadata": {},
   "outputs": [],
   "source": []
  },
  {
   "cell_type": "code",
   "execution_count": null,
   "id": "770ae293-87c7-4563-8978-db236a25bdf6",
   "metadata": {},
   "outputs": [],
   "source": []
  },
  {
   "cell_type": "code",
   "execution_count": null,
   "id": "09ffe344-fddf-4890-a346-fc6c1bcced49",
   "metadata": {},
   "outputs": [],
   "source": []
  },
  {
   "cell_type": "code",
   "execution_count": null,
   "id": "c42868d8-70cb-49c4-9b1b-d7a2491b2ad5",
   "metadata": {},
   "outputs": [],
   "source": []
  },
  {
   "cell_type": "code",
   "execution_count": null,
   "id": "51fe670d-d69b-4307-bc5a-4c2431e122dd",
   "metadata": {},
   "outputs": [],
   "source": []
  },
  {
   "cell_type": "code",
   "execution_count": null,
   "id": "c09662d0-6c26-492b-92ab-4d58593e4337",
   "metadata": {},
   "outputs": [],
   "source": []
  },
  {
   "cell_type": "code",
   "execution_count": null,
   "id": "410badf9-b052-4f4a-b370-054cb02ed112",
   "metadata": {},
   "outputs": [],
   "source": []
  },
  {
   "cell_type": "code",
   "execution_count": null,
   "id": "b328deeb-6470-4fa3-9ba9-acce7cd31156",
   "metadata": {},
   "outputs": [],
   "source": []
  },
  {
   "cell_type": "code",
   "execution_count": null,
   "id": "9dee959e-820a-4c5b-b10b-eae2969921a8",
   "metadata": {},
   "outputs": [],
   "source": []
  },
  {
   "cell_type": "code",
   "execution_count": null,
   "id": "89b8c530-b345-4735-a77e-0edeec93a78a",
   "metadata": {},
   "outputs": [],
   "source": []
  },
  {
   "cell_type": "code",
   "execution_count": null,
   "id": "85136f6e-9b2f-47d0-ba35-ffe465d250e4",
   "metadata": {},
   "outputs": [],
   "source": []
  },
  {
   "cell_type": "code",
   "execution_count": null,
   "id": "a082a13f-2997-4177-a15e-e5e27545ec6c",
   "metadata": {},
   "outputs": [],
   "source": []
  }
 ],
 "metadata": {
  "kernelspec": {
   "display_name": "Python 3 (ipykernel)",
   "language": "python",
   "name": "python3"
  },
  "language_info": {
   "codemirror_mode": {
    "name": "ipython",
    "version": 3
   },
   "file_extension": ".py",
   "mimetype": "text/x-python",
   "name": "python",
   "nbconvert_exporter": "python",
   "pygments_lexer": "ipython3",
   "version": "3.11.8"
  }
 },
 "nbformat": 4,
 "nbformat_minor": 5
}
