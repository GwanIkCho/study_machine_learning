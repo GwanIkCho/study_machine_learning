{
 "cells": [
  {
   "cell_type": "markdown",
   "id": "a104731a-4a6e-47e9-b8c0-1c7be6775b15",
   "metadata": {},
   "source": [
    "### multivariate_linear_regression (다변량 선형 회귀)\n",
    "- 하나의 종속변수와 여러 독립변수 사이의 관계를 분석하는 기법이다."
   ]
  },
  {
   "cell_type": "code",
   "execution_count": 4,
   "id": "ce8b752d-8896-4e48-ada7-92412f4ebdeb",
   "metadata": {},
   "outputs": [
    {
     "data": {
      "text/html": [
       "<div>\n",
       "<style scoped>\n",
       "    .dataframe tbody tr th:only-of-type {\n",
       "        vertical-align: middle;\n",
       "    }\n",
       "\n",
       "    .dataframe tbody tr th {\n",
       "        vertical-align: top;\n",
       "    }\n",
       "\n",
       "    .dataframe thead th {\n",
       "        text-align: right;\n",
       "    }\n",
       "</style>\n",
       "<table border=\"1\" class=\"dataframe\">\n",
       "  <thead>\n",
       "    <tr style=\"text-align: right;\">\n",
       "      <th></th>\n",
       "      <th>TV</th>\n",
       "      <th>Radio</th>\n",
       "      <th>Newspaper</th>\n",
       "      <th>Sales</th>\n",
       "    </tr>\n",
       "  </thead>\n",
       "  <tbody>\n",
       "    <tr>\n",
       "      <th>0</th>\n",
       "      <td>230.1</td>\n",
       "      <td>37.8</td>\n",
       "      <td>69.2</td>\n",
       "      <td>22.1</td>\n",
       "    </tr>\n",
       "    <tr>\n",
       "      <th>1</th>\n",
       "      <td>44.5</td>\n",
       "      <td>39.3</td>\n",
       "      <td>45.1</td>\n",
       "      <td>10.4</td>\n",
       "    </tr>\n",
       "    <tr>\n",
       "      <th>2</th>\n",
       "      <td>17.2</td>\n",
       "      <td>45.9</td>\n",
       "      <td>69.3</td>\n",
       "      <td>9.3</td>\n",
       "    </tr>\n",
       "    <tr>\n",
       "      <th>3</th>\n",
       "      <td>151.5</td>\n",
       "      <td>41.3</td>\n",
       "      <td>58.5</td>\n",
       "      <td>18.5</td>\n",
       "    </tr>\n",
       "    <tr>\n",
       "      <th>4</th>\n",
       "      <td>180.8</td>\n",
       "      <td>10.8</td>\n",
       "      <td>58.4</td>\n",
       "      <td>12.9</td>\n",
       "    </tr>\n",
       "    <tr>\n",
       "      <th>...</th>\n",
       "      <td>...</td>\n",
       "      <td>...</td>\n",
       "      <td>...</td>\n",
       "      <td>...</td>\n",
       "    </tr>\n",
       "    <tr>\n",
       "      <th>195</th>\n",
       "      <td>38.2</td>\n",
       "      <td>3.7</td>\n",
       "      <td>13.8</td>\n",
       "      <td>7.6</td>\n",
       "    </tr>\n",
       "    <tr>\n",
       "      <th>196</th>\n",
       "      <td>94.2</td>\n",
       "      <td>4.9</td>\n",
       "      <td>8.1</td>\n",
       "      <td>9.7</td>\n",
       "    </tr>\n",
       "    <tr>\n",
       "      <th>197</th>\n",
       "      <td>177.0</td>\n",
       "      <td>9.3</td>\n",
       "      <td>6.4</td>\n",
       "      <td>12.8</td>\n",
       "    </tr>\n",
       "    <tr>\n",
       "      <th>198</th>\n",
       "      <td>283.6</td>\n",
       "      <td>42.0</td>\n",
       "      <td>66.2</td>\n",
       "      <td>25.5</td>\n",
       "    </tr>\n",
       "    <tr>\n",
       "      <th>199</th>\n",
       "      <td>232.1</td>\n",
       "      <td>8.6</td>\n",
       "      <td>8.7</td>\n",
       "      <td>13.4</td>\n",
       "    </tr>\n",
       "  </tbody>\n",
       "</table>\n",
       "<p>200 rows × 4 columns</p>\n",
       "</div>"
      ],
      "text/plain": [
       "        TV  Radio  Newspaper  Sales\n",
       "0    230.1   37.8       69.2   22.1\n",
       "1     44.5   39.3       45.1   10.4\n",
       "2     17.2   45.9       69.3    9.3\n",
       "3    151.5   41.3       58.5   18.5\n",
       "4    180.8   10.8       58.4   12.9\n",
       "..     ...    ...        ...    ...\n",
       "195   38.2    3.7       13.8    7.6\n",
       "196   94.2    4.9        8.1    9.7\n",
       "197  177.0    9.3        6.4   12.8\n",
       "198  283.6   42.0       66.2   25.5\n",
       "199  232.1    8.6        8.7   13.4\n",
       "\n",
       "[200 rows x 4 columns]"
      ]
     },
     "execution_count": 4,
     "metadata": {},
     "output_type": "execute_result"
    }
   ],
   "source": [
    "import pandas as pd\n",
    "\n",
    "ad_df = pd.read_csv('./datasets/advertising.csv')\n",
    "pre_a_df = ad_df.drop(labels=['Unnamed: 0'], axis=1)\n",
    "pre_a_df"
   ]
  },
  {
   "cell_type": "code",
   "execution_count": 8,
   "id": "701e029f-8c08-49e1-9f86-c2c65028fc0c",
   "metadata": {},
   "outputs": [
    {
     "name": "stdout",
     "output_type": "stream",
     "text": [
      " 100/1000: w1 : 0.0616,w2 : 0.1041,w3 : 0.0580, b: 0.0025 loss: 7.4172\n",
      " 200/1000: w1 : 0.0561,w2 : 0.1499,w3 : 0.0570, b: 0.0038 loss: 5.1731\n",
      " 300/1000: w1 : 0.0543,w2 : 0.1762,w3 : 0.0482, b: 0.0048 loss: 4.3777\n",
      " 400/1000: w1 : 0.0535,w2 : 0.1929,w3 : 0.0402, b: 0.0057 loss: 4.0271\n",
      " 500/1000: w1 : 0.0531,w2 : 0.2039,w3 : 0.0342, b: 0.0066 loss: 3.8664\n",
      " 600/1000: w1 : 0.0529,w2 : 0.2113,w3 : 0.0300, b: 0.0074 loss: 3.7921\n",
      " 700/1000: w1 : 0.0528,w2 : 0.2162,w3 : 0.0271, b: 0.0082 loss: 3.7576\n",
      " 800/1000: w1 : 0.0527,w2 : 0.2196,w3 : 0.0251, b: 0.0090 loss: 3.7414\n",
      " 900/1000: w1 : 0.0526,w2 : 0.2219,w3 : 0.0238, b: 0.0098 loss: 3.7337\n",
      "1000/1000: w1 : 0.0525,w2 : 0.2234,w3 : 0.0228, b: 0.0106 loss: 3.7298\n"
     ]
    }
   ],
   "source": [
    "import torch\n",
    "from torch.optim import SGD\n",
    "from sklearn.model_selection import train_test_split\n",
    "\n",
    "torch.manual_seed(124)\n",
    "\n",
    "features, targets = pre_a_df.iloc[:,:-1], pre_a_df.iloc[:,-1]\n",
    "\n",
    "\n",
    "X_train, X_test, y_train, y_test = train_test_split(features, targets , test_size=0.2, random_state=124)\n",
    "\n",
    "X_train1 = torch.FloatTensor(X_train.TV.values).view(-1,1)\n",
    "X_train2 = torch.FloatTensor(X_train.Radio.values).view(-1,1)\n",
    "X_train3 = torch.FloatTensor(X_train.Newspaper.values).view(-1,1)\n",
    "y_train = torch.FloatTensor(y_train.values).view(-1,1)\n",
    "\n",
    "X_test1 = torch.FloatTensor(X_test.TV.values).view(-1,1)\n",
    "X_test2 = torch.FloatTensor(X_test.Radio.values).view(-1,1)\n",
    "X_test3 = torch.FloatTensor(X_test.Newspaper.values).view(-1,1)\n",
    "y_test = torch.FloatTensor(y_test.values).view(-1,1)\n",
    "\n",
    "w1 = torch.zeros(1, requires_grad=True)\n",
    "w2 = torch.zeros(1, requires_grad=True)\n",
    "w3 = torch.zeros(1, requires_grad=True)\n",
    "b = torch.zeros(1, requires_grad=True)\n",
    "\n",
    "optimizer = SGD([w1, w2, w3, b],lr = 1e-5)\n",
    "\n",
    "epochs = 1000\n",
    "\n",
    "for epoch in range(1, epochs+1):\n",
    "    H = w1 * X_train1+w2*X_train2+w3*X_train3+b\n",
    "    loss = torch.mean((H-y_train)**2)\n",
    "    optimizer.zero_grad()\n",
    "    # 손실함수 미분 후 기울기 계산\n",
    "    loss.backward()\n",
    "    # W, b 업데이트\n",
    "    optimizer.step()\n",
    "\n",
    "    if epoch % 100 == 0:\n",
    "        print('{:4d}/{}: w1 : {:.4f},w2 : {:.4f},w3 : {:.4f}, b: {:.4f} loss: {:.4f}'.format(epoch, epochs, w1.item(), w2.item(), w3.item(), b.item(), loss.item()))\n",
    "\n"
   ]
  },
  {
   "cell_type": "code",
   "execution_count": null,
   "id": "96be47c6-85ce-4bbd-861a-9320defcc5cb",
   "metadata": {},
   "outputs": [],
   "source": [
    "H = H = 0.0525 * X_test1+0.2234*X_test2+0.0228*X_test3+0.0106 \n"
   ]
  },
  {
   "cell_type": "code",
   "execution_count": 12,
   "id": "4f8d38e5-9c9b-4ce6-9a00-1ea0acd4b8cf",
   "metadata": {},
   "outputs": [
    {
     "name": "stdout",
     "output_type": "stream",
     "text": [
      " 100/1000: w1 : 0.0616,w2 : 0.1041,w3 : 0.0580, b: 0.0025 loss: 7.4172\n",
      " 200/1000: w1 : 0.0561,w2 : 0.1499,w3 : 0.0570, b: 0.0038 loss: 5.1731\n",
      " 300/1000: w1 : 0.0543,w2 : 0.1762,w3 : 0.0482, b: 0.0048 loss: 4.3777\n",
      " 400/1000: w1 : 0.0535,w2 : 0.1929,w3 : 0.0402, b: 0.0057 loss: 4.0271\n",
      " 500/1000: w1 : 0.0531,w2 : 0.2039,w3 : 0.0342, b: 0.0066 loss: 3.8664\n",
      " 600/1000: w1 : 0.0529,w2 : 0.2113,w3 : 0.0300, b: 0.0074 loss: 3.7921\n",
      " 700/1000: w1 : 0.0528,w2 : 0.2162,w3 : 0.0271, b: 0.0082 loss: 3.7576\n",
      " 800/1000: w1 : 0.0527,w2 : 0.2196,w3 : 0.0251, b: 0.0090 loss: 3.7414\n",
      " 900/1000: w1 : 0.0526,w2 : 0.2219,w3 : 0.0238, b: 0.0098 loss: 3.7337\n",
      "1000/1000: w1 : 0.0525,w2 : 0.2234,w3 : 0.0228, b: 0.0106 loss: 3.7298\n"
     ]
    }
   ],
   "source": [
    "import torch\n",
    "from torch.optim import SGD\n",
    "from sklearn.model_selection import train_test_split\n",
    "\n",
    "torch.manual_seed(124)\n",
    "\n",
    "features, targets = pre_a_df.iloc[:,:-1], pre_a_df.iloc[:,-1]\n",
    "\n",
    "\n",
    "X_train, X_test, y_train, y_test = train_test_split(features, targets , test_size=0.2, random_state=124)\n",
    "\n",
    "X_train = torch.FloatTensor(X_train.values)\n",
    "y_train = torch.FloatTensor(y_train.values).view(-1,1)\n",
    "\n",
    "X_test = torch.FloatTensor(X_test.values)\n",
    "y_test = torch.FloatTensor(y_test.values).view(-1,1)\n",
    "\n",
    "w = torch.zeros((3,1), requires_grad=True)\n",
    "b = torch.zeros(1, requires_grad=True)\n",
    "\n",
    "optimizer = SGD([w, b],lr = 1e-5)\n",
    "\n",
    "epochs = 1000\n",
    "\n",
    "for epoch in range(1, epochs+1):\n",
    "    H = X_train.matmul(w) + b\n",
    "    loss = torch.mean((H-y_train)**2)\n",
    "    optimizer.zero_grad()\n",
    "    # 손실함수 미분 후 기울기 계산\n",
    "    loss.backward()\n",
    "    # W, b 업데이트\n",
    "    optimizer.step()\n",
    "\n",
    "    if epoch % 100 == 0:\n",
    "        print('{:4d}/{}: w1 : {:.4f},w2 : {:.4f},w3 : {:.4f}, b: {:.4f} loss: {:.4f}'.format(epoch, epochs, w[0].item(), w[1].item(), w[2].item(), b.item(), loss.item()))\n",
    "\n"
   ]
  },
  {
   "cell_type": "code",
   "execution_count": null,
   "id": "d5f20ab7-da78-424b-9fa4-8aface1d6c55",
   "metadata": {},
   "outputs": [],
   "source": []
  },
  {
   "cell_type": "code",
   "execution_count": 15,
   "id": "381e7951-8947-4a77-982c-37b76f79add7",
   "metadata": {},
   "outputs": [
    {
     "name": "stdout",
     "output_type": "stream",
     "text": [
      " 100/1000: w1 : 0.0525,w2 : 0.2234,w3 : 0.0228, b: 0.0106 loss: 15.3034\n",
      " 200/1000: w1 : 0.0525,w2 : 0.2234,w3 : 0.0228, b: 0.0106 loss: 6.6044\n",
      " 300/1000: w1 : 0.0525,w2 : 0.2234,w3 : 0.0228, b: 0.0106 loss: 4.9029\n",
      " 400/1000: w1 : 0.0525,w2 : 0.2234,w3 : 0.0228, b: 0.0106 loss: 4.2727\n",
      " 500/1000: w1 : 0.0525,w2 : 0.2234,w3 : 0.0228, b: 0.0106 loss: 3.9925\n",
      " 600/1000: w1 : 0.0525,w2 : 0.2234,w3 : 0.0228, b: 0.0106 loss: 3.8638\n",
      " 700/1000: w1 : 0.0525,w2 : 0.2234,w3 : 0.0228, b: 0.0106 loss: 3.8043\n",
      " 800/1000: w1 : 0.0525,w2 : 0.2234,w3 : 0.0228, b: 0.0106 loss: 3.7766\n",
      " 900/1000: w1 : 0.0525,w2 : 0.2234,w3 : 0.0228, b: 0.0106 loss: 3.7635\n",
      "1000/1000: w1 : 0.0525,w2 : 0.2234,w3 : 0.0228, b: 0.0106 loss: 3.7571\n"
     ]
    }
   ],
   "source": [
    "import torch\n",
    "from torch.nn import Linear\n",
    "from torch.nn.functional import mse_loss\n",
    "from torch.optim import SGD\n",
    "from sklearn.model_selection import train_test_split\n",
    "\n",
    "torch.manual_seed(124)\n",
    "\n",
    "features, targets = pre_a_df.iloc[:,:-1], pre_a_df.iloc[:,-1]\n",
    "\n",
    "\n",
    "X_train, X_test, y_train, y_test = train_test_split(features, targets , test_size=0.2, random_state=124)\n",
    "\n",
    "X_train = torch.FloatTensor(X_train.values)\n",
    "y_train = torch.FloatTensor(y_train.values).view(-1,1)\n",
    "\n",
    "X_test = torch.FloatTensor(X_test.values)\n",
    "y_test = torch.FloatTensor(y_test.values).view(-1,1)\n",
    "\n",
    "l_r = Linear(3,1)\n",
    "\n",
    "optimizer = SGD(l_r.parameters(), lr = 1e-5)\n",
    "\n",
    "epochs = 1000\n",
    "\n",
    "for epoch in range(1, epochs+1):\n",
    "    H = l_r(X_train)\n",
    "    loss = mse_loss(y_train, H)\n",
    "    optimizer.zero_grad()\n",
    "    # 손실함수 미분 후 기울기 계산\n",
    "    loss.backward()\n",
    "    # W, b 업데이트\n",
    "    optimizer.step()\n",
    "\n",
    "    if epoch % 100 == 0:\n",
    "        print('{:4d}/{}: w1 : {:.4f},w2 : {:.4f},w3 : {:.4f}, b: {:.4f} loss: {:.4f}'.format(epoch, epochs, w[0].item(), w[1].item(), w[2].item(), b.item(), loss.item()))\n",
    "\n"
   ]
  },
  {
   "cell_type": "code",
   "execution_count": null,
   "id": "b454c642-d71e-4c16-9bc5-346fa6edf774",
   "metadata": {},
   "outputs": [],
   "source": [
    "from torch.nn import modules, Linear\n",
    "\n",
    "class LinearRegressionModel(Module):\n",
    "    def __init__(self):\n",
    "        super().__init__()\n",
    "        self.linear = Linear()\n",
    "\n",
    "    def forward(self, x)\n",
    "    return self."
   ]
  },
  {
   "cell_type": "code",
   "execution_count": null,
   "id": "85514f0f-2e69-468e-bb66-253b0fa94ab1",
   "metadata": {},
   "outputs": [],
   "source": []
  },
  {
   "cell_type": "code",
   "execution_count": null,
   "id": "2d6c1a03-9684-4d52-bb21-33c8210528ed",
   "metadata": {},
   "outputs": [],
   "source": []
  },
  {
   "cell_type": "code",
   "execution_count": null,
   "id": "e76c5129-3cc1-4e78-ac60-12959da039e5",
   "metadata": {},
   "outputs": [],
   "source": []
  },
  {
   "cell_type": "code",
   "execution_count": null,
   "id": "5737b571-b7b7-4ddc-a112-c11b65d9bc9f",
   "metadata": {},
   "outputs": [],
   "source": []
  },
  {
   "cell_type": "code",
   "execution_count": null,
   "id": "3278384f-6118-461d-8750-427d85bd1f54",
   "metadata": {},
   "outputs": [],
   "source": []
  },
  {
   "cell_type": "code",
   "execution_count": null,
   "id": "9d75342b-0a8b-4432-a2e5-3ae143ac384a",
   "metadata": {},
   "outputs": [],
   "source": []
  },
  {
   "cell_type": "code",
   "execution_count": null,
   "id": "b630f4c0-a155-4bea-af76-500cd7283104",
   "metadata": {},
   "outputs": [],
   "source": []
  },
  {
   "cell_type": "code",
   "execution_count": null,
   "id": "90d4b83e-3183-44f4-857c-7417fd27c663",
   "metadata": {},
   "outputs": [],
   "source": []
  },
  {
   "cell_type": "code",
   "execution_count": null,
   "id": "0fde171f-1fd6-4516-9950-ab30b958cad0",
   "metadata": {},
   "outputs": [],
   "source": []
  },
  {
   "cell_type": "code",
   "execution_count": null,
   "id": "9ebc0025-96e6-4a46-a6fd-6b95695bfce9",
   "metadata": {},
   "outputs": [],
   "source": []
  },
  {
   "cell_type": "code",
   "execution_count": null,
   "id": "350a20c5-3571-47ad-95be-cdab212f4340",
   "metadata": {},
   "outputs": [],
   "source": []
  },
  {
   "cell_type": "code",
   "execution_count": null,
   "id": "11998ba1-cfc5-4e62-8f03-8c20816677df",
   "metadata": {},
   "outputs": [],
   "source": []
  },
  {
   "cell_type": "code",
   "execution_count": null,
   "id": "c7764bc4-8d7c-424d-9e42-67dc56c99e96",
   "metadata": {},
   "outputs": [],
   "source": []
  },
  {
   "cell_type": "code",
   "execution_count": null,
   "id": "62757064-8c65-49b6-ac63-e77120895e3c",
   "metadata": {},
   "outputs": [],
   "source": []
  },
  {
   "cell_type": "code",
   "execution_count": null,
   "id": "ee8a263a-3029-47dd-a5a1-119b154b783c",
   "metadata": {},
   "outputs": [],
   "source": []
  },
  {
   "cell_type": "code",
   "execution_count": null,
   "id": "2efd12ce-4a88-4a13-87ce-2e2a495742c2",
   "metadata": {},
   "outputs": [],
   "source": []
  },
  {
   "cell_type": "code",
   "execution_count": null,
   "id": "eb7d3e53-f99b-48a6-8962-1532f70fd420",
   "metadata": {},
   "outputs": [],
   "source": []
  },
  {
   "cell_type": "code",
   "execution_count": null,
   "id": "2c97cf55-fdee-40a4-a8e2-74e7d5a79782",
   "metadata": {},
   "outputs": [],
   "source": []
  },
  {
   "cell_type": "code",
   "execution_count": null,
   "id": "2d9e583d-82c8-4726-b4c1-f4a2f655c3b7",
   "metadata": {},
   "outputs": [],
   "source": []
  },
  {
   "cell_type": "code",
   "execution_count": null,
   "id": "130e0319-0e89-439b-ae33-c0a25be86515",
   "metadata": {},
   "outputs": [],
   "source": []
  },
  {
   "cell_type": "code",
   "execution_count": null,
   "id": "3e4b8642-90f7-408e-8801-69aa2fe1c68c",
   "metadata": {},
   "outputs": [],
   "source": []
  },
  {
   "cell_type": "code",
   "execution_count": null,
   "id": "9e456a04-5399-4943-abf8-c42088f9e4a8",
   "metadata": {},
   "outputs": [],
   "source": []
  },
  {
   "cell_type": "code",
   "execution_count": null,
   "id": "2b728b39-41b6-4ad7-828f-26e2d95ebeab",
   "metadata": {},
   "outputs": [],
   "source": []
  },
  {
   "cell_type": "code",
   "execution_count": null,
   "id": "878c73c1-8fc7-466c-ac3f-bb84d0f79748",
   "metadata": {},
   "outputs": [],
   "source": []
  },
  {
   "cell_type": "code",
   "execution_count": null,
   "id": "b1bed846-38af-4377-ad19-3befe9e6fb68",
   "metadata": {},
   "outputs": [],
   "source": []
  },
  {
   "cell_type": "code",
   "execution_count": null,
   "id": "1c6806cc-8d5e-4629-ba6a-521bd7cdb95e",
   "metadata": {},
   "outputs": [],
   "source": []
  },
  {
   "cell_type": "code",
   "execution_count": null,
   "id": "4cf02fff-ee65-4d89-af73-e89da540bbc7",
   "metadata": {},
   "outputs": [],
   "source": []
  },
  {
   "cell_type": "code",
   "execution_count": null,
   "id": "8524ead7-289d-4074-960e-f84230b6eed3",
   "metadata": {},
   "outputs": [],
   "source": []
  },
  {
   "cell_type": "code",
   "execution_count": null,
   "id": "1a0e53a7-22ec-47e2-816b-368873f27281",
   "metadata": {},
   "outputs": [],
   "source": []
  },
  {
   "cell_type": "code",
   "execution_count": null,
   "id": "17d5f952-a0c3-4160-95cb-4a7f152d24cd",
   "metadata": {},
   "outputs": [],
   "source": []
  },
  {
   "cell_type": "code",
   "execution_count": null,
   "id": "e7ac6b6c-647f-43d7-b921-f3dbc849fa84",
   "metadata": {},
   "outputs": [],
   "source": []
  }
 ],
 "metadata": {
  "kernelspec": {
   "display_name": "Python 3 (ipykernel)",
   "language": "python",
   "name": "python3"
  },
  "language_info": {
   "codemirror_mode": {
    "name": "ipython",
    "version": 3
   },
   "file_extension": ".py",
   "mimetype": "text/x-python",
   "name": "python",
   "nbconvert_exporter": "python",
   "pygments_lexer": "ipython3",
   "version": "3.11.8"
  }
 },
 "nbformat": 4,
 "nbformat_minor": 5
}
