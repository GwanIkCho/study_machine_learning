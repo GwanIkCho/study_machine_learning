{
 "cells": [
  {
   "cell_type": "code",
   "execution_count": 60,
   "id": "e96f8d9a-f83c-45c4-b267-ac7d9d1fb7b2",
   "metadata": {},
   "outputs": [
    {
     "data": {
      "text/html": [
       "<div>\n",
       "<style scoped>\n",
       "    .dataframe tbody tr th:only-of-type {\n",
       "        vertical-align: middle;\n",
       "    }\n",
       "\n",
       "    .dataframe tbody tr th {\n",
       "        vertical-align: top;\n",
       "    }\n",
       "\n",
       "    .dataframe thead th {\n",
       "        text-align: right;\n",
       "    }\n",
       "</style>\n",
       "<table border=\"1\" class=\"dataframe\">\n",
       "  <thead>\n",
       "    <tr style=\"text-align: right;\">\n",
       "      <th></th>\n",
       "      <th>data</th>\n",
       "      <th>trip_creation_time</th>\n",
       "      <th>route_schedule_uuid</th>\n",
       "      <th>route_type</th>\n",
       "      <th>trip_uuid</th>\n",
       "      <th>source_center</th>\n",
       "      <th>source_name</th>\n",
       "      <th>destination_center</th>\n",
       "      <th>destination_name</th>\n",
       "      <th>od_start_time</th>\n",
       "      <th>...</th>\n",
       "      <th>cutoff_timestamp</th>\n",
       "      <th>actual_distance_to_destination</th>\n",
       "      <th>actual_time</th>\n",
       "      <th>osrm_time</th>\n",
       "      <th>osrm_distance</th>\n",
       "      <th>factor</th>\n",
       "      <th>segment_actual_time</th>\n",
       "      <th>segment_osrm_time</th>\n",
       "      <th>segment_osrm_distance</th>\n",
       "      <th>segment_factor</th>\n",
       "    </tr>\n",
       "  </thead>\n",
       "  <tbody>\n",
       "    <tr>\n",
       "      <th>0</th>\n",
       "      <td>training</td>\n",
       "      <td>2018-09-20 02:35:36.476840</td>\n",
       "      <td>thanos::sroute:eb7bfc78-b351-4c0e-a951-fa3d5c3...</td>\n",
       "      <td>Carting</td>\n",
       "      <td>trip-153741093647649320</td>\n",
       "      <td>IND388121AAA</td>\n",
       "      <td>Anand_VUNagar_DC (Gujarat)</td>\n",
       "      <td>IND388620AAB</td>\n",
       "      <td>Khambhat_MotvdDPP_D (Gujarat)</td>\n",
       "      <td>2018-09-20 03:21:32.418600</td>\n",
       "      <td>...</td>\n",
       "      <td>2018-09-20 04:27:55</td>\n",
       "      <td>10.435660</td>\n",
       "      <td>14.0</td>\n",
       "      <td>11.0</td>\n",
       "      <td>11.9653</td>\n",
       "      <td>1.272727</td>\n",
       "      <td>14.0</td>\n",
       "      <td>11.0</td>\n",
       "      <td>11.9653</td>\n",
       "      <td>1.272727</td>\n",
       "    </tr>\n",
       "    <tr>\n",
       "      <th>1</th>\n",
       "      <td>training</td>\n",
       "      <td>2018-09-20 02:35:36.476840</td>\n",
       "      <td>thanos::sroute:eb7bfc78-b351-4c0e-a951-fa3d5c3...</td>\n",
       "      <td>Carting</td>\n",
       "      <td>trip-153741093647649320</td>\n",
       "      <td>IND388121AAA</td>\n",
       "      <td>Anand_VUNagar_DC (Gujarat)</td>\n",
       "      <td>IND388620AAB</td>\n",
       "      <td>Khambhat_MotvdDPP_D (Gujarat)</td>\n",
       "      <td>2018-09-20 03:21:32.418600</td>\n",
       "      <td>...</td>\n",
       "      <td>2018-09-20 04:17:55</td>\n",
       "      <td>18.936842</td>\n",
       "      <td>24.0</td>\n",
       "      <td>20.0</td>\n",
       "      <td>21.7243</td>\n",
       "      <td>1.200000</td>\n",
       "      <td>10.0</td>\n",
       "      <td>9.0</td>\n",
       "      <td>9.7590</td>\n",
       "      <td>1.111111</td>\n",
       "    </tr>\n",
       "    <tr>\n",
       "      <th>2</th>\n",
       "      <td>training</td>\n",
       "      <td>2018-09-20 02:35:36.476840</td>\n",
       "      <td>thanos::sroute:eb7bfc78-b351-4c0e-a951-fa3d5c3...</td>\n",
       "      <td>Carting</td>\n",
       "      <td>trip-153741093647649320</td>\n",
       "      <td>IND388121AAA</td>\n",
       "      <td>Anand_VUNagar_DC (Gujarat)</td>\n",
       "      <td>IND388620AAB</td>\n",
       "      <td>Khambhat_MotvdDPP_D (Gujarat)</td>\n",
       "      <td>2018-09-20 03:21:32.418600</td>\n",
       "      <td>...</td>\n",
       "      <td>2018-09-20 04:01:19.505586</td>\n",
       "      <td>27.637279</td>\n",
       "      <td>40.0</td>\n",
       "      <td>28.0</td>\n",
       "      <td>32.5395</td>\n",
       "      <td>1.428571</td>\n",
       "      <td>16.0</td>\n",
       "      <td>7.0</td>\n",
       "      <td>10.8152</td>\n",
       "      <td>2.285714</td>\n",
       "    </tr>\n",
       "    <tr>\n",
       "      <th>3</th>\n",
       "      <td>training</td>\n",
       "      <td>2018-09-20 02:35:36.476840</td>\n",
       "      <td>thanos::sroute:eb7bfc78-b351-4c0e-a951-fa3d5c3...</td>\n",
       "      <td>Carting</td>\n",
       "      <td>trip-153741093647649320</td>\n",
       "      <td>IND388121AAA</td>\n",
       "      <td>Anand_VUNagar_DC (Gujarat)</td>\n",
       "      <td>IND388620AAB</td>\n",
       "      <td>Khambhat_MotvdDPP_D (Gujarat)</td>\n",
       "      <td>2018-09-20 03:21:32.418600</td>\n",
       "      <td>...</td>\n",
       "      <td>2018-09-20 03:39:57</td>\n",
       "      <td>36.118028</td>\n",
       "      <td>62.0</td>\n",
       "      <td>40.0</td>\n",
       "      <td>45.5620</td>\n",
       "      <td>1.550000</td>\n",
       "      <td>21.0</td>\n",
       "      <td>12.0</td>\n",
       "      <td>13.0224</td>\n",
       "      <td>1.750000</td>\n",
       "    </tr>\n",
       "    <tr>\n",
       "      <th>4</th>\n",
       "      <td>training</td>\n",
       "      <td>2018-09-20 02:35:36.476840</td>\n",
       "      <td>thanos::sroute:eb7bfc78-b351-4c0e-a951-fa3d5c3...</td>\n",
       "      <td>Carting</td>\n",
       "      <td>trip-153741093647649320</td>\n",
       "      <td>IND388121AAA</td>\n",
       "      <td>Anand_VUNagar_DC (Gujarat)</td>\n",
       "      <td>IND388620AAB</td>\n",
       "      <td>Khambhat_MotvdDPP_D (Gujarat)</td>\n",
       "      <td>2018-09-20 03:21:32.418600</td>\n",
       "      <td>...</td>\n",
       "      <td>2018-09-20 03:33:55</td>\n",
       "      <td>39.386040</td>\n",
       "      <td>68.0</td>\n",
       "      <td>44.0</td>\n",
       "      <td>54.2181</td>\n",
       "      <td>1.545455</td>\n",
       "      <td>6.0</td>\n",
       "      <td>5.0</td>\n",
       "      <td>3.9153</td>\n",
       "      <td>1.200000</td>\n",
       "    </tr>\n",
       "    <tr>\n",
       "      <th>...</th>\n",
       "      <td>...</td>\n",
       "      <td>...</td>\n",
       "      <td>...</td>\n",
       "      <td>...</td>\n",
       "      <td>...</td>\n",
       "      <td>...</td>\n",
       "      <td>...</td>\n",
       "      <td>...</td>\n",
       "      <td>...</td>\n",
       "      <td>...</td>\n",
       "      <td>...</td>\n",
       "      <td>...</td>\n",
       "      <td>...</td>\n",
       "      <td>...</td>\n",
       "      <td>...</td>\n",
       "      <td>...</td>\n",
       "      <td>...</td>\n",
       "      <td>...</td>\n",
       "      <td>...</td>\n",
       "      <td>...</td>\n",
       "      <td>...</td>\n",
       "    </tr>\n",
       "    <tr>\n",
       "      <th>144862</th>\n",
       "      <td>training</td>\n",
       "      <td>2018-09-20 16:24:28.436231</td>\n",
       "      <td>thanos::sroute:f0569d2f-4e20-4c31-8542-67b86d5...</td>\n",
       "      <td>Carting</td>\n",
       "      <td>trip-153746066843555182</td>\n",
       "      <td>IND131028AAB</td>\n",
       "      <td>Sonipat_Kundli_H (Haryana)</td>\n",
       "      <td>IND000000ACB</td>\n",
       "      <td>Gurgaon_Bilaspur_HB (Haryana)</td>\n",
       "      <td>2018-09-20 16:24:28.436231</td>\n",
       "      <td>...</td>\n",
       "      <td>2018-09-20 21:57:20</td>\n",
       "      <td>45.258278</td>\n",
       "      <td>94.0</td>\n",
       "      <td>60.0</td>\n",
       "      <td>67.9280</td>\n",
       "      <td>1.566667</td>\n",
       "      <td>12.0</td>\n",
       "      <td>12.0</td>\n",
       "      <td>8.1858</td>\n",
       "      <td>1.000000</td>\n",
       "    </tr>\n",
       "    <tr>\n",
       "      <th>144863</th>\n",
       "      <td>training</td>\n",
       "      <td>2018-09-20 16:24:28.436231</td>\n",
       "      <td>thanos::sroute:f0569d2f-4e20-4c31-8542-67b86d5...</td>\n",
       "      <td>Carting</td>\n",
       "      <td>trip-153746066843555182</td>\n",
       "      <td>IND131028AAB</td>\n",
       "      <td>Sonipat_Kundli_H (Haryana)</td>\n",
       "      <td>IND000000ACB</td>\n",
       "      <td>Gurgaon_Bilaspur_HB (Haryana)</td>\n",
       "      <td>2018-09-20 16:24:28.436231</td>\n",
       "      <td>...</td>\n",
       "      <td>2018-09-20 21:31:18</td>\n",
       "      <td>54.092531</td>\n",
       "      <td>120.0</td>\n",
       "      <td>76.0</td>\n",
       "      <td>85.6829</td>\n",
       "      <td>1.578947</td>\n",
       "      <td>26.0</td>\n",
       "      <td>21.0</td>\n",
       "      <td>17.3725</td>\n",
       "      <td>1.238095</td>\n",
       "    </tr>\n",
       "    <tr>\n",
       "      <th>144864</th>\n",
       "      <td>training</td>\n",
       "      <td>2018-09-20 16:24:28.436231</td>\n",
       "      <td>thanos::sroute:f0569d2f-4e20-4c31-8542-67b86d5...</td>\n",
       "      <td>Carting</td>\n",
       "      <td>trip-153746066843555182</td>\n",
       "      <td>IND131028AAB</td>\n",
       "      <td>Sonipat_Kundli_H (Haryana)</td>\n",
       "      <td>IND000000ACB</td>\n",
       "      <td>Gurgaon_Bilaspur_HB (Haryana)</td>\n",
       "      <td>2018-09-20 16:24:28.436231</td>\n",
       "      <td>...</td>\n",
       "      <td>2018-09-20 21:11:18</td>\n",
       "      <td>66.163591</td>\n",
       "      <td>140.0</td>\n",
       "      <td>88.0</td>\n",
       "      <td>97.0933</td>\n",
       "      <td>1.590909</td>\n",
       "      <td>20.0</td>\n",
       "      <td>34.0</td>\n",
       "      <td>20.7053</td>\n",
       "      <td>0.588235</td>\n",
       "    </tr>\n",
       "    <tr>\n",
       "      <th>144865</th>\n",
       "      <td>training</td>\n",
       "      <td>2018-09-20 16:24:28.436231</td>\n",
       "      <td>thanos::sroute:f0569d2f-4e20-4c31-8542-67b86d5...</td>\n",
       "      <td>Carting</td>\n",
       "      <td>trip-153746066843555182</td>\n",
       "      <td>IND131028AAB</td>\n",
       "      <td>Sonipat_Kundli_H (Haryana)</td>\n",
       "      <td>IND000000ACB</td>\n",
       "      <td>Gurgaon_Bilaspur_HB (Haryana)</td>\n",
       "      <td>2018-09-20 16:24:28.436231</td>\n",
       "      <td>...</td>\n",
       "      <td>2018-09-20 20:53:19</td>\n",
       "      <td>73.680667</td>\n",
       "      <td>158.0</td>\n",
       "      <td>98.0</td>\n",
       "      <td>111.2709</td>\n",
       "      <td>1.612245</td>\n",
       "      <td>17.0</td>\n",
       "      <td>27.0</td>\n",
       "      <td>18.8885</td>\n",
       "      <td>0.629630</td>\n",
       "    </tr>\n",
       "    <tr>\n",
       "      <th>144866</th>\n",
       "      <td>training</td>\n",
       "      <td>2018-09-20 16:24:28.436231</td>\n",
       "      <td>thanos::sroute:f0569d2f-4e20-4c31-8542-67b86d5...</td>\n",
       "      <td>Carting</td>\n",
       "      <td>trip-153746066843555182</td>\n",
       "      <td>IND131028AAB</td>\n",
       "      <td>Sonipat_Kundli_H (Haryana)</td>\n",
       "      <td>IND000000ACB</td>\n",
       "      <td>Gurgaon_Bilaspur_HB (Haryana)</td>\n",
       "      <td>2018-09-20 16:24:28.436231</td>\n",
       "      <td>...</td>\n",
       "      <td>2018-09-20 16:24:28.436231</td>\n",
       "      <td>70.039010</td>\n",
       "      <td>426.0</td>\n",
       "      <td>95.0</td>\n",
       "      <td>88.7319</td>\n",
       "      <td>4.484211</td>\n",
       "      <td>268.0</td>\n",
       "      <td>9.0</td>\n",
       "      <td>8.8088</td>\n",
       "      <td>29.777778</td>\n",
       "    </tr>\n",
       "  </tbody>\n",
       "</table>\n",
       "<p>144867 rows × 24 columns</p>\n",
       "</div>"
      ],
      "text/plain": [
       "            data          trip_creation_time  \\\n",
       "0       training  2018-09-20 02:35:36.476840   \n",
       "1       training  2018-09-20 02:35:36.476840   \n",
       "2       training  2018-09-20 02:35:36.476840   \n",
       "3       training  2018-09-20 02:35:36.476840   \n",
       "4       training  2018-09-20 02:35:36.476840   \n",
       "...          ...                         ...   \n",
       "144862  training  2018-09-20 16:24:28.436231   \n",
       "144863  training  2018-09-20 16:24:28.436231   \n",
       "144864  training  2018-09-20 16:24:28.436231   \n",
       "144865  training  2018-09-20 16:24:28.436231   \n",
       "144866  training  2018-09-20 16:24:28.436231   \n",
       "\n",
       "                                      route_schedule_uuid route_type  \\\n",
       "0       thanos::sroute:eb7bfc78-b351-4c0e-a951-fa3d5c3...    Carting   \n",
       "1       thanos::sroute:eb7bfc78-b351-4c0e-a951-fa3d5c3...    Carting   \n",
       "2       thanos::sroute:eb7bfc78-b351-4c0e-a951-fa3d5c3...    Carting   \n",
       "3       thanos::sroute:eb7bfc78-b351-4c0e-a951-fa3d5c3...    Carting   \n",
       "4       thanos::sroute:eb7bfc78-b351-4c0e-a951-fa3d5c3...    Carting   \n",
       "...                                                   ...        ...   \n",
       "144862  thanos::sroute:f0569d2f-4e20-4c31-8542-67b86d5...    Carting   \n",
       "144863  thanos::sroute:f0569d2f-4e20-4c31-8542-67b86d5...    Carting   \n",
       "144864  thanos::sroute:f0569d2f-4e20-4c31-8542-67b86d5...    Carting   \n",
       "144865  thanos::sroute:f0569d2f-4e20-4c31-8542-67b86d5...    Carting   \n",
       "144866  thanos::sroute:f0569d2f-4e20-4c31-8542-67b86d5...    Carting   \n",
       "\n",
       "                      trip_uuid source_center                 source_name  \\\n",
       "0       trip-153741093647649320  IND388121AAA  Anand_VUNagar_DC (Gujarat)   \n",
       "1       trip-153741093647649320  IND388121AAA  Anand_VUNagar_DC (Gujarat)   \n",
       "2       trip-153741093647649320  IND388121AAA  Anand_VUNagar_DC (Gujarat)   \n",
       "3       trip-153741093647649320  IND388121AAA  Anand_VUNagar_DC (Gujarat)   \n",
       "4       trip-153741093647649320  IND388121AAA  Anand_VUNagar_DC (Gujarat)   \n",
       "...                         ...           ...                         ...   \n",
       "144862  trip-153746066843555182  IND131028AAB  Sonipat_Kundli_H (Haryana)   \n",
       "144863  trip-153746066843555182  IND131028AAB  Sonipat_Kundli_H (Haryana)   \n",
       "144864  trip-153746066843555182  IND131028AAB  Sonipat_Kundli_H (Haryana)   \n",
       "144865  trip-153746066843555182  IND131028AAB  Sonipat_Kundli_H (Haryana)   \n",
       "144866  trip-153746066843555182  IND131028AAB  Sonipat_Kundli_H (Haryana)   \n",
       "\n",
       "       destination_center               destination_name  \\\n",
       "0            IND388620AAB  Khambhat_MotvdDPP_D (Gujarat)   \n",
       "1            IND388620AAB  Khambhat_MotvdDPP_D (Gujarat)   \n",
       "2            IND388620AAB  Khambhat_MotvdDPP_D (Gujarat)   \n",
       "3            IND388620AAB  Khambhat_MotvdDPP_D (Gujarat)   \n",
       "4            IND388620AAB  Khambhat_MotvdDPP_D (Gujarat)   \n",
       "...                   ...                            ...   \n",
       "144862       IND000000ACB  Gurgaon_Bilaspur_HB (Haryana)   \n",
       "144863       IND000000ACB  Gurgaon_Bilaspur_HB (Haryana)   \n",
       "144864       IND000000ACB  Gurgaon_Bilaspur_HB (Haryana)   \n",
       "144865       IND000000ACB  Gurgaon_Bilaspur_HB (Haryana)   \n",
       "144866       IND000000ACB  Gurgaon_Bilaspur_HB (Haryana)   \n",
       "\n",
       "                     od_start_time  ...            cutoff_timestamp  \\\n",
       "0       2018-09-20 03:21:32.418600  ...         2018-09-20 04:27:55   \n",
       "1       2018-09-20 03:21:32.418600  ...         2018-09-20 04:17:55   \n",
       "2       2018-09-20 03:21:32.418600  ...  2018-09-20 04:01:19.505586   \n",
       "3       2018-09-20 03:21:32.418600  ...         2018-09-20 03:39:57   \n",
       "4       2018-09-20 03:21:32.418600  ...         2018-09-20 03:33:55   \n",
       "...                            ...  ...                         ...   \n",
       "144862  2018-09-20 16:24:28.436231  ...         2018-09-20 21:57:20   \n",
       "144863  2018-09-20 16:24:28.436231  ...         2018-09-20 21:31:18   \n",
       "144864  2018-09-20 16:24:28.436231  ...         2018-09-20 21:11:18   \n",
       "144865  2018-09-20 16:24:28.436231  ...         2018-09-20 20:53:19   \n",
       "144866  2018-09-20 16:24:28.436231  ...  2018-09-20 16:24:28.436231   \n",
       "\n",
       "        actual_distance_to_destination  actual_time  osrm_time osrm_distance  \\\n",
       "0                            10.435660         14.0       11.0       11.9653   \n",
       "1                            18.936842         24.0       20.0       21.7243   \n",
       "2                            27.637279         40.0       28.0       32.5395   \n",
       "3                            36.118028         62.0       40.0       45.5620   \n",
       "4                            39.386040         68.0       44.0       54.2181   \n",
       "...                                ...          ...        ...           ...   \n",
       "144862                       45.258278         94.0       60.0       67.9280   \n",
       "144863                       54.092531        120.0       76.0       85.6829   \n",
       "144864                       66.163591        140.0       88.0       97.0933   \n",
       "144865                       73.680667        158.0       98.0      111.2709   \n",
       "144866                       70.039010        426.0       95.0       88.7319   \n",
       "\n",
       "          factor  segment_actual_time  segment_osrm_time  \\\n",
       "0       1.272727                 14.0               11.0   \n",
       "1       1.200000                 10.0                9.0   \n",
       "2       1.428571                 16.0                7.0   \n",
       "3       1.550000                 21.0               12.0   \n",
       "4       1.545455                  6.0                5.0   \n",
       "...          ...                  ...                ...   \n",
       "144862  1.566667                 12.0               12.0   \n",
       "144863  1.578947                 26.0               21.0   \n",
       "144864  1.590909                 20.0               34.0   \n",
       "144865  1.612245                 17.0               27.0   \n",
       "144866  4.484211                268.0                9.0   \n",
       "\n",
       "        segment_osrm_distance  segment_factor  \n",
       "0                     11.9653        1.272727  \n",
       "1                      9.7590        1.111111  \n",
       "2                     10.8152        2.285714  \n",
       "3                     13.0224        1.750000  \n",
       "4                      3.9153        1.200000  \n",
       "...                       ...             ...  \n",
       "144862                 8.1858        1.000000  \n",
       "144863                17.3725        1.238095  \n",
       "144864                20.7053        0.588235  \n",
       "144865                18.8885        0.629630  \n",
       "144866                 8.8088       29.777778  \n",
       "\n",
       "[144867 rows x 24 columns]"
      ]
     },
     "execution_count": 60,
     "metadata": {},
     "output_type": "execute_result"
    }
   ],
   "source": [
    "import pandas as pd\n",
    "\n",
    "\n",
    "c_df = pd.read_csv('./datasets/delhivery_data.csv')\n",
    "c_df\n"
   ]
  },
  {
   "cell_type": "code",
   "execution_count": 61,
   "id": "76b0706c-6b01-434f-966d-e72fa71de01f",
   "metadata": {},
   "outputs": [
    {
     "name": "stdout",
     "output_type": "stream",
     "text": [
      "<class 'pandas.core.frame.DataFrame'>\n",
      "RangeIndex: 144867 entries, 0 to 144866\n",
      "Data columns (total 24 columns):\n",
      " #   Column                          Non-Null Count   Dtype  \n",
      "---  ------                          --------------   -----  \n",
      " 0   data                            144867 non-null  object \n",
      " 1   trip_creation_time              144867 non-null  object \n",
      " 2   route_schedule_uuid             144867 non-null  object \n",
      " 3   route_type                      144867 non-null  object \n",
      " 4   trip_uuid                       144867 non-null  object \n",
      " 5   source_center                   144867 non-null  object \n",
      " 6   source_name                     144574 non-null  object \n",
      " 7   destination_center              144867 non-null  object \n",
      " 8   destination_name                144606 non-null  object \n",
      " 9   od_start_time                   144867 non-null  object \n",
      " 10  od_end_time                     144867 non-null  object \n",
      " 11  start_scan_to_end_scan          144867 non-null  float64\n",
      " 12  is_cutoff                       144867 non-null  bool   \n",
      " 13  cutoff_factor                   144867 non-null  int64  \n",
      " 14  cutoff_timestamp                144867 non-null  object \n",
      " 15  actual_distance_to_destination  144867 non-null  float64\n",
      " 16  actual_time                     144867 non-null  float64\n",
      " 17  osrm_time                       144867 non-null  float64\n",
      " 18  osrm_distance                   144867 non-null  float64\n",
      " 19  factor                          144867 non-null  float64\n",
      " 20  segment_actual_time             144867 non-null  float64\n",
      " 21  segment_osrm_time               144867 non-null  float64\n",
      " 22  segment_osrm_distance           144867 non-null  float64\n",
      " 23  segment_factor                  144867 non-null  float64\n",
      "dtypes: bool(1), float64(10), int64(1), object(12)\n",
      "memory usage: 25.6+ MB\n"
     ]
    }
   ],
   "source": [
    "c_df.info()"
   ]
  },
  {
   "cell_type": "code",
   "execution_count": 62,
   "id": "7a7ff85a-d640-4a71-9099-b25dd7474f5f",
   "metadata": {},
   "outputs": [],
   "source": [
    "c_df = c_df.drop(labels=['data', 'trip_creation_time', 'od_end_time', 'cutoff_timestamp', 'route_schedule_uuid', 'trip_uuid', 'source_center', 'source_name' , 'destination_center', 'destination_name', 'od_start_time'], axis=1)"
   ]
  },
  {
   "cell_type": "code",
   "execution_count": 63,
   "id": "a240274b-832a-4530-b24d-c106dab2261e",
   "metadata": {},
   "outputs": [],
   "source": [
    "from sklearn.preprocessing import LabelEncoder\n",
    "\n",
    "# dd = d_df.copy()\n",
    "columns = ['route_type','is_cutoff']\n",
    "label_encoders = {}\n",
    "\n",
    "for column in columns:\n",
    "    encoder = LabelEncoder()\n",
    "    result = encoder.fit_transform(c_df[column])\n",
    "    label_encoders[column] = encoder.classes_\n",
    "    c_df[column] = result\n",
    "\n",
    "# label_encoders"
   ]
  },
  {
   "cell_type": "code",
   "execution_count": 64,
   "id": "b1f3344a-30d6-47a0-b94e-d33caeb87c27",
   "metadata": {},
   "outputs": [
    {
     "data": {
      "text/plain": [
       "is_cutoff\n",
       "1    118749\n",
       "0     26118\n",
       "Name: count, dtype: int64"
      ]
     },
     "execution_count": 64,
     "metadata": {},
     "output_type": "execute_result"
    }
   ],
   "source": [
    "c_df.is_cutoff.value_counts()"
   ]
  },
  {
   "cell_type": "code",
   "execution_count": 65,
   "id": "f2ddbb9c-3360-42dc-a666-f414cb1e9e35",
   "metadata": {},
   "outputs": [],
   "source": [
    "c_df['actual_time'] = c_df.pop('actual_time')\n",
    "c_df.reset_index(drop=True, inplace=True)"
   ]
  },
  {
   "cell_type": "code",
   "execution_count": 66,
   "id": "ab1b3139-d42b-497f-a4c2-3fd7b1e2cda2",
   "metadata": {},
   "outputs": [],
   "source": [
    "from sklearn.model_selection import train_test_split\n",
    "\n",
    "features, targets = c_df.iloc[:, :-1], c_df.iloc[:, -1]\n",
    "\n",
    "X_train, X_test, y_train, y_test = \\\n",
    "train_test_split(features, targets, test_size=0.2, random_state=124)\n",
    "\n",
    "train_df = pd.concat([X_train, y_train], axis=1).reset_index(drop=True)\n",
    "test_df = pd.concat([X_test, y_test], axis=1).reset_index(drop=True)\n"
   ]
  },
  {
   "cell_type": "code",
   "execution_count": 67,
   "id": "05c073d5-81ed-46ce-aff5-3c49edfc901b",
   "metadata": {},
   "outputs": [
    {
     "name": "stdout",
     "output_type": "stream",
     "text": [
      "0.9055241385327759\n",
      "0.9973173384988463\n",
      "0.9991792044336122\n",
      "0.9996893100625829\n",
      "0.9999199545435157\n",
      "0.9999816421781084\n",
      "0.9999915179110415\n",
      "0.9999977854403864\n",
      "0.9999988381381861\n",
      "0.9999998332699884\n"
     ]
    }
   ],
   "source": [
    "from sklearn.decomposition import PCA\n",
    "\n",
    "for i in range(10):\n",
    "    pca = PCA(n_components=(i + 1))\n",
    "    \n",
    "    pca_train = pca.fit_transform(features)\n",
    "    pca_test = pca.fit_transform(features)\n",
    "\n",
    "    print(pca.explained_variance_ratio_.sum())"
   ]
  },
  {
   "cell_type": "code",
   "execution_count": 77,
   "id": "0a2dd4d8-b288-4e80-842f-efe5e20435b3",
   "metadata": {},
   "outputs": [
    {
     "data": {
      "text/html": [
       "<style>#sk-container-id-16 {color: black;background-color: white;}#sk-container-id-16 pre{padding: 0;}#sk-container-id-16 div.sk-toggleable {background-color: white;}#sk-container-id-16 label.sk-toggleable__label {cursor: pointer;display: block;width: 100%;margin-bottom: 0;padding: 0.3em;box-sizing: border-box;text-align: center;}#sk-container-id-16 label.sk-toggleable__label-arrow:before {content: \"▸\";float: left;margin-right: 0.25em;color: #696969;}#sk-container-id-16 label.sk-toggleable__label-arrow:hover:before {color: black;}#sk-container-id-16 div.sk-estimator:hover label.sk-toggleable__label-arrow:before {color: black;}#sk-container-id-16 div.sk-toggleable__content {max-height: 0;max-width: 0;overflow: hidden;text-align: left;background-color: #f0f8ff;}#sk-container-id-16 div.sk-toggleable__content pre {margin: 0.2em;color: black;border-radius: 0.25em;background-color: #f0f8ff;}#sk-container-id-16 input.sk-toggleable__control:checked~div.sk-toggleable__content {max-height: 200px;max-width: 100%;overflow: auto;}#sk-container-id-16 input.sk-toggleable__control:checked~label.sk-toggleable__label-arrow:before {content: \"▾\";}#sk-container-id-16 div.sk-estimator input.sk-toggleable__control:checked~label.sk-toggleable__label {background-color: #d4ebff;}#sk-container-id-16 div.sk-label input.sk-toggleable__control:checked~label.sk-toggleable__label {background-color: #d4ebff;}#sk-container-id-16 input.sk-hidden--visually {border: 0;clip: rect(1px 1px 1px 1px);clip: rect(1px, 1px, 1px, 1px);height: 1px;margin: -1px;overflow: hidden;padding: 0;position: absolute;width: 1px;}#sk-container-id-16 div.sk-estimator {font-family: monospace;background-color: #f0f8ff;border: 1px dotted black;border-radius: 0.25em;box-sizing: border-box;margin-bottom: 0.5em;}#sk-container-id-16 div.sk-estimator:hover {background-color: #d4ebff;}#sk-container-id-16 div.sk-parallel-item::after {content: \"\";width: 100%;border-bottom: 1px solid gray;flex-grow: 1;}#sk-container-id-16 div.sk-label:hover label.sk-toggleable__label {background-color: #d4ebff;}#sk-container-id-16 div.sk-serial::before {content: \"\";position: absolute;border-left: 1px solid gray;box-sizing: border-box;top: 0;bottom: 0;left: 50%;z-index: 0;}#sk-container-id-16 div.sk-serial {display: flex;flex-direction: column;align-items: center;background-color: white;padding-right: 0.2em;padding-left: 0.2em;position: relative;}#sk-container-id-16 div.sk-item {position: relative;z-index: 1;}#sk-container-id-16 div.sk-parallel {display: flex;align-items: stretch;justify-content: center;background-color: white;position: relative;}#sk-container-id-16 div.sk-item::before, #sk-container-id-16 div.sk-parallel-item::before {content: \"\";position: absolute;border-left: 1px solid gray;box-sizing: border-box;top: 0;bottom: 0;left: 50%;z-index: -1;}#sk-container-id-16 div.sk-parallel-item {display: flex;flex-direction: column;z-index: 1;position: relative;background-color: white;}#sk-container-id-16 div.sk-parallel-item:first-child::after {align-self: flex-end;width: 50%;}#sk-container-id-16 div.sk-parallel-item:last-child::after {align-self: flex-start;width: 50%;}#sk-container-id-16 div.sk-parallel-item:only-child::after {width: 0;}#sk-container-id-16 div.sk-dashed-wrapped {border: 1px dashed gray;margin: 0 0.4em 0.5em 0.4em;box-sizing: border-box;padding-bottom: 0.4em;background-color: white;}#sk-container-id-16 div.sk-label label {font-family: monospace;font-weight: bold;display: inline-block;line-height: 1.2em;}#sk-container-id-16 div.sk-label-container {text-align: center;}#sk-container-id-16 div.sk-container {/* jupyter's `normalize.less` sets `[hidden] { display: none; }` but bootstrap.min.css set `[hidden] { display: none !important; }` so we also need the `!important` here to be able to override the default hidden behavior on the sphinx rendered scikit-learn.org. See: https://github.com/scikit-learn/scikit-learn/issues/21755 */display: inline-block !important;position: relative;}#sk-container-id-16 div.sk-text-repr-fallback {display: none;}</style><div id=\"sk-container-id-16\" class=\"sk-top-container\"><div class=\"sk-text-repr-fallback\"><pre>Pipeline(steps=[(&#x27;std&#x27;, StandardScaler()), (&#x27;pca&#x27;, PCA(n_components=3)),\n",
       "                (&#x27;l_r&#x27;, LinearRegression())])</pre><b>In a Jupyter environment, please rerun this cell to show the HTML representation or trust the notebook. <br />On GitHub, the HTML representation is unable to render, please try loading this page with nbviewer.org.</b></div><div class=\"sk-container\" hidden><div class=\"sk-item sk-dashed-wrapped\"><div class=\"sk-label-container\"><div class=\"sk-label sk-toggleable\"><input class=\"sk-toggleable__control sk-hidden--visually\" id=\"sk-estimator-id-60\" type=\"checkbox\" ><label for=\"sk-estimator-id-60\" class=\"sk-toggleable__label sk-toggleable__label-arrow\">Pipeline</label><div class=\"sk-toggleable__content\"><pre>Pipeline(steps=[(&#x27;std&#x27;, StandardScaler()), (&#x27;pca&#x27;, PCA(n_components=3)),\n",
       "                (&#x27;l_r&#x27;, LinearRegression())])</pre></div></div></div><div class=\"sk-serial\"><div class=\"sk-item\"><div class=\"sk-estimator sk-toggleable\"><input class=\"sk-toggleable__control sk-hidden--visually\" id=\"sk-estimator-id-61\" type=\"checkbox\" ><label for=\"sk-estimator-id-61\" class=\"sk-toggleable__label sk-toggleable__label-arrow\">StandardScaler</label><div class=\"sk-toggleable__content\"><pre>StandardScaler()</pre></div></div></div><div class=\"sk-item\"><div class=\"sk-estimator sk-toggleable\"><input class=\"sk-toggleable__control sk-hidden--visually\" id=\"sk-estimator-id-62\" type=\"checkbox\" ><label for=\"sk-estimator-id-62\" class=\"sk-toggleable__label sk-toggleable__label-arrow\">PCA</label><div class=\"sk-toggleable__content\"><pre>PCA(n_components=3)</pre></div></div></div><div class=\"sk-item\"><div class=\"sk-estimator sk-toggleable\"><input class=\"sk-toggleable__control sk-hidden--visually\" id=\"sk-estimator-id-63\" type=\"checkbox\" ><label for=\"sk-estimator-id-63\" class=\"sk-toggleable__label sk-toggleable__label-arrow\">LinearRegression</label><div class=\"sk-toggleable__content\"><pre>LinearRegression()</pre></div></div></div></div></div></div></div>"
      ],
      "text/plain": [
       "Pipeline(steps=[('std', StandardScaler()), ('pca', PCA(n_components=3)),\n",
       "                ('l_r', LinearRegression())])"
      ]
     },
     "execution_count": 77,
     "metadata": {},
     "output_type": "execute_result"
    }
   ],
   "source": [
    "from sklearn.preprocessing import StandardScaler\n",
    "from sklearn.pipeline import Pipeline\n",
    "from sklearn.model_selection import train_test_split, GridSearchCV\n",
    "from sklearn.linear_model import LinearRegression\n",
    "from sklearn.decomposition import PCA\n",
    "\n",
    "features, targets = c_df.iloc[:, 1:], c_df.iloc[:, 0]\n",
    "\n",
    "X_train, X_test, y_train, y_test = \\\n",
    "train_test_split(features, targets, test_size=0.2, random_state=124)\n",
    "\n",
    "l_r = LinearRegression()\n",
    "\n",
    "pipe = Pipeline([('std', StandardScaler()), ('pca', PCA(n_components=3)), ('l_r', l_r)])\n",
    "pipe.fit(X_train, y_train)"
   ]
  },
  {
   "cell_type": "code",
   "execution_count": 81,
   "id": "2019e1a4-07f4-4ba0-b325-1372c419e297",
   "metadata": {},
   "outputs": [],
   "source": [
    "# import numpy as np\n",
    "# from sklearn.metrics import mean_squared_log_error, mean_squared_error, r2_score\n",
    "\n",
    "# def get_evaluation(y_test, prediction):\n",
    "#     MSE = mean_squared_error(y_test, prediction)\n",
    "#     RMSE = np.sqrt(MSE)\n",
    "#     MSLE = mean_squared_log_error(y_test, prediction)\n",
    "#     RMSLE = np.sqrt(mean_squared_log_error(y_test, prediction))\n",
    "#     R2 = r2_score(y_test, prediction)\n",
    "#     print('MSE: {:.4f}, RMSE: {:.4f}, MSLE: {:.4f}, RMSLE: {:.4f}, R2: {:.4f}'\\\n",
    "#           .format(MSE, RMSE, MSLE, RMSLE, R2))\n",
    "\n",
    "\n",
    "import numpy as np\n",
    "from sklearn.metrics import mean_squared_log_error, mean_squared_error, r2_score\n",
    "\n",
    "def get_evaluation(y_test, prediction):\n",
    "    MSE = mean_squared_error(y_test, prediction)\n",
    "    RMSE = np.sqrt(MSE)\n",
    "\n",
    "    R2 = r2_score(y_test, prediction)\n",
    "\n",
    "    print('MSE: {:.4f}, RMSE: {:.4f}, R2: {:.4f}'\\\n",
    "      .format(MSE, RMSE,  R2))"
   ]
  },
  {
   "cell_type": "code",
   "execution_count": 83,
   "id": "7fd6187f-15db-4bc2-aadf-18d468386c8e",
   "metadata": {},
   "outputs": [
    {
     "name": "stdout",
     "output_type": "stream",
     "text": [
      "MSE: 0.1507, RMSE: 0.3882, R2: 0.3001\n"
     ]
    }
   ],
   "source": [
    "prediction = pipe.predict(X_test)\n",
    "get_evaluation(y_test, prediction)"
   ]
  },
  {
   "cell_type": "code",
   "execution_count": 95,
   "id": "02602dba-56a1-4141-8a16-932760ec97da",
   "metadata": {},
   "outputs": [
    {
     "name": "stdout",
     "output_type": "stream",
     "text": [
      "DecisionTreeRegressor\n",
      "MSE: 15353.2369, RMSE: 123.9082, R2: 0.9559\n",
      "RandomForestRegressor\n",
      "MSE: 8683.2510, RMSE: 93.1840, R2: 0.9751\n",
      "GradientBoostingRegressor\n",
      "MSE: 9866.2080, RMSE: 99.3288, R2: 0.9717\n",
      "XGBRegressor\n",
      "MSE: 9090.4090, RMSE: 95.3436, R2: 0.9739\n",
      "[LightGBM] [Info] Auto-choosing row-wise multi-threading, the overhead of testing was 0.000853 seconds.\n",
      "You can set `force_row_wise=true` to remove the overhead.\n",
      "And if memory is not enough, you can set `force_col_wise=true`.\n",
      "[LightGBM] [Info] Total Bins 765\n",
      "[LightGBM] [Info] Number of data points in the train set: 115893, number of used features: 3\n",
      "[LightGBM] [Info] Start training from score 418.766267\n",
      "LGBMRegressor\n",
      "MSE: 9109.7831, RMSE: 95.4452, R2: 0.9738\n"
     ]
    }
   ],
   "source": [
    "from sklearn.tree import DecisionTreeRegressor\n",
    "from sklearn.ensemble import RandomForestRegressor\n",
    "from sklearn.ensemble import GradientBoostingRegressor\n",
    "from xgboost import XGBRegressor\n",
    "from lightgbm import LGBMRegressor\n",
    "from sklearn.model_selection import train_test_split\n",
    "from sklearn.preprocessing import StandardScaler\n",
    "from sklearn.pipeline import Pipeline\n",
    "from sklearn.model_selection import train_test_split, GridSearchCV\n",
    "from sklearn.linear_model import LinearRegression\n",
    "from sklearn.decomposition import PCA\n",
    "from sklearn.preprocessing import PolynomialFeatures\n",
    "\n",
    "features, targets = c_df.iloc[:, :-1], c_df.iloc[:, -1]\n",
    "\n",
    "X_train, X_test, y_train, y_test = \\\n",
    "train_test_split(features, targets, test_size=0.2, random_state=124)\n",
    "\n",
    "dt_r = DecisionTreeRegressor(random_state=124)\n",
    "rf_r = RandomForestRegressor(random_state=124, n_estimators=1000)\n",
    "gb_r = GradientBoostingRegressor(random_state=124)\n",
    "xgb_r = XGBRegressor()\n",
    "lgb_r = LGBMRegressor(n_estimators=100)\n",
    "\n",
    "models = [dt_r, rf_r, gb_r, xgb_r, lgb_r]\n",
    "for model in models:\n",
    "    pipe = Pipeline([('std', StandardScaler()), ('pca', PCA(n_components=3)), (f'{model}', model)])\n",
    "    pipe.fit(X_train, y_train)\n",
    "    prediction = pipe.predict(X_test)\n",
    "    print(model.__class__.__name__)\n",
    "    get_evaluation(y_test, prediction)"
   ]
  },
  {
   "cell_type": "markdown",
   "id": "38877ada-8d50-4e41-aee5-261e18778717",
   "metadata": {},
   "source": [
    "#### cycle 1 \n",
    "\n",
    "비선형, 전처리 좀 해주고 규제 걸어줍시다."
   ]
  },
  {
   "cell_type": "code",
   "execution_count": 96,
   "id": "253efb93-ef38-4d09-b671-26c6471eaf0e",
   "metadata": {},
   "outputs": [
    {
     "data": {
      "text/plain": [
       "array([[<Axes: title={'center': 'route_type'}>,\n",
       "        <Axes: title={'center': 'start_scan_to_end_scan'}>,\n",
       "        <Axes: title={'center': 'is_cutoff'}>,\n",
       "        <Axes: title={'center': 'cutoff_factor'}>],\n",
       "       [<Axes: title={'center': 'actual_distance_to_destination'}>,\n",
       "        <Axes: title={'center': 'osrm_time'}>,\n",
       "        <Axes: title={'center': 'osrm_distance'}>,\n",
       "        <Axes: title={'center': 'factor'}>],\n",
       "       [<Axes: title={'center': 'segment_actual_time'}>,\n",
       "        <Axes: title={'center': 'segment_osrm_time'}>,\n",
       "        <Axes: title={'center': 'segment_osrm_distance'}>,\n",
       "        <Axes: title={'center': 'segment_factor'}>],\n",
       "       [<Axes: title={'center': 'actual_time'}>, <Axes: >, <Axes: >,\n",
       "        <Axes: >]], dtype=object)"
      ]
     },
     "execution_count": 96,
     "metadata": {},
     "output_type": "execute_result"
    },
    {
     "data": {
      "image/png": "[encoded data removed]",
      "text/plain": [
       "<Figure size 1000x800 with 16 Axes>"
      ]
     },
     "metadata": {},
     "output_type": "display_data"
    }
   ],
   "source": [
    "c_df.hist(figsize=(10,8))"
   ]
  },
  {
   "cell_type": "code",
   "execution_count": 97,
   "id": "e9b829a7-bcc3-4e49-91fa-1f281c8090da",
   "metadata": {},
   "outputs": [],
   "source": [
    "from sklearn.preprocessing import PowerTransformer\n",
    "\n",
    "# box-cox: 양수만 가능\n",
    "# yeo-johnson: 음수, 0 포함 가능, default\n",
    "\n",
    "# ptf = PowerTransformer(method='box-cox', standardize=False)\n",
    "ptf = PowerTransformer(standardize=False)\n",
    "\n",
    "result = ptf.fit_transform(c_df[['start_scan_to_end_scan']])\n",
    "c_df['start_scan_to_end_scan'] = result\n",
    "\n",
    "result = ptf.fit_transform(c_df[['cutoff_factor']])\n",
    "c_df['cutoff_factor'] = result\n",
    "\n",
    "result = ptf.fit_transform(c_df[['actual_distance_to_destination']])\n",
    "c_df['actual_distance_to_destination'] = result\n",
    "\n",
    "result = ptf.fit_transform(c_df[['osrm_time']])\n",
    "c_df['osrm_time'] = result\n",
    "\n",
    "result = ptf.fit_transform(c_df[['osrm_distance']])\n",
    "c_df['osrm_distance'] = result\n",
    "\n",
    "result = ptf.fit_transform(c_df[['factor']])\n",
    "c_df['factor'] = result\n",
    "\n",
    "result = ptf.fit_transform(c_df[['segment_actual_time']])\n",
    "c_df['segment_actual_time'] = result\n",
    "\n",
    "result = ptf.fit_transform(c_df[['segment_osrm_time']])\n",
    "c_df['segment_osrm_time'] = result\n",
    "\n",
    "result = ptf.fit_transform(c_df[['segment_osrm_distance']])\n",
    "c_df['segment_osrm_distance'] = result\n",
    "\n",
    "result = ptf.fit_transform(c_df[['segment_factor']])\n",
    "c_df['segment_factor'] = result\n",
    "\n",
    "result = ptf.fit_transform(c_df[['actual_time']])\n",
    "c_df['actual_time'] = result"
   ]
  },
  {
   "cell_type": "code",
   "execution_count": 100,
   "id": "f7c1640e-acfc-44ea-b9d0-9ab4838ccd14",
   "metadata": {},
   "outputs": [
    {
     "data": {
      "text/plain": [
       "array([[<Axes: title={'center': 'route_type'}>,\n",
       "        <Axes: title={'center': 'start_scan_to_end_scan'}>,\n",
       "        <Axes: title={'center': 'is_cutoff'}>,\n",
       "        <Axes: title={'center': 'cutoff_factor'}>],\n",
       "       [<Axes: title={'center': 'actual_distance_to_destination'}>,\n",
       "        <Axes: title={'center': 'osrm_time'}>,\n",
       "        <Axes: title={'center': 'osrm_distance'}>,\n",
       "        <Axes: title={'center': 'factor'}>],\n",
       "       [<Axes: title={'center': 'segment_actual_time'}>,\n",
       "        <Axes: title={'center': 'segment_osrm_time'}>,\n",
       "        <Axes: title={'center': 'segment_osrm_distance'}>,\n",
       "        <Axes: title={'center': 'segment_factor'}>],\n",
       "       [<Axes: title={'center': 'actual_time'}>, <Axes: >, <Axes: >,\n",
       "        <Axes: >]], dtype=object)"
      ]
     },
     "execution_count": 100,
     "metadata": {},
     "output_type": "execute_result"
    },
    {
     "data": {
      "image/png": "[encoded data removed]",
      "text/plain": [
       "<Figure size 1000x800 with 16 Axes>"
      ]
     },
     "metadata": {},
     "output_type": "display_data"
    }
   ],
   "source": [
    "c_df.hist(figsize=(10,8))"
   ]
  },
  {
   "cell_type": "code",
   "execution_count": 101,
   "id": "571a78ac-26dd-43ce-964d-cd8adf67101c",
   "metadata": {},
   "outputs": [
    {
     "data": {
      "text/html": [
       "<style>#sk-container-id-20 {color: black;background-color: white;}#sk-container-id-20 pre{padding: 0;}#sk-container-id-20 div.sk-toggleable {background-color: white;}#sk-container-id-20 label.sk-toggleable__label {cursor: pointer;display: block;width: 100%;margin-bottom: 0;padding: 0.3em;box-sizing: border-box;text-align: center;}#sk-container-id-20 label.sk-toggleable__label-arrow:before {content: \"▸\";float: left;margin-right: 0.25em;color: #696969;}#sk-container-id-20 label.sk-toggleable__label-arrow:hover:before {color: black;}#sk-container-id-20 div.sk-estimator:hover label.sk-toggleable__label-arrow:before {color: black;}#sk-container-id-20 div.sk-toggleable__content {max-height: 0;max-width: 0;overflow: hidden;text-align: left;background-color: #f0f8ff;}#sk-container-id-20 div.sk-toggleable__content pre {margin: 0.2em;color: black;border-radius: 0.25em;background-color: #f0f8ff;}#sk-container-id-20 input.sk-toggleable__control:checked~div.sk-toggleable__content {max-height: 200px;max-width: 100%;overflow: auto;}#sk-container-id-20 input.sk-toggleable__control:checked~label.sk-toggleable__label-arrow:before {content: \"▾\";}#sk-container-id-20 div.sk-estimator input.sk-toggleable__control:checked~label.sk-toggleable__label {background-color: #d4ebff;}#sk-container-id-20 div.sk-label input.sk-toggleable__control:checked~label.sk-toggleable__label {background-color: #d4ebff;}#sk-container-id-20 input.sk-hidden--visually {border: 0;clip: rect(1px 1px 1px 1px);clip: rect(1px, 1px, 1px, 1px);height: 1px;margin: -1px;overflow: hidden;padding: 0;position: absolute;width: 1px;}#sk-container-id-20 div.sk-estimator {font-family: monospace;background-color: #f0f8ff;border: 1px dotted black;border-radius: 0.25em;box-sizing: border-box;margin-bottom: 0.5em;}#sk-container-id-20 div.sk-estimator:hover {background-color: #d4ebff;}#sk-container-id-20 div.sk-parallel-item::after {content: \"\";width: 100%;border-bottom: 1px solid gray;flex-grow: 1;}#sk-container-id-20 div.sk-label:hover label.sk-toggleable__label {background-color: #d4ebff;}#sk-container-id-20 div.sk-serial::before {content: \"\";position: absolute;border-left: 1px solid gray;box-sizing: border-box;top: 0;bottom: 0;left: 50%;z-index: 0;}#sk-container-id-20 div.sk-serial {display: flex;flex-direction: column;align-items: center;background-color: white;padding-right: 0.2em;padding-left: 0.2em;position: relative;}#sk-container-id-20 div.sk-item {position: relative;z-index: 1;}#sk-container-id-20 div.sk-parallel {display: flex;align-items: stretch;justify-content: center;background-color: white;position: relative;}#sk-container-id-20 div.sk-item::before, #sk-container-id-20 div.sk-parallel-item::before {content: \"\";position: absolute;border-left: 1px solid gray;box-sizing: border-box;top: 0;bottom: 0;left: 50%;z-index: -1;}#sk-container-id-20 div.sk-parallel-item {display: flex;flex-direction: column;z-index: 1;position: relative;background-color: white;}#sk-container-id-20 div.sk-parallel-item:first-child::after {align-self: flex-end;width: 50%;}#sk-container-id-20 div.sk-parallel-item:last-child::after {align-self: flex-start;width: 50%;}#sk-container-id-20 div.sk-parallel-item:only-child::after {width: 0;}#sk-container-id-20 div.sk-dashed-wrapped {border: 1px dashed gray;margin: 0 0.4em 0.5em 0.4em;box-sizing: border-box;padding-bottom: 0.4em;background-color: white;}#sk-container-id-20 div.sk-label label {font-family: monospace;font-weight: bold;display: inline-block;line-height: 1.2em;}#sk-container-id-20 div.sk-label-container {text-align: center;}#sk-container-id-20 div.sk-container {/* jupyter's `normalize.less` sets `[hidden] { display: none; }` but bootstrap.min.css set `[hidden] { display: none !important; }` so we also need the `!important` here to be able to override the default hidden behavior on the sphinx rendered scikit-learn.org. See: https://github.com/scikit-learn/scikit-learn/issues/21755 */display: inline-block !important;position: relative;}#sk-container-id-20 div.sk-text-repr-fallback {display: none;}</style><div id=\"sk-container-id-20\" class=\"sk-top-container\"><div class=\"sk-text-repr-fallback\"><pre>Pipeline(steps=[(&#x27;std&#x27;, StandardScaler()), (&#x27;pca&#x27;, PCA(n_components=3)),\n",
       "                (&#x27;l_r&#x27;, LinearRegression())])</pre><b>In a Jupyter environment, please rerun this cell to show the HTML representation or trust the notebook. <br />On GitHub, the HTML representation is unable to render, please try loading this page with nbviewer.org.</b></div><div class=\"sk-container\" hidden><div class=\"sk-item sk-dashed-wrapped\"><div class=\"sk-label-container\"><div class=\"sk-label sk-toggleable\"><input class=\"sk-toggleable__control sk-hidden--visually\" id=\"sk-estimator-id-73\" type=\"checkbox\" ><label for=\"sk-estimator-id-73\" class=\"sk-toggleable__label sk-toggleable__label-arrow\">Pipeline</label><div class=\"sk-toggleable__content\"><pre>Pipeline(steps=[(&#x27;std&#x27;, StandardScaler()), (&#x27;pca&#x27;, PCA(n_components=3)),\n",
       "                (&#x27;l_r&#x27;, LinearRegression())])</pre></div></div></div><div class=\"sk-serial\"><div class=\"sk-item\"><div class=\"sk-estimator sk-toggleable\"><input class=\"sk-toggleable__control sk-hidden--visually\" id=\"sk-estimator-id-74\" type=\"checkbox\" ><label for=\"sk-estimator-id-74\" class=\"sk-toggleable__label sk-toggleable__label-arrow\">StandardScaler</label><div class=\"sk-toggleable__content\"><pre>StandardScaler()</pre></div></div></div><div class=\"sk-item\"><div class=\"sk-estimator sk-toggleable\"><input class=\"sk-toggleable__control sk-hidden--visually\" id=\"sk-estimator-id-75\" type=\"checkbox\" ><label for=\"sk-estimator-id-75\" class=\"sk-toggleable__label sk-toggleable__label-arrow\">PCA</label><div class=\"sk-toggleable__content\"><pre>PCA(n_components=3)</pre></div></div></div><div class=\"sk-item\"><div class=\"sk-estimator sk-toggleable\"><input class=\"sk-toggleable__control sk-hidden--visually\" id=\"sk-estimator-id-76\" type=\"checkbox\" ><label for=\"sk-estimator-id-76\" class=\"sk-toggleable__label sk-toggleable__label-arrow\">LinearRegression</label><div class=\"sk-toggleable__content\"><pre>LinearRegression()</pre></div></div></div></div></div></div></div>"
      ],
      "text/plain": [
       "Pipeline(steps=[('std', StandardScaler()), ('pca', PCA(n_components=3)),\n",
       "                ('l_r', LinearRegression())])"
      ]
     },
     "execution_count": 101,
     "metadata": {},
     "output_type": "execute_result"
    }
   ],
   "source": [
    "from sklearn.preprocessing import StandardScaler\n",
    "from sklearn.pipeline import Pipeline\n",
    "from sklearn.model_selection import train_test_split, GridSearchCV\n",
    "from sklearn.linear_model import LinearRegression\n",
    "from sklearn.decomposition import PCA\n",
    "\n",
    "features, targets = c_df.iloc[:, 1:], c_df.iloc[:, 0]\n",
    "\n",
    "X_train, X_test, y_train, y_test = \\\n",
    "train_test_split(features, targets, test_size=0.2, random_state=124)\n",
    "\n",
    "l_r = LinearRegression()\n",
    "\n",
    "pipe = Pipeline([('std', StandardScaler()), ('pca', PCA(n_components=3)), ('l_r', l_r)])\n",
    "pipe.fit(X_train, y_train)"
   ]
  },
  {
   "cell_type": "code",
   "execution_count": 102,
   "id": "e812a8f8-deee-49f5-be88-004948851ddc",
   "metadata": {},
   "outputs": [
    {
     "name": "stdout",
     "output_type": "stream",
     "text": [
      "MSE: 0.1097, RMSE: 0.3313, R2: 0.4903\n"
     ]
    }
   ],
   "source": [
    "prediction = pipe.predict(X_test)\n",
    "get_evaluation(y_test, prediction)"
   ]
  },
  {
   "cell_type": "code",
   "execution_count": 103,
   "id": "ff230547-dcf7-4d6b-8bff-6916ed3d6135",
   "metadata": {},
   "outputs": [
    {
     "name": "stdout",
     "output_type": "stream",
     "text": [
      "DecisionTreeRegressor\n",
      "MSE: 0.0195, RMSE: 0.1395, R2: 0.9645\n",
      "RandomForestRegressor\n",
      "MSE: 0.0106, RMSE: 0.1027, R2: 0.9808\n",
      "GradientBoostingRegressor\n",
      "MSE: 0.0151, RMSE: 0.1229, R2: 0.9725\n",
      "XGBRegressor\n",
      "MSE: 0.0115, RMSE: 0.1070, R2: 0.9791\n",
      "[LightGBM] [Info] Auto-choosing row-wise multi-threading, the overhead of testing was 0.000443 seconds.\n",
      "You can set `force_row_wise=true` to remove the overhead.\n",
      "And if memory is not enough, you can set `force_col_wise=true`.\n",
      "[LightGBM] [Info] Total Bins 765\n",
      "[LightGBM] [Info] Number of data points in the train set: 115893, number of used features: 3\n",
      "[LightGBM] [Info] Start training from score 3.757404\n",
      "LGBMRegressor\n",
      "MSE: 0.0122, RMSE: 0.1105, R2: 0.9778\n"
     ]
    }
   ],
   "source": [
    "from sklearn.tree import DecisionTreeRegressor\n",
    "from sklearn.ensemble import RandomForestRegressor\n",
    "from sklearn.ensemble import GradientBoostingRegressor\n",
    "from xgboost import XGBRegressor\n",
    "from lightgbm import LGBMRegressor\n",
    "from sklearn.model_selection import train_test_split\n",
    "from sklearn.preprocessing import StandardScaler\n",
    "from sklearn.pipeline import Pipeline\n",
    "from sklearn.model_selection import train_test_split, GridSearchCV\n",
    "from sklearn.linear_model import LinearRegression\n",
    "from sklearn.decomposition import PCA\n",
    "from sklearn.preprocessing import PolynomialFeatures\n",
    "from sklearn.linear_model import Ridge\n",
    "\n",
    "features, targets = c_df.iloc[:, :-1], c_df.iloc[:, -1]\n",
    "\n",
    "X_train, X_test, y_train, y_test = \\\n",
    "train_test_split(features, targets, test_size=0.2, random_state=124)\n",
    "\n",
    "dt_r = DecisionTreeRegressor(random_state=124)\n",
    "rf_r = RandomForestRegressor(random_state=124, n_estimators=1000)\n",
    "gb_r = GradientBoostingRegressor(random_state=124)\n",
    "xgb_r = XGBRegressor()\n",
    "lgb_r = LGBMRegressor(n_estimators=100)\n",
    "ridge = Ridge(alpha=10000, random_state=124)  # alpha는 규제 강도를 조절하는 하이퍼파라미터입니다.\n",
    "\n",
    "models = [dt_r, rf_r, gb_r, xgb_r, lgb_r, ridge]\n",
    "for model in models:\n",
    "    pipe = Pipeline([('std', StandardScaler()), ('pca', PCA(n_components=3)), (f'{model.__class__.__name__}', model)])\n",
    "    pipe.fit(X_train, y_train)\n",
    "    prediction = pipe.predict(X_test)\n",
    "    print(model.__class__.__name__)\n",
    "    get_evaluation(y_test, prediction)"
   ]
  },
  {
   "cell_type": "code",
   "execution_count": 107,
   "id": "1efc27e4-bcb9-43c5-b3ad-230ba260911b",
   "metadata": {},
   "outputs": [
    {
     "name": "stdout",
     "output_type": "stream",
     "text": [
      "DecisionTreeRegressor\n",
      "MSE: 0.0195, RMSE: 0.1395, R2: 0.9645\n",
      "RandomForestRegressor\n",
      "MSE: 0.0106, RMSE: 0.1027, R2: 0.9808\n",
      "GradientBoostingRegressor\n",
      "MSE: 0.0151, RMSE: 0.1229, R2: 0.9725\n",
      "XGBRegressor\n",
      "MSE: 0.0115, RMSE: 0.1070, R2: 0.9791\n",
      "[LightGBM] [Info] Auto-choosing row-wise multi-threading, the overhead of testing was 0.000441 seconds.\n",
      "You can set `force_row_wise=true` to remove the overhead.\n",
      "And if memory is not enough, you can set `force_col_wise=true`.\n",
      "[LightGBM] [Info] Total Bins 765\n",
      "[LightGBM] [Info] Number of data points in the train set: 115893, number of used features: 3\n",
      "[LightGBM] [Info] Start training from score 3.757404\n",
      "LGBMRegressor\n",
      "MSE: 0.0122, RMSE: 0.1105, R2: 0.9778\n",
      "Ridge\n",
      "MSE: 0.0229, RMSE: 0.1514, R2: 0.9582\n"
     ]
    }
   ],
   "source": [
    "from sklearn.linear_model import Ridge\n",
    "\n",
    "ridge = Ridge(alpha=10000, random_state=124)  # alpha는 규제 강도를 조절하는 하이퍼파라미터입니다.\n",
    "\n",
    "models = [dt_r, rf_r, gb_r, xgb_r, lgb_r, ridge]\n",
    "for model in models:\n",
    "    pipe = Pipeline([('std', StandardScaler()), ('pca', PCA(n_components=3)), (f'{model.__class__.__name__}', model)])\n",
    "    pipe.fit(X_train, y_train)\n",
    "    prediction = pipe.predict(X_test)\n",
    "    print(model.__class__.__name__)\n",
    "    get_evaluation(y_test, prediction)\n"
   ]
  },
  {
   "cell_type": "code",
   "execution_count": 128,
   "id": "ecae2f67-65de-4938-b1af-c0d969b77234",
   "metadata": {},
   "outputs": [
    {
     "data": {
      "text/html": [
       "<style>#sk-container-id-31 {color: black;background-color: white;}#sk-container-id-31 pre{padding: 0;}#sk-container-id-31 div.sk-toggleable {background-color: white;}#sk-container-id-31 label.sk-toggleable__label {cursor: pointer;display: block;width: 100%;margin-bottom: 0;padding: 0.3em;box-sizing: border-box;text-align: center;}#sk-container-id-31 label.sk-toggleable__label-arrow:before {content: \"▸\";float: left;margin-right: 0.25em;color: #696969;}#sk-container-id-31 label.sk-toggleable__label-arrow:hover:before {color: black;}#sk-container-id-31 div.sk-estimator:hover label.sk-toggleable__label-arrow:before {color: black;}#sk-container-id-31 div.sk-toggleable__content {max-height: 0;max-width: 0;overflow: hidden;text-align: left;background-color: #f0f8ff;}#sk-container-id-31 div.sk-toggleable__content pre {margin: 0.2em;color: black;border-radius: 0.25em;background-color: #f0f8ff;}#sk-container-id-31 input.sk-toggleable__control:checked~div.sk-toggleable__content {max-height: 200px;max-width: 100%;overflow: auto;}#sk-container-id-31 input.sk-toggleable__control:checked~label.sk-toggleable__label-arrow:before {content: \"▾\";}#sk-container-id-31 div.sk-estimator input.sk-toggleable__control:checked~label.sk-toggleable__label {background-color: #d4ebff;}#sk-container-id-31 div.sk-label input.sk-toggleable__control:checked~label.sk-toggleable__label {background-color: #d4ebff;}#sk-container-id-31 input.sk-hidden--visually {border: 0;clip: rect(1px 1px 1px 1px);clip: rect(1px, 1px, 1px, 1px);height: 1px;margin: -1px;overflow: hidden;padding: 0;position: absolute;width: 1px;}#sk-container-id-31 div.sk-estimator {font-family: monospace;background-color: #f0f8ff;border: 1px dotted black;border-radius: 0.25em;box-sizing: border-box;margin-bottom: 0.5em;}#sk-container-id-31 div.sk-estimator:hover {background-color: #d4ebff;}#sk-container-id-31 div.sk-parallel-item::after {content: \"\";width: 100%;border-bottom: 1px solid gray;flex-grow: 1;}#sk-container-id-31 div.sk-label:hover label.sk-toggleable__label {background-color: #d4ebff;}#sk-container-id-31 div.sk-serial::before {content: \"\";position: absolute;border-left: 1px solid gray;box-sizing: border-box;top: 0;bottom: 0;left: 50%;z-index: 0;}#sk-container-id-31 div.sk-serial {display: flex;flex-direction: column;align-items: center;background-color: white;padding-right: 0.2em;padding-left: 0.2em;position: relative;}#sk-container-id-31 div.sk-item {position: relative;z-index: 1;}#sk-container-id-31 div.sk-parallel {display: flex;align-items: stretch;justify-content: center;background-color: white;position: relative;}#sk-container-id-31 div.sk-item::before, #sk-container-id-31 div.sk-parallel-item::before {content: \"\";position: absolute;border-left: 1px solid gray;box-sizing: border-box;top: 0;bottom: 0;left: 50%;z-index: -1;}#sk-container-id-31 div.sk-parallel-item {display: flex;flex-direction: column;z-index: 1;position: relative;background-color: white;}#sk-container-id-31 div.sk-parallel-item:first-child::after {align-self: flex-end;width: 50%;}#sk-container-id-31 div.sk-parallel-item:last-child::after {align-self: flex-start;width: 50%;}#sk-container-id-31 div.sk-parallel-item:only-child::after {width: 0;}#sk-container-id-31 div.sk-dashed-wrapped {border: 1px dashed gray;margin: 0 0.4em 0.5em 0.4em;box-sizing: border-box;padding-bottom: 0.4em;background-color: white;}#sk-container-id-31 div.sk-label label {font-family: monospace;font-weight: bold;display: inline-block;line-height: 1.2em;}#sk-container-id-31 div.sk-label-container {text-align: center;}#sk-container-id-31 div.sk-container {/* jupyter's `normalize.less` sets `[hidden] { display: none; }` but bootstrap.min.css set `[hidden] { display: none !important; }` so we also need the `!important` here to be able to override the default hidden behavior on the sphinx rendered scikit-learn.org. See: https://github.com/scikit-learn/scikit-learn/issues/21755 */display: inline-block !important;position: relative;}#sk-container-id-31 div.sk-text-repr-fallback {display: none;}</style><div id=\"sk-container-id-31\" class=\"sk-top-container\"><div class=\"sk-text-repr-fallback\"><pre>Ridge(alpha=300000, max_iter=10000)</pre><b>In a Jupyter environment, please rerun this cell to show the HTML representation or trust the notebook. <br />On GitHub, the HTML representation is unable to render, please try loading this page with nbviewer.org.</b></div><div class=\"sk-container\" hidden><div class=\"sk-item\"><div class=\"sk-estimator sk-toggleable\"><input class=\"sk-toggleable__control sk-hidden--visually\" id=\"sk-estimator-id-87\" type=\"checkbox\" checked><label for=\"sk-estimator-id-87\" class=\"sk-toggleable__label sk-toggleable__label-arrow\">Ridge</label><div class=\"sk-toggleable__content\"><pre>Ridge(alpha=300000, max_iter=10000)</pre></div></div></div></div></div>"
      ],
      "text/plain": [
       "Ridge(alpha=300000, max_iter=10000)"
      ]
     },
     "execution_count": 128,
     "metadata": {},
     "output_type": "execute_result"
    }
   ],
   "source": [
    "import numpy as np\n",
    "from sklearn.linear_model import Ridge\n",
    "from sklearn.model_selection import train_test_split\n",
    "from sklearn.preprocessing import PolynomialFeatures\n",
    "\n",
    "features, targets = c_df.iloc[:, :-1], c_df.iloc[:, -1]\n",
    "\n",
    "X_train, X_test, y_train, y_test = \\\n",
    "train_test_split(features, targets, test_size=0.2, random_state=124)\n",
    "\n",
    "ridge = Ridge(alpha=300000, max_iter=10000)\n",
    "ridge.fit(X_train, y_train)"
   ]
  },
  {
   "cell_type": "code",
   "execution_count": 129,
   "id": "07277a45-917c-4e69-b87d-33539b9aa550",
   "metadata": {},
   "outputs": [
    {
     "name": "stdout",
     "output_type": "stream",
     "text": [
      "MSE: 0.1497, RMSE: 0.3869, R2: 0.7274\n"
     ]
    },
    {
     "name": "stderr",
     "output_type": "stream",
     "text": [
      "C:\\ProgramData\\anaconda3\\Lib\\site-packages\\sklearn\\base.py:439: UserWarning: X does not have valid feature names, but Ridge was fitted with feature names\n",
      "  warnings.warn(\n"
     ]
    }
   ],
   "source": [
    "prediction = ridge.predict(X_test.values)\n",
    "get_evaluation(y_test.values, prediction)"
   ]
  },
  {
   "cell_type": "code",
   "execution_count": null,
   "id": "75b03821-c032-4ad2-a996-28d8be0c34d9",
   "metadata": {},
   "outputs": [],
   "source": []
  },
  {
   "cell_type": "code",
   "execution_count": null,
   "id": "f5841ff9-78e4-4040-be00-3737c07a60fe",
   "metadata": {},
   "outputs": [],
   "source": []
  },
  {
   "cell_type": "code",
   "execution_count": null,
   "id": "88ab074e-46d5-4948-a3ae-fa3b9adacbd0",
   "metadata": {},
   "outputs": [],
   "source": []
  },
  {
   "cell_type": "code",
   "execution_count": null,
   "id": "0efb8856-ab8d-41f8-aa7d-38a720fa6f06",
   "metadata": {},
   "outputs": [],
   "source": []
  },
  {
   "cell_type": "code",
   "execution_count": null,
   "id": "99e43899-bbbc-44e8-9863-9ea262f6f672",
   "metadata": {},
   "outputs": [],
   "source": []
  },
  {
   "cell_type": "code",
   "execution_count": null,
   "id": "5de38b11-5128-4a4f-9a97-16183ad0c1ca",
   "metadata": {},
   "outputs": [],
   "source": []
  },
  {
   "cell_type": "code",
   "execution_count": null,
   "id": "ebd8996a-388a-429e-9a93-d6ca0cc04943",
   "metadata": {},
   "outputs": [],
   "source": []
  },
  {
   "cell_type": "code",
   "execution_count": null,
   "id": "0e665f98-cf84-459f-803d-053e9685bc85",
   "metadata": {},
   "outputs": [],
   "source": []
  },
  {
   "cell_type": "code",
   "execution_count": null,
   "id": "0bce9f8f-0c75-4997-b9bc-4dfed91f7f19",
   "metadata": {},
   "outputs": [],
   "source": []
  },
  {
   "cell_type": "code",
   "execution_count": null,
   "id": "63278f79-3f9b-41bd-a45d-bcb0c31f8e19",
   "metadata": {},
   "outputs": [],
   "source": []
  },
  {
   "cell_type": "code",
   "execution_count": null,
   "id": "bb3a464f-4aa8-4245-ba78-383033664c26",
   "metadata": {},
   "outputs": [],
   "source": []
  },
  {
   "cell_type": "code",
   "execution_count": null,
   "id": "5e268423-e6cd-4f11-a435-fc6f25ab7152",
   "metadata": {},
   "outputs": [],
   "source": []
  },
  {
   "cell_type": "code",
   "execution_count": null,
   "id": "d57d65aa-4094-4b99-8f04-842096e2c609",
   "metadata": {},
   "outputs": [],
   "source": []
  },
  {
   "cell_type": "code",
   "execution_count": null,
   "id": "0d07fa03-b318-4a6a-b9c2-31df480c9955",
   "metadata": {},
   "outputs": [],
   "source": []
  },
  {
   "cell_type": "code",
   "execution_count": null,
   "id": "353d4932-77c2-4915-a4fb-895ac47ca821",
   "metadata": {},
   "outputs": [],
   "source": []
  },
  {
   "cell_type": "code",
   "execution_count": null,
   "id": "c8075cd5-bfd7-4d3d-b7e0-5064fd940b53",
   "metadata": {},
   "outputs": [],
   "source": []
  },
  {
   "cell_type": "code",
   "execution_count": null,
   "id": "13ceb8fb-a27c-4e15-a5b3-0142efd1bade",
   "metadata": {},
   "outputs": [],
   "source": []
  },
  {
   "cell_type": "code",
   "execution_count": null,
   "id": "d7ade941-91c9-414a-9e17-c6990082b0ef",
   "metadata": {},
   "outputs": [],
   "source": []
  },
  {
   "cell_type": "code",
   "execution_count": null,
   "id": "7845c36a-df31-4b81-805d-3f52191cc603",
   "metadata": {},
   "outputs": [],
   "source": []
  },
  {
   "cell_type": "code",
   "execution_count": null,
   "id": "24c15dac-575d-44bd-9e3b-a113b9626d81",
   "metadata": {},
   "outputs": [],
   "source": []
  },
  {
   "cell_type": "code",
   "execution_count": null,
   "id": "f31175f0-2bde-4ba3-9729-bcaa84f4f341",
   "metadata": {},
   "outputs": [],
   "source": []
  },
  {
   "cell_type": "code",
   "execution_count": null,
   "id": "fd65ec12-8616-4b1c-bc3b-b0faddbaa9ec",
   "metadata": {},
   "outputs": [],
   "source": []
  },
  {
   "cell_type": "code",
   "execution_count": null,
   "id": "8057b027-15af-43ac-bbca-2ccad33278f1",
   "metadata": {},
   "outputs": [],
   "source": []
  },
  {
   "cell_type": "code",
   "execution_count": null,
   "id": "8c759359-d31b-461d-83e5-10720088c611",
   "metadata": {},
   "outputs": [],
   "source": []
  },
  {
   "cell_type": "code",
   "execution_count": null,
   "id": "5ef40718-6c9a-4401-90d6-f5b1433d2948",
   "metadata": {},
   "outputs": [],
   "source": []
  },
  {
   "cell_type": "code",
   "execution_count": null,
   "id": "92129d7d-d6c0-4b90-b3e3-1a9ba7e3f87c",
   "metadata": {},
   "outputs": [],
   "source": []
  },
  {
   "cell_type": "code",
   "execution_count": null,
   "id": "981ea7bc-3298-45ad-bf93-f926f335e148",
   "metadata": {},
   "outputs": [],
   "source": []
  },
  {
   "cell_type": "code",
   "execution_count": null,
   "id": "af18e0c1-1a8d-4132-8bb8-94c9612b6494",
   "metadata": {},
   "outputs": [],
   "source": []
  },
  {
   "cell_type": "code",
   "execution_count": null,
   "id": "619e694f-3e4e-4f90-baa9-5a36cf3731da",
   "metadata": {},
   "outputs": [],
   "source": []
  },
  {
   "cell_type": "code",
   "execution_count": null,
   "id": "cbffdfa3-6c65-47eb-8400-ec2efcf4da06",
   "metadata": {},
   "outputs": [],
   "source": []
  },
  {
   "cell_type": "code",
   "execution_count": null,
   "id": "e8b6b9f4-1fe2-4210-94c9-e7d8cef821ad",
   "metadata": {},
   "outputs": [],
   "source": []
  },
  {
   "cell_type": "code",
   "execution_count": null,
   "id": "e38cdf84-00bf-4e11-92ef-64cd21582ef7",
   "metadata": {},
   "outputs": [],
   "source": []
  },
  {
   "cell_type": "code",
   "execution_count": null,
   "id": "ffc63e41-0c80-4a4d-a118-4fc06211a8f9",
   "metadata": {},
   "outputs": [],
   "source": []
  },
  {
   "cell_type": "code",
   "execution_count": null,
   "id": "45237408-149d-4117-ac44-263d9312941a",
   "metadata": {},
   "outputs": [],
   "source": []
  },
  {
   "cell_type": "code",
   "execution_count": null,
   "id": "ebd0aa66-f30c-4014-976f-9881a2d780c5",
   "metadata": {},
   "outputs": [],
   "source": []
  },
  {
   "cell_type": "code",
   "execution_count": null,
   "id": "54a09730-8ac2-47cb-9e80-241cdf9fb80f",
   "metadata": {},
   "outputs": [],
   "source": []
  },
  {
   "cell_type": "code",
   "execution_count": null,
   "id": "ca7e1327-0268-4236-be4f-54a4e3953283",
   "metadata": {},
   "outputs": [],
   "source": []
  }
 ],
 "metadata": {
  "kernelspec": {
   "display_name": "Python 3 (ipykernel)",
   "language": "python",
   "name": "python3"
  },
  "language_info": {
   "codemirror_mode": {
    "name": "ipython",
    "version": 3
   },
   "file_extension": ".py",
   "mimetype": "text/x-python",
   "name": "python",
   "nbconvert_exporter": "python",
   "pygments_lexer": "ipython3",
   "version": "3.11.8"
  }
 },
 "nbformat": 4,
 "nbformat_minor": 5
}
