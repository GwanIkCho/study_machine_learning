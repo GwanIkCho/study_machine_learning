{
 "cells": [
  {
   "cell_type": "markdown",
   "id": "7ce434ba-4ce3-4813-8b09-86b459f6d4ca",
   "metadata": {},
   "source": [
    "### 로지스틱 회귀 (Logistic Regression)\r\n",
    "\r\n",
    "- 독립 변수의 선형 결합을 이용하여 이진 분류 사건의 발생 가능성을 예측하는데 사용되는 통계기법이다.\r\n",
    "\r\n",
    "<div style=\"display: flex; justify-content: space-between; width: 1000px;\">\r\n",
    "    <table style=\"margin-left: 20px; text-align: center; border: 1px solid #eee; width: 500px;\">\r\n",
    "        <tr>\r\n",
    "            <th>노는 시간 - 공부 시간 (x)</th>\r\n",
    "            <th>합격 여부 (y)</th>\r\n",
    "        </tr>\r\n",
    "        <tr>\r\n",
    "            <td>-4</td>\r\n",
    "            <td>0</td>\r\n",
    "        </tr>\r\n",
    "        <tr>\r\n",
    "            <td>-2</td>\r\n",
    "            <td>0</td>\r\n",
    "        </tr>\r\n",
    "        <tr>\r\n",
    "            <td>2</td>\r\n",
    "            <td>1</td>\r\n",
    "        </tr>\r\n",
    "        <tr>\r\n",
    "            <td>4</td>\r\n",
    "            <td>1</td>\r\n",
    "        </tr>\r\n",
    "    </table>  \r\n",
    "    <div style=\"width: 400px\">\r\n",
    "        <img src=\"./images/logistic_regression_train.png\">\r\n",
    "        <br><br><br>\r\n",
    "        <img src=\"./images/linear_combination.png\">\r\n",
    "    </div>\r\n",
    "</div>  "
   ]
  },
  {
   "cell_type": "code",
   "execution_count": 1,
   "id": "64a46a36-cc81-4794-9fe9-f4d002f8d8b3",
   "metadata": {},
   "outputs": [],
   "source": [
    "import torch\n",
    "\n",
    "X_train = torch.FloatTensor([[-4],[-2],[2],[4]])\n",
    "X_train = torch.FloatTensor([[0],[0],[1],[1]])"
   ]
  },
  {
   "cell_type": "markdown",
   "id": "11e0c652-7f2d-4dc4-bdc7-d940f99af915",
   "metadata": {},
   "source": [
    "- 위와 같은 데이터에 직선을 사용하게 되면, 오차가 너무 크게 생긴다.\n",
    "- 기존의 가설에 S모양 그래프로 만들 수 있는 함수로 감싸주어야 하고, 이 f함수는 시그모이드 함수이다.\n",
    "- 따라서 로지스틱 회귀에서는 아래와 같은 가설을 사용하게 된다.\n",
    "\n",
    "<img src=\"./images/logistic_h.png\" style=\"margin-left: 25px;\">  \r\n",
    "<img src=\"./images/logistic_sigmoid.png\" style=\"margin-left: 25px;\">"
   ]
  },
  {
   "cell_type": "code",
   "execution_count": null,
   "id": "783766a6-c924-4dae-83d1-c2e0d210112e",
   "metadata": {},
   "outputs": [],
   "source": []
  },
  {
   "cell_type": "code",
   "execution_count": null,
   "id": "25bcc323-4dcb-42c1-83f7-a84630e1e2c8",
   "metadata": {},
   "outputs": [],
   "source": []
  },
  {
   "cell_type": "code",
   "execution_count": null,
   "id": "471fa307-00ae-4319-8666-6ef0c4820981",
   "metadata": {},
   "outputs": [],
   "source": []
  },
  {
   "cell_type": "code",
   "execution_count": null,
   "id": "b64bd21b-aa72-49f0-8051-6c9c2f7bd02e",
   "metadata": {},
   "outputs": [],
   "source": []
  },
  {
   "cell_type": "code",
   "execution_count": null,
   "id": "d55f0265-1671-453b-a42c-87d6d48eb783",
   "metadata": {},
   "outputs": [],
   "source": []
  },
  {
   "cell_type": "code",
   "execution_count": null,
   "id": "b732f2b5-55bf-4e29-b1e2-23f64cec7458",
   "metadata": {},
   "outputs": [],
   "source": []
  },
  {
   "cell_type": "code",
   "execution_count": null,
   "id": "69605fa0-32f9-42ac-b6c8-b43c9224fca1",
   "metadata": {},
   "outputs": [],
   "source": []
  },
  {
   "cell_type": "code",
   "execution_count": null,
   "id": "c9f5a619-27f7-4aca-bb8b-3ed629e5109b",
   "metadata": {},
   "outputs": [],
   "source": []
  },
  {
   "cell_type": "code",
   "execution_count": null,
   "id": "1f56ee53-1247-4759-a3b4-2afaf067f2ae",
   "metadata": {},
   "outputs": [],
   "source": []
  },
  {
   "cell_type": "code",
   "execution_count": null,
   "id": "61bc4509-7090-417a-bdb4-e34424617dc9",
   "metadata": {},
   "outputs": [],
   "source": []
  },
  {
   "cell_type": "code",
   "execution_count": null,
   "id": "6ef74d48-778e-418d-af56-c1b58c50a8aa",
   "metadata": {},
   "outputs": [],
   "source": []
  },
  {
   "cell_type": "code",
   "execution_count": null,
   "id": "8bdac166-53ac-461e-9944-3df80bb4a916",
   "metadata": {},
   "outputs": [],
   "source": []
  },
  {
   "cell_type": "code",
   "execution_count": null,
   "id": "ccbb2c67-bdad-485c-b966-08363edbe0ea",
   "metadata": {},
   "outputs": [],
   "source": []
  },
  {
   "cell_type": "code",
   "execution_count": null,
   "id": "ccd7e466-60ad-4072-adbc-e7447b10afd3",
   "metadata": {},
   "outputs": [],
   "source": []
  },
  {
   "cell_type": "code",
   "execution_count": null,
   "id": "b7627ce3-4447-459d-99c8-991b9fdf3722",
   "metadata": {},
   "outputs": [],
   "source": []
  },
  {
   "cell_type": "code",
   "execution_count": null,
   "id": "6f293725-21d6-4c0f-82f9-119fe1b26ff1",
   "metadata": {},
   "outputs": [],
   "source": []
  },
  {
   "cell_type": "code",
   "execution_count": null,
   "id": "ed8216a9-a48c-4d6c-b0ab-2b2aa4d36464",
   "metadata": {},
   "outputs": [],
   "source": []
  },
  {
   "cell_type": "code",
   "execution_count": null,
   "id": "cd9c5a45-85f0-46f6-9ab1-0fdd096280dc",
   "metadata": {},
   "outputs": [],
   "source": []
  },
  {
   "cell_type": "code",
   "execution_count": null,
   "id": "fe2bc377-707c-4880-99ba-77359c778377",
   "metadata": {},
   "outputs": [],
   "source": []
  },
  {
   "cell_type": "code",
   "execution_count": null,
   "id": "d0c3d211-3dff-4324-87b3-a1229a75f3c3",
   "metadata": {},
   "outputs": [],
   "source": []
  },
  {
   "cell_type": "code",
   "execution_count": null,
   "id": "1480638f-e7de-4da8-a404-0fca7ed4bf17",
   "metadata": {},
   "outputs": [],
   "source": []
  },
  {
   "cell_type": "code",
   "execution_count": null,
   "id": "45e988cc-ce96-4635-99b8-723242d19d02",
   "metadata": {},
   "outputs": [],
   "source": []
  }
 ],
 "metadata": {
  "kernelspec": {
   "display_name": "Python 3 (ipykernel)",
   "language": "python",
   "name": "python3"
  },
  "language_info": {
   "codemirror_mode": {
    "name": "ipython",
    "version": 3
   },
   "file_extension": ".py",
   "mimetype": "text/x-python",
   "name": "python",
   "nbconvert_exporter": "python",
   "pygments_lexer": "ipython3",
   "version": "3.11.8"
  }
 },
 "nbformat": 4,
 "nbformat_minor": 5
}
