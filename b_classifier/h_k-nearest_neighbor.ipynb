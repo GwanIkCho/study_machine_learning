{
 "cells": [
  {
   "cell_type": "markdown",
   "id": "90a50fae-57cf-48bb-a9aa-fa28c23deab5",
   "metadata": {},
   "source": [
    "### K-최근접 이웃 알고리즘 (K-Nearest Neighnor, KNN)\n",
    "- 임의의 데이터가 주어지면 그 주변(이웃)의 데이터를 살펴본 뒤 더 많은 데이터가 포함되어 있는 범주로 분류하는 방식이다.\n",
    "- 가장 간단한 머신런이 알고리즘으로서, 직관적이고 나름 성능도 괜찮다.\n",
    "- K를 어떻게 정하는지에 따라서 결과값이 바뀔 수 있다. K는 임의의 데이터가 주어졌을 때 가까운 이웃들의 개수이고 기본값은 5이다.\n",
    "- K는 가장 가까운 5개의 이웃 데이터를 기반으로 분류하며, 일반적으로 홀수를 사용한다. 짝수일 경우 동점이 되어 하나의 결과를 도출할 수 없기 때문이다.\n",
    "\n",
    "<img src='./images/image25.png' width='400px'><img src='./images/image26.png' width='400px'>\n",
    "\n",
    "- KNN은 fit을 통해 훈련시키면, 학습하지 않고 ㅓㅈ장만해놓는다. 따라서 이러한 모델은 Lazy Model이라고 부른다.\n",
    "- 새로운 데이터가 주어지면 그제서야 이웃 데이터를 보고 분류해나간다. 따라서 사전 모델링이 필요없는 real-time 예측이 이루어진다.\n",
    "\n",
    "<img src='./images/image27.jpg' width='350px' style='margin-left:20px'>\n",
    "\n",
    "- 데이터와 데이터 사이의 거리를 구해야 더 가까운 클래스로 분류할 수 있으며, 이는 유클리드 거리(Euclidean Distance)방식과\n",
    "  맨해튼 거리(Manhatten Distance)방식이 있다."
   ]
  },
  {
   "cell_type": "code",
   "execution_count": 1,
   "id": "3210d8f6-ba09-45b8-b038-396b6b6facc7",
   "metadata": {},
   "outputs": [],
   "source": [
    "import pandas as pd\n",
    "\n",
    "data = pd.read_csv('./dataset/corona.csv', low_memory=False)\n",
    "c = data.copy()"
   ]
  },
  {
   "cell_type": "code",
   "execution_count": 2,
   "id": "e419700c-2e78-426a-8496-f95450008c4c",
   "metadata": {},
   "outputs": [
    {
     "data": {
      "text/plain": [
       "Ind_ID                      0\n",
       "Test_date                   0\n",
       "Cough_symptoms            252\n",
       "Fever                     252\n",
       "Sore_throat                 1\n",
       "Shortness_of_breath         1\n",
       "Headache                    1\n",
       "Corona                      0\n",
       "Age_60_above           127320\n",
       "Sex                     19563\n",
       "Known_contact               0\n",
       "dtype: int64"
      ]
     },
     "execution_count": 2,
     "metadata": {},
     "output_type": "execute_result"
    }
   ],
   "source": [
    "c.isna().sum()"
   ]
  },
  {
   "cell_type": "code",
   "execution_count": 3,
   "id": "68526539-ffd1-4c5d-ae16-82c293e35485",
   "metadata": {},
   "outputs": [],
   "source": [
    "c = c.drop(labels=['Test_date'], axis=1)\n",
    "c = c.drop(labels=['Age_60_above'], axis=1)\n",
    "c = c.drop(labels=['Sex'], axis=1)\n",
    "c = c.drop(labels=['Ind_ID'], axis=1)\n",
    "c = c.drop(labels=['Known_contact'], axis=1)"
   ]
  },
  {
   "cell_type": "code",
   "execution_count": 10,
   "id": "2aa10bbe-3e2e-4080-8161-80074d2d4a42",
   "metadata": {},
   "outputs": [],
   "source": [
    "c = c[~c.Cough_symptoms.isna()]\n",
    "c = c[~c.Fever.isna()]\n",
    "c = c[~c.Sore_throat.isna()]\n",
    "c = c[~c.Shortness_of_breath.isna()]\n",
    "c = c[~c.Headache.isna()]"
   ]
  },
  {
   "cell_type": "code",
   "execution_count": 13,
   "id": "28d3973d-e2ce-40e5-b699-19ec350ece4a",
   "metadata": {},
   "outputs": [],
   "source": [
    "c.reset_index(drop=True, inplace=True)"
   ]
  },
  {
   "cell_type": "code",
   "execution_count": 16,
   "id": "766eff9f-8912-40df-a652-7cb3668421a8",
   "metadata": {},
   "outputs": [],
   "source": [
    "c.drop_duplicates(inplace=True)"
   ]
  },
  {
   "cell_type": "code",
   "execution_count": 18,
   "id": "e5eaf710-369e-490a-9f45-2ef0a12c57dd",
   "metadata": {},
   "outputs": [],
   "source": [
    "c.reset_index(drop=True, inplace=True)"
   ]
  },
  {
   "cell_type": "code",
   "execution_count": 20,
   "id": "69fb9e9f-3248-4617-8d11-39d71ebdc6c4",
   "metadata": {},
   "outputs": [
    {
     "data": {
      "text/plain": [
       "Corona\n",
       "negative    32\n",
       "positive    32\n",
       "other       28\n",
       "Name: count, dtype: int64"
      ]
     },
     "execution_count": 20,
     "metadata": {},
     "output_type": "execute_result"
    }
   ],
   "source": [
    "c.Corona.value_counts()"
   ]
  },
  {
   "cell_type": "code",
   "execution_count": null,
   "id": "ba67834d-df36-4428-a370-b1f87db1aaa8",
   "metadata": {},
   "outputs": [],
   "source": [
    "neg = c[c.Corona == 'negative'].sample(28, random_state=124)\n",
    "pos = c[c.Corona == 'positive'].sample(28, random_state=124)\n",
    "other = c[c.Corona == 'other']\n",
    "\n",
    "c = pd.co"
   ]
  },
  {
   "cell_type": "code",
   "execution_count": null,
   "id": "01c8e2c0-970e-4922-a47d-e7df7e630f94",
   "metadata": {},
   "outputs": [],
   "source": []
  },
  {
   "cell_type": "code",
   "execution_count": null,
   "id": "1215732e-e494-4cb3-a890-b08c527f9262",
   "metadata": {},
   "outputs": [],
   "source": []
  },
  {
   "cell_type": "code",
   "execution_count": null,
   "id": "0716b840-c8c2-4768-8c70-1736c96684d2",
   "metadata": {},
   "outputs": [],
   "source": []
  },
  {
   "cell_type": "code",
   "execution_count": null,
   "id": "808ad76f-9b8d-4f4b-a19e-0ea10dc2c791",
   "metadata": {},
   "outputs": [],
   "source": []
  },
  {
   "cell_type": "code",
   "execution_count": null,
   "id": "66ed946b-5ba4-4232-a4a7-59fc323a7750",
   "metadata": {},
   "outputs": [],
   "source": []
  },
  {
   "cell_type": "code",
   "execution_count": null,
   "id": "4a91c4d3-be4f-4bc7-9d09-f2d3b454c4a1",
   "metadata": {},
   "outputs": [],
   "source": []
  }
 ],
 "metadata": {
  "kernelspec": {
   "display_name": "Python 3 (ipykernel)",
   "language": "python",
   "name": "python3"
  },
  "language_info": {
   "codemirror_mode": {
    "name": "ipython",
    "version": 3
   },
   "file_extension": ".py",
   "mimetype": "text/x-python",
   "name": "python",
   "nbconvert_exporter": "python",
   "pygments_lexer": "ipython3",
   "version": "3.11.8"
  }
 },
 "nbformat": 4,
 "nbformat_minor": 5
}
