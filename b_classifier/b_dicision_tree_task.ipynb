{
 "cells": [
  {
   "cell_type": "markdown",
   "id": "7c6c0d92-47a5-4f22-87d1-8af651a5eff5",
   "metadata": {},
   "source": [
    "Dicision Tree Task"
   ]
  },
  {
   "cell_type": "markdown",
   "id": "248574aa-6d4e-433f-ae18-107d0bd1feb5",
   "metadata": {},
   "source": [
    "### 약물 A, B, C, X, Y\r\n",
    "##### 다중 분류(Multiclass Classification)\r\n",
    "- 의학 연구원으로서 동일한 질병을 앓고 있는 일련의 환자에 대한 데이터를 수집했다.\r\n",
    "- 치료 과정 동안 각 환자는 5가지 약물, 즉 약물 A, 약물 B, 약물 c, 약물 x 및 y 중 하나에 반응했다.\r\n",
    "-  미래에 동일한 질병을 앓는 환자에게 어떤 약물이 적합할 수 있는지 알아보기 위한 모델을 구축한다."
   ]
  },
  {
   "cell_type": "code",
   "execution_count": null,
   "id": "1d6f2fc4-6259-4d22-979a-6d2d4a2c82fb",
   "metadata": {},
   "outputs": [],
   "source": []
  },
  {
   "cell_type": "code",
   "execution_count": 1,
   "id": "349f0099-64b6-4ff7-9b48-cafa9d92c5e5",
   "metadata": {},
   "outputs": [
    {
     "data": {
      "text/html": [
       "<div>\n",
       "<style scoped>\n",
       "    .dataframe tbody tr th:only-of-type {\n",
       "        vertical-align: middle;\n",
       "    }\n",
       "\n",
       "    .dataframe tbody tr th {\n",
       "        vertical-align: top;\n",
       "    }\n",
       "\n",
       "    .dataframe thead th {\n",
       "        text-align: right;\n",
       "    }\n",
       "</style>\n",
       "<table border=\"1\" class=\"dataframe\">\n",
       "  <thead>\n",
       "    <tr style=\"text-align: right;\">\n",
       "      <th></th>\n",
       "      <th>Age</th>\n",
       "      <th>Sex</th>\n",
       "      <th>BP</th>\n",
       "      <th>Cholesterol</th>\n",
       "      <th>Na_to_K</th>\n",
       "      <th>Drug</th>\n",
       "    </tr>\n",
       "  </thead>\n",
       "  <tbody>\n",
       "    <tr>\n",
       "      <th>0</th>\n",
       "      <td>23</td>\n",
       "      <td>1</td>\n",
       "      <td>2</td>\n",
       "      <td>1</td>\n",
       "      <td>25.355</td>\n",
       "      <td>5</td>\n",
       "    </tr>\n",
       "    <tr>\n",
       "      <th>1</th>\n",
       "      <td>47</td>\n",
       "      <td>0</td>\n",
       "      <td>0</td>\n",
       "      <td>1</td>\n",
       "      <td>13.093</td>\n",
       "      <td>2</td>\n",
       "    </tr>\n",
       "    <tr>\n",
       "      <th>2</th>\n",
       "      <td>47</td>\n",
       "      <td>0</td>\n",
       "      <td>0</td>\n",
       "      <td>1</td>\n",
       "      <td>10.114</td>\n",
       "      <td>2</td>\n",
       "    </tr>\n",
       "    <tr>\n",
       "      <th>3</th>\n",
       "      <td>28</td>\n",
       "      <td>1</td>\n",
       "      <td>1</td>\n",
       "      <td>1</td>\n",
       "      <td>7.798</td>\n",
       "      <td>4</td>\n",
       "    </tr>\n",
       "    <tr>\n",
       "      <th>4</th>\n",
       "      <td>61</td>\n",
       "      <td>1</td>\n",
       "      <td>0</td>\n",
       "      <td>1</td>\n",
       "      <td>18.043</td>\n",
       "      <td>5</td>\n",
       "    </tr>\n",
       "    <tr>\n",
       "      <th>...</th>\n",
       "      <td>...</td>\n",
       "      <td>...</td>\n",
       "      <td>...</td>\n",
       "      <td>...</td>\n",
       "      <td>...</td>\n",
       "      <td>...</td>\n",
       "    </tr>\n",
       "    <tr>\n",
       "      <th>195</th>\n",
       "      <td>56</td>\n",
       "      <td>1</td>\n",
       "      <td>0</td>\n",
       "      <td>1</td>\n",
       "      <td>11.567</td>\n",
       "      <td>2</td>\n",
       "    </tr>\n",
       "    <tr>\n",
       "      <th>196</th>\n",
       "      <td>16</td>\n",
       "      <td>0</td>\n",
       "      <td>0</td>\n",
       "      <td>1</td>\n",
       "      <td>12.006</td>\n",
       "      <td>2</td>\n",
       "    </tr>\n",
       "    <tr>\n",
       "      <th>197</th>\n",
       "      <td>52</td>\n",
       "      <td>0</td>\n",
       "      <td>1</td>\n",
       "      <td>1</td>\n",
       "      <td>9.894</td>\n",
       "      <td>4</td>\n",
       "    </tr>\n",
       "    <tr>\n",
       "      <th>198</th>\n",
       "      <td>23</td>\n",
       "      <td>0</td>\n",
       "      <td>1</td>\n",
       "      <td>0</td>\n",
       "      <td>14.020</td>\n",
       "      <td>4</td>\n",
       "    </tr>\n",
       "    <tr>\n",
       "      <th>199</th>\n",
       "      <td>40</td>\n",
       "      <td>1</td>\n",
       "      <td>0</td>\n",
       "      <td>0</td>\n",
       "      <td>11.349</td>\n",
       "      <td>4</td>\n",
       "    </tr>\n",
       "  </tbody>\n",
       "</table>\n",
       "<p>200 rows × 6 columns</p>\n",
       "</div>"
      ],
      "text/plain": [
       "     Age  Sex  BP  Cholesterol  Na_to_K  Drug\n",
       "0     23    1   2            1   25.355     5\n",
       "1     47    0   0            1   13.093     2\n",
       "2     47    0   0            1   10.114     2\n",
       "3     28    1   1            1    7.798     4\n",
       "4     61    1   0            1   18.043     5\n",
       "..   ...  ...  ..          ...      ...   ...\n",
       "195   56    1   0            1   11.567     2\n",
       "196   16    0   0            1   12.006     2\n",
       "197   52    0   1            1    9.894     4\n",
       "198   23    0   1            0   14.020     4\n",
       "199   40    1   0            0   11.349     4\n",
       "\n",
       "[200 rows x 6 columns]"
      ]
     },
     "execution_count": 1,
     "metadata": {},
     "output_type": "execute_result"
    }
   ],
   "source": [
    "import pandas as pd\n",
    "\n",
    "# sex / M:0 F:1\n",
    "# BP / \n",
    "\n",
    "drug = pd.read_csv('./dataset/drugs.csv')\n",
    "drug['Sex'] = drug['Sex'].replace({'M': 0, 'F': 1})\n",
    "drug['BP'] = drug['BP'].replace({'LOW': 0, 'NORMAL': 1, 'HIGH': 2})\n",
    "drug['Cholesterol'] = drug['Cholesterol'].replace({ 'NORMAL': 0, 'HIGH': 1})\n",
    "drug['Drug'] = drug['Drug'].replace({'drugA': 0, 'drugB': 1, 'drugC': 2,'drugX': 4,'drugY': 5 })\n",
    "# drug['Na_to_K'] = drug['Na_to_K'].astype(int)\n",
    "# drug.drop('Age', axis=1, inplace=True)  # inplace=True로 설정하여 원본 데이터프레임을 수정합니다.\n",
    "# drug.drop('Na_to_K', axis=1, inplace=True)  # inplace=True로 설정하여 원본 데이터프레임을 수정합니다.\n",
    "drug"
   ]
  },
  {
   "cell_type": "code",
   "execution_count": null,
   "id": "0f023b0a-de7d-4d8e-a1a5-58f0cdef6712",
   "metadata": {},
   "outputs": [],
   "source": [
    "from sklearn.preprocessing import LabelEncoder\n",
    "\n",
    "drug_enc_df = drug.copy()\n",
    "\n",
    "drug_encoder = LaberEncoder()\n",
    "target = drug_encoder.fit_transform(drug_df['Drug'].tolist())\n",
    "drug_enc_df['Drug'] = target\n",
    "\n",
    "gender_encoder = LaberEncoder()\n",
    "gender = drug_encoder.fit_transform(drug_df['Sex'].tolist())\n",
    "gender_enc_df['Sex'] = target\n",
    "\n",
    "drug_encoder = LaberEncoder()\n",
    "target = drug_encoder.fit_transform(drug_df['Drug'].tolist())\n",
    "drug_enc_df['Drug'] = target\n",
    "\n",
    "drug_encoder = LaberEncoder()\n",
    "target = drug_encoder.fit_transform(drug_df['Drug'].tolist())\n",
    "drug_enc_df['Drug'] = target\n",
    "\n",
    "drug_encoder = LaberEncoder()\n",
    "target = drug_encoder.fit_transform(drug_df['Drug'].tolist())\n",
    "drug_enc_df['Drug'] = target\n",
    "\n",
    "drug_encoder = LaberEncoder()\n",
    "target = drug_encoder.fit_transform(drug_df['Drug'].tolist())\n",
    "drug_enc_df['Drug'] = target\n",
    "\n",
    "\n",
    "drug_encoder = LabelEncoder()\n",
    "gendrencoder = LabelEncoder()\n",
    "blood_pressure_encoder = LabelEncoder()\n",
    "choleterol_encoder = LabelEncoder()"
   ]
  },
  {
   "cell_type": "code",
   "execution_count": null,
   "id": "8eda3cb4-9e05-4eb8-b885-b7541834d374",
   "metadata": {},
   "outputs": [],
   "source": []
  },
  {
   "cell_type": "code",
   "execution_count": null,
   "id": "799f5f44-9f02-4737-89f8-9869d820f93a",
   "metadata": {},
   "outputs": [],
   "source": []
  },
  {
   "cell_type": "code",
   "execution_count": null,
   "id": "ac99ee85-5844-489e-b8c3-07a91f1fbb93",
   "metadata": {},
   "outputs": [],
   "source": []
  },
  {
   "cell_type": "code",
   "execution_count": null,
   "id": "ce1ed0cd-df3c-49f4-aa37-dfefd0845a17",
   "metadata": {},
   "outputs": [],
   "source": []
  },
  {
   "cell_type": "code",
   "execution_count": null,
   "id": "969a02f3-4364-4a66-9670-a70c770ba66f",
   "metadata": {},
   "outputs": [],
   "source": []
  },
  {
   "cell_type": "code",
   "execution_count": null,
   "id": "36a65893-c2d2-48c4-bda6-836f844c75d2",
   "metadata": {},
   "outputs": [],
   "source": []
  },
  {
   "cell_type": "code",
   "execution_count": null,
   "id": "492842a6-c604-42d6-a32b-989d4a8c6587",
   "metadata": {},
   "outputs": [],
   "source": []
  },
  {
   "cell_type": "code",
   "execution_count": null,
   "id": "67f19441-4e22-49ba-8549-fdf0a97ea386",
   "metadata": {},
   "outputs": [],
   "source": []
  },
  {
   "cell_type": "code",
   "execution_count": null,
   "id": "5c096c13-2584-4759-95a0-9c01c05e6d0d",
   "metadata": {},
   "outputs": [],
   "source": []
  },
  {
   "cell_type": "code",
   "execution_count": null,
   "id": "97c35df6-3a54-413d-bb92-c8c9992421c1",
   "metadata": {},
   "outputs": [],
   "source": []
  },
  {
   "cell_type": "code",
   "execution_count": null,
   "id": "bff78039-52bf-4019-b1a4-1f33408e8210",
   "metadata": {},
   "outputs": [],
   "source": []
  },
  {
   "cell_type": "code",
   "execution_count": null,
   "id": "49f3a7eb-5797-48b0-a098-ab123fdcc3c2",
   "metadata": {},
   "outputs": [],
   "source": []
  },
  {
   "cell_type": "code",
   "execution_count": null,
   "id": "b370310c-b3b3-471b-b7d0-2cf389fa8e74",
   "metadata": {},
   "outputs": [],
   "source": []
  },
  {
   "cell_type": "code",
   "execution_count": null,
   "id": "7e18842e-03e4-429f-978a-fff1d5f1b8a0",
   "metadata": {},
   "outputs": [],
   "source": []
  },
  {
   "cell_type": "code",
   "execution_count": null,
   "id": "bcc39bf7-d143-47aa-bbbc-872ace236fa8",
   "metadata": {},
   "outputs": [],
   "source": []
  },
  {
   "cell_type": "code",
   "execution_count": null,
   "id": "c9fa1e43-7fef-4d7d-9e61-b0646a60a5c6",
   "metadata": {},
   "outputs": [],
   "source": []
  },
  {
   "cell_type": "code",
   "execution_count": null,
   "id": "d40a08c1-d98c-43e6-bfc4-dfb746400242",
   "metadata": {},
   "outputs": [],
   "source": []
  },
  {
   "cell_type": "code",
   "execution_count": null,
   "id": "7c3872f3-bd41-4ab6-8984-7e5879dd0ac6",
   "metadata": {},
   "outputs": [],
   "source": []
  },
  {
   "cell_type": "code",
   "execution_count": null,
   "id": "7e90abac-f729-41f7-a158-ea65477b5b8e",
   "metadata": {},
   "outputs": [],
   "source": []
  },
  {
   "cell_type": "code",
   "execution_count": null,
   "id": "1c56f831-0c25-4c2d-94b9-6bd84c330f0b",
   "metadata": {},
   "outputs": [],
   "source": []
  },
  {
   "cell_type": "code",
   "execution_count": null,
   "id": "5500f027-1e1e-4eb9-b5e6-f874cd990292",
   "metadata": {},
   "outputs": [],
   "source": []
  },
  {
   "cell_type": "code",
   "execution_count": null,
   "id": "7ae29028-e6e8-4003-b5a7-e0e43c785c7d",
   "metadata": {},
   "outputs": [],
   "source": []
  },
  {
   "cell_type": "code",
   "execution_count": null,
   "id": "f42b449b-5e58-4691-a0a4-7f8e1e7663fb",
   "metadata": {},
   "outputs": [],
   "source": []
  },
  {
   "cell_type": "code",
   "execution_count": null,
   "id": "2c638669-a344-4096-bf7c-fef449117c5c",
   "metadata": {},
   "outputs": [],
   "source": []
  },
  {
   "cell_type": "code",
   "execution_count": null,
   "id": "8826429c-a52e-4807-a238-a4e6d7b43a97",
   "metadata": {},
   "outputs": [],
   "source": []
  },
  {
   "cell_type": "code",
   "execution_count": null,
   "id": "1c721cf0-6142-48fb-847b-b60c5939ad2a",
   "metadata": {},
   "outputs": [],
   "source": []
  },
  {
   "cell_type": "code",
   "execution_count": null,
   "id": "f0ad0af4-f85a-4616-9f47-bce3b18f02b2",
   "metadata": {},
   "outputs": [],
   "source": []
  },
  {
   "cell_type": "code",
   "execution_count": null,
   "id": "6dfd4c09-ac10-4c2b-8535-55d17a063f4f",
   "metadata": {},
   "outputs": [],
   "source": []
  },
  {
   "cell_type": "code",
   "execution_count": null,
   "id": "60694172-9e6d-49d7-b83c-df2b6648bf2f",
   "metadata": {},
   "outputs": [],
   "source": []
  },
  {
   "cell_type": "code",
   "execution_count": null,
   "id": "6cfd2382-8a06-40c0-b063-d49d8fdacc2b",
   "metadata": {},
   "outputs": [],
   "source": []
  },
  {
   "cell_type": "code",
   "execution_count": null,
   "id": "576ec8ec-6dfd-44f1-b44b-9c18cd9f3423",
   "metadata": {},
   "outputs": [],
   "source": [
    "no_to_k_df['Na_to-K']"
   ]
  },
  {
   "cell_type": "code",
   "execution_count": 203,
   "id": "2a3296e2-0f25-4bbd-980d-e1e0333e394c",
   "metadata": {},
   "outputs": [],
   "source": [
    "from sklearn.preprocessing import StandardScaler\n",
    "\n",
    "std = StandardScaler\n",
    "std.fit_transform(na_to)"
   ]
  },
  {
   "cell_type": "code",
   "execution_count": 3,
   "id": "b88bd503-a216-4158-8050-2c52c2a4f312",
   "metadata": {},
   "outputs": [],
   "source": [
    "import numpy as np\n",
    "# 학습 데이터  세트와 데이터 세트를 분리해주는 라이브러리\n",
    "from sklearn.model_selection import train_test_split\n",
    "\n",
    "feature = drug.iloc[:, :-1]\n",
    "target = drug.iloc[:,-1]\n",
    "feature\n",
    "\n",
    "x_train, x_text, y_train, y_test = train_test_split(feature, target, test_size = 0.2)\n",
    "# , random_state=124"
   ]
  },
  {
   "cell_type": "code",
   "execution_count": 4,
   "id": "2a3f2bed-bd81-4810-8a63-426d70e1b5cb",
   "metadata": {},
   "outputs": [
    {
     "data": {
      "text/html": [
       "<style>#sk-container-id-1 {color: black;background-color: white;}#sk-container-id-1 pre{padding: 0;}#sk-container-id-1 div.sk-toggleable {background-color: white;}#sk-container-id-1 label.sk-toggleable__label {cursor: pointer;display: block;width: 100%;margin-bottom: 0;padding: 0.3em;box-sizing: border-box;text-align: center;}#sk-container-id-1 label.sk-toggleable__label-arrow:before {content: \"▸\";float: left;margin-right: 0.25em;color: #696969;}#sk-container-id-1 label.sk-toggleable__label-arrow:hover:before {color: black;}#sk-container-id-1 div.sk-estimator:hover label.sk-toggleable__label-arrow:before {color: black;}#sk-container-id-1 div.sk-toggleable__content {max-height: 0;max-width: 0;overflow: hidden;text-align: left;background-color: #f0f8ff;}#sk-container-id-1 div.sk-toggleable__content pre {margin: 0.2em;color: black;border-radius: 0.25em;background-color: #f0f8ff;}#sk-container-id-1 input.sk-toggleable__control:checked~div.sk-toggleable__content {max-height: 200px;max-width: 100%;overflow: auto;}#sk-container-id-1 input.sk-toggleable__control:checked~label.sk-toggleable__label-arrow:before {content: \"▾\";}#sk-container-id-1 div.sk-estimator input.sk-toggleable__control:checked~label.sk-toggleable__label {background-color: #d4ebff;}#sk-container-id-1 div.sk-label input.sk-toggleable__control:checked~label.sk-toggleable__label {background-color: #d4ebff;}#sk-container-id-1 input.sk-hidden--visually {border: 0;clip: rect(1px 1px 1px 1px);clip: rect(1px, 1px, 1px, 1px);height: 1px;margin: -1px;overflow: hidden;padding: 0;position: absolute;width: 1px;}#sk-container-id-1 div.sk-estimator {font-family: monospace;background-color: #f0f8ff;border: 1px dotted black;border-radius: 0.25em;box-sizing: border-box;margin-bottom: 0.5em;}#sk-container-id-1 div.sk-estimator:hover {background-color: #d4ebff;}#sk-container-id-1 div.sk-parallel-item::after {content: \"\";width: 100%;border-bottom: 1px solid gray;flex-grow: 1;}#sk-container-id-1 div.sk-label:hover label.sk-toggleable__label {background-color: #d4ebff;}#sk-container-id-1 div.sk-serial::before {content: \"\";position: absolute;border-left: 1px solid gray;box-sizing: border-box;top: 0;bottom: 0;left: 50%;z-index: 0;}#sk-container-id-1 div.sk-serial {display: flex;flex-direction: column;align-items: center;background-color: white;padding-right: 0.2em;padding-left: 0.2em;position: relative;}#sk-container-id-1 div.sk-item {position: relative;z-index: 1;}#sk-container-id-1 div.sk-parallel {display: flex;align-items: stretch;justify-content: center;background-color: white;position: relative;}#sk-container-id-1 div.sk-item::before, #sk-container-id-1 div.sk-parallel-item::before {content: \"\";position: absolute;border-left: 1px solid gray;box-sizing: border-box;top: 0;bottom: 0;left: 50%;z-index: -1;}#sk-container-id-1 div.sk-parallel-item {display: flex;flex-direction: column;z-index: 1;position: relative;background-color: white;}#sk-container-id-1 div.sk-parallel-item:first-child::after {align-self: flex-end;width: 50%;}#sk-container-id-1 div.sk-parallel-item:last-child::after {align-self: flex-start;width: 50%;}#sk-container-id-1 div.sk-parallel-item:only-child::after {width: 0;}#sk-container-id-1 div.sk-dashed-wrapped {border: 1px dashed gray;margin: 0 0.4em 0.5em 0.4em;box-sizing: border-box;padding-bottom: 0.4em;background-color: white;}#sk-container-id-1 div.sk-label label {font-family: monospace;font-weight: bold;display: inline-block;line-height: 1.2em;}#sk-container-id-1 div.sk-label-container {text-align: center;}#sk-container-id-1 div.sk-container {/* jupyter's `normalize.less` sets `[hidden] { display: none; }` but bootstrap.min.css set `[hidden] { display: none !important; }` so we also need the `!important` here to be able to override the default hidden behavior on the sphinx rendered scikit-learn.org. See: https://github.com/scikit-learn/scikit-learn/issues/21755 */display: inline-block !important;position: relative;}#sk-container-id-1 div.sk-text-repr-fallback {display: none;}</style><div id=\"sk-container-id-1\" class=\"sk-top-container\"><div class=\"sk-text-repr-fallback\"><pre>DecisionTreeClassifier()</pre><b>In a Jupyter environment, please rerun this cell to show the HTML representation or trust the notebook. <br />On GitHub, the HTML representation is unable to render, please try loading this page with nbviewer.org.</b></div><div class=\"sk-container\" hidden><div class=\"sk-item\"><div class=\"sk-estimator sk-toggleable\"><input class=\"sk-toggleable__control sk-hidden--visually\" id=\"sk-estimator-id-1\" type=\"checkbox\" checked><label for=\"sk-estimator-id-1\" class=\"sk-toggleable__label sk-toggleable__label-arrow\">DecisionTreeClassifier</label><div class=\"sk-toggleable__content\"><pre>DecisionTreeClassifier()</pre></div></div></div></div></div>"
      ],
      "text/plain": [
       "DecisionTreeClassifier()"
      ]
     },
     "execution_count": 4,
     "metadata": {},
     "output_type": "execute_result"
    }
   ],
   "source": [
    "from sklearn.tree import DecisionTreeClassifier\n",
    "\n",
    "dtc = DecisionTreeClassifier()\n",
    "# 훈련 시, feature(문제)에 feature_names가 있고 없고에 따라\n",
    "# predict에 전달할 feature(문제)의 방향성이 달라진다.\n",
    "dtc.fit(x_train.values, y_train.values)"
   ]
  },
  {
   "cell_type": "code",
   "execution_count": 5,
   "id": "bc3331c8-85d2-4585-8d2c-16d416230b56",
   "metadata": {},
   "outputs": [
    {
     "data": {
      "text/plain": [
       "1.0"
      ]
     },
     "execution_count": 5,
     "metadata": {},
     "output_type": "execute_result"
    }
   ],
   "source": [
    "from sklearn.metrics import accuracy_score\n",
    "\n",
    "accuracy_score(y_test.values, dtc.predict(x_text.values))"
   ]
  },
  {
   "cell_type": "code",
   "execution_count": 6,
   "id": "da41f33e-ec0f-4563-b20f-d086710d7de9",
   "metadata": {},
   "outputs": [],
   "source": [
    "from sklearn.tree import export_graphviz\n",
    "\n",
    "# drug 데이터프레임에서 특성 열의 이름 가져오기\n",
    "feature_names = drug.columns.tolist()\n",
    "if 'target' in feature_names:\n",
    "    feature_names.remove('target')  # target 열이 있다면 제외\n",
    "\n",
    "# 의사 결정 트리 시각화\n",
    "export_graphviz(dtc, out_file=\"./images/a.dot\", feature_names=feature_names[:5], impurity=True, filled=True)\n"
   ]
  },
  {
   "cell_type": "code",
   "execution_count": 8,
   "id": "28a0667a-fce6-430f-b930-3d2a4bd0c85f",
   "metadata": {},
   "outputs": [],
   "source": [
    "import graphviz\n",
    "\n",
    "with open('./images/a.dot') as f:\n",
    "    a = f.read()\n",
    "\n",
    "iris_dtc01_graph = graphviz.Source(a)"
   ]
  },
  {
   "cell_type": "code",
   "execution_count": 9,
   "id": "ab49943e-1457-4ee4-a09f-cc4d722e6b2f",
   "metadata": {},
   "outputs": [
    {
     "data": {
      "text/plain": [
       "'images\\\\a.png'"
      ]
     },
     "execution_count": 9,
     "metadata": {},
     "output_type": "execute_result"
    }
   ],
   "source": [
    "iris_dtc01_graph.render(filename= \"a\", directory= \"./images\", format= \"png\")"
   ]
  },
  {
   "cell_type": "markdown",
   "id": "95471118-101c-426c-a0f2-04b035c1aca6",
   "metadata": {},
   "source": [
    "<img src=\"./images/a.png\">"
   ]
  },
  {
   "cell_type": "code",
   "execution_count": 55,
   "id": "68858244-9773-4f90-85d3-42157e0433b3",
   "metadata": {},
   "outputs": [
    {
     "name": "stdout",
     "output_type": "stream",
     "text": [
      "[0.15268633 0.         0.33732914 0.04298562 0.46699892]\n"
     ]
    }
   ],
   "source": [
    "import pandas as pd\n",
    "\n",
    "\n",
    "# drug 데이터프레임 생성\n",
    "drug = pd.DataFrame(drug)\n",
    "\n",
    "# 데이터프레임의 열 이름 확인\n",
    "feature_names = drug.columns.tolist()[:-1]\n",
    "print(dtc.feature_importances_)"
   ]
  },
  {
   "cell_type": "code",
   "execution_count": 56,
   "id": "d71dce62-c1db-4018-9e16-e3aa8d07708b",
   "metadata": {},
   "outputs": [
    {
     "name": "stderr",
     "output_type": "stream",
     "text": [
      "C:\\ProgramData\\anaconda3\\Lib\\site-packages\\seaborn\\_oldcore.py:1765: FutureWarning: unique with argument that is not not a Series, Index, ExtensionArray, or np.ndarray is deprecated and will raise in a future version.\n",
      "  order = pd.unique(vector)\n"
     ]
    },
    {
     "data": {
      "image/png": "[encoded data removed]",
      "text/plain": [
       "<Figure size 640x480 with 1 Axes>"
      ]
     },
     "metadata": {},
     "output_type": "display_data"
    }
   ],
   "source": [
    "import matplotlib.pyplot as plt\n",
    "import seaborn as sns\n",
    "drug = pd.DataFrame(drug)\n",
    "sns.barplot(x=dtc.feature_importances_, y=feature_names)\n",
    "plt.show()"
   ]
  },
  {
   "cell_type": "code",
   "execution_count": 66,
   "id": "5ca6462d-767e-496b-91a3-82aec7ac3ade",
   "metadata": {},
   "outputs": [
    {
     "data": {
      "text/plain": [
       "<matplotlib.collections.PathCollection at 0x192447eab50>"
      ]
     },
     "execution_count": 66,
     "metadata": {},
     "output_type": "execute_result"
    },
    {
     "data": {
      "image/png": "[encoded data removed]",
      "text/plain": [
       "<Figure size 640x480 with 1 Axes>"
      ]
     },
     "metadata": {},
     "output_type": "display_data"
    }
   ],
   "source": [
    "drug\n",
    "\n",
    "\n",
    "plt.scatter(drug['BP'], drug['Na_to_K'], c=drug['Drug'], edgecolor='r' )\n"
   ]
  },
  {
   "cell_type": "code",
   "execution_count": 67,
   "id": "54e25aba-0047-439d-8803-c78eed748dc0",
   "metadata": {},
   "outputs": [],
   "source": [
    "import numpy as np\n",
    "\n",
    "# Classifier의 Decision Boundary를 시각화 하는 함수\n",
    "def visualize_boundary(model, X, y):\n",
    "    fig,ax = plt.subplots()\n",
    "    \n",
    "    # 학습 데이타 scatter plot으로 나타내기\n",
    "    ax.scatter(X[:, 0], X[:, 1], c=y, s=25, cmap='rainbow', edgecolor='k',\n",
    "               clim=(y.min(), y.max()), zorder=3)\n",
    "    ax.axis('tight')\n",
    "    ax.axis('off')\n",
    "    xlim_start , xlim_end = ax.get_xlim()\n",
    "    ylim_start , ylim_end = ax.get_ylim()\n",
    "    \n",
    "    # 호출 파라미터로 들어온 training 데이타로 model 학습 . \n",
    "    model.fit(X, y)\n",
    "    # meshgrid 형태인 모든 좌표값으로 예측 수행. \n",
    "    xx, yy = np.meshgrid(np.linspace(xlim_start,xlim_end, num=200),np.linspace(ylim_start,ylim_end, num=200))\n",
    "    Z = model.predict(np.c_[xx.ravel(), yy.ravel()]).reshape(xx.shape)\n",
    "    \n",
    "    # contourf() 를 이용하여 class boundary 를 visualization 수행. \n",
    "    n_classes = len(np.unique(y))\n",
    "    contours = ax.contourf(xx, yy, Z, alpha=0.3,\n",
    "                           levels=np.arange(n_classes + 1) - 0.5,\n",
    "                           cmap='rainbow',\n",
    "                           zorder=1)"
   ]
  },
  {
   "cell_type": "code",
   "execution_count": 72,
   "id": "cb8def27-2bfd-4890-99c3-d462f2d9e3d8",
   "metadata": {},
   "outputs": [
    {
     "data": {
      "image/png": "[encoded data removed]",
      "text/plain": [
       "<Figure size 640x480 with 1 Axes>"
      ]
     },
     "metadata": {},
     "output_type": "display_data"
    }
   ],
   "source": [
    "features = drug[['BP', 'Na_to_K']].values\n",
    "targets = drug['Drug']\n",
    "\n",
    "dtc = DecisionTreeClassifier(random_state=124)\n",
    "dtc.fit(features, targets)\n",
    "visualize_boundary(dtc, features, targets)"
   ]
  },
  {
   "cell_type": "code",
   "execution_count": 83,
   "id": "71dbf34f-1350-41b0-80ed-1dd085128701",
   "metadata": {},
   "outputs": [
    {
     "data": {
      "image/png": "[encoded data removed]",
      "text/plain": [
       "<Figure size 640x480 with 1 Axes>"
      ]
     },
     "metadata": {},
     "output_type": "display_data"
    }
   ],
   "source": [
    "dtc = DecisionTreeClassifier(random_state=124, min_samples_leaf=17)\n",
    "dtc.fit(features, targets)\n",
    "visualize_boundary(dtc, features, targets)"
   ]
  },
  {
   "cell_type": "code",
   "execution_count": 86,
   "id": "67521db5-97f9-46be-b0b4-57b5c296d3f2",
   "metadata": {},
   "outputs": [
    {
     "data": {
      "text/html": [
       "<div>\n",
       "<style scoped>\n",
       "    .dataframe tbody tr th:only-of-type {\n",
       "        vertical-align: middle;\n",
       "    }\n",
       "\n",
       "    .dataframe tbody tr th {\n",
       "        vertical-align: top;\n",
       "    }\n",
       "\n",
       "    .dataframe thead th {\n",
       "        text-align: right;\n",
       "    }\n",
       "</style>\n",
       "<table border=\"1\" class=\"dataframe\">\n",
       "  <thead>\n",
       "    <tr style=\"text-align: right;\">\n",
       "      <th></th>\n",
       "      <th>Age</th>\n",
       "      <th>Sex</th>\n",
       "      <th>BP</th>\n",
       "      <th>Cholesterol</th>\n",
       "      <th>Na_to_K</th>\n",
       "      <th>Drug</th>\n",
       "    </tr>\n",
       "  </thead>\n",
       "  <tbody>\n",
       "    <tr>\n",
       "      <th>0</th>\n",
       "      <td>23</td>\n",
       "      <td>1</td>\n",
       "      <td>2</td>\n",
       "      <td>1</td>\n",
       "      <td>25.355</td>\n",
       "      <td>5</td>\n",
       "    </tr>\n",
       "    <tr>\n",
       "      <th>1</th>\n",
       "      <td>47</td>\n",
       "      <td>0</td>\n",
       "      <td>0</td>\n",
       "      <td>1</td>\n",
       "      <td>13.093</td>\n",
       "      <td>2</td>\n",
       "    </tr>\n",
       "    <tr>\n",
       "      <th>2</th>\n",
       "      <td>47</td>\n",
       "      <td>0</td>\n",
       "      <td>0</td>\n",
       "      <td>1</td>\n",
       "      <td>10.114</td>\n",
       "      <td>2</td>\n",
       "    </tr>\n",
       "    <tr>\n",
       "      <th>3</th>\n",
       "      <td>28</td>\n",
       "      <td>1</td>\n",
       "      <td>1</td>\n",
       "      <td>1</td>\n",
       "      <td>7.798</td>\n",
       "      <td>4</td>\n",
       "    </tr>\n",
       "    <tr>\n",
       "      <th>4</th>\n",
       "      <td>61</td>\n",
       "      <td>1</td>\n",
       "      <td>0</td>\n",
       "      <td>1</td>\n",
       "      <td>18.043</td>\n",
       "      <td>5</td>\n",
       "    </tr>\n",
       "    <tr>\n",
       "      <th>...</th>\n",
       "      <td>...</td>\n",
       "      <td>...</td>\n",
       "      <td>...</td>\n",
       "      <td>...</td>\n",
       "      <td>...</td>\n",
       "      <td>...</td>\n",
       "    </tr>\n",
       "    <tr>\n",
       "      <th>195</th>\n",
       "      <td>56</td>\n",
       "      <td>1</td>\n",
       "      <td>0</td>\n",
       "      <td>1</td>\n",
       "      <td>11.567</td>\n",
       "      <td>2</td>\n",
       "    </tr>\n",
       "    <tr>\n",
       "      <th>196</th>\n",
       "      <td>16</td>\n",
       "      <td>0</td>\n",
       "      <td>0</td>\n",
       "      <td>1</td>\n",
       "      <td>12.006</td>\n",
       "      <td>2</td>\n",
       "    </tr>\n",
       "    <tr>\n",
       "      <th>197</th>\n",
       "      <td>52</td>\n",
       "      <td>0</td>\n",
       "      <td>1</td>\n",
       "      <td>1</td>\n",
       "      <td>9.894</td>\n",
       "      <td>4</td>\n",
       "    </tr>\n",
       "    <tr>\n",
       "      <th>198</th>\n",
       "      <td>23</td>\n",
       "      <td>0</td>\n",
       "      <td>1</td>\n",
       "      <td>0</td>\n",
       "      <td>14.020</td>\n",
       "      <td>4</td>\n",
       "    </tr>\n",
       "    <tr>\n",
       "      <th>199</th>\n",
       "      <td>40</td>\n",
       "      <td>1</td>\n",
       "      <td>0</td>\n",
       "      <td>0</td>\n",
       "      <td>11.349</td>\n",
       "      <td>4</td>\n",
       "    </tr>\n",
       "  </tbody>\n",
       "</table>\n",
       "<p>200 rows × 6 columns</p>\n",
       "</div>"
      ],
      "text/plain": [
       "     Age  Sex  BP  Cholesterol  Na_to_K  Drug\n",
       "0     23    1   2            1   25.355     5\n",
       "1     47    0   0            1   13.093     2\n",
       "2     47    0   0            1   10.114     2\n",
       "3     28    1   1            1    7.798     4\n",
       "4     61    1   0            1   18.043     5\n",
       "..   ...  ...  ..          ...      ...   ...\n",
       "195   56    1   0            1   11.567     2\n",
       "196   16    0   0            1   12.006     2\n",
       "197   52    0   1            1    9.894     4\n",
       "198   23    0   1            0   14.020     4\n",
       "199   40    1   0            0   11.349     4\n",
       "\n",
       "[200 rows x 6 columns]"
      ]
     },
     "execution_count": 86,
     "metadata": {},
     "output_type": "execute_result"
    }
   ],
   "source": []
  },
  {
   "cell_type": "code",
   "execution_count": null,
   "id": "f7b9fdb3-8546-4838-bd8c-36b5f7fb7847",
   "metadata": {},
   "outputs": [],
   "source": []
  },
  {
   "cell_type": "code",
   "execution_count": null,
   "id": "d36ad0e9-1500-47cd-b8b1-09e041b33ff7",
   "metadata": {},
   "outputs": [],
   "source": []
  },
  {
   "cell_type": "code",
   "execution_count": 202,
   "id": "994ab5e7-d46a-465e-8397-3108dc2060a2",
   "metadata": {},
   "outputs": [
    {
     "data": {
      "text/plain": [
       "0.975"
      ]
     },
     "execution_count": 202,
     "metadata": {},
     "output_type": "execute_result"
    }
   ],
   "source": [
    "# import numpy as np\n",
    "# # 학습 데이터  세트와 데이터 세트를 분리해주는 라이브러리\n",
    "# from sklearn.model_selection import train_test_split\n",
    "\n",
    "# feature = drug.iloc[:, :-1]\n",
    "# target = drug.iloc[:,-1]\n",
    "# feature\n",
    "\n",
    "# x_train, x_text, y_train, y_test = train_test_split(feature, target, test_size = 0.2)\n",
    "# # , random_state=124\n",
    "# from sklearn.tree import DecisionTreeClassifier\n",
    "\n",
    "# dtc = DecisionTreeClassifier()\n",
    "# # 훈련 시, feature(문제)에 feature_names가 있고 없고에 따라\n",
    "# # predict에 전달할 feature(문제)의 방향성이 달라진다.\n",
    "# dtc.fit(x_train.values, y_train.values)\n",
    "# from sklearn.metrics import accuracy_score\n",
    "\n",
    "# accuracy_score(y_test.values, dtc.predict(x_text.values))"
   ]
  }
 ],
 "metadata": {
  "kernelspec": {
   "display_name": "Python 3 (ipykernel)",
   "language": "python",
   "name": "python3"
  },
  "language_info": {
   "codemirror_mode": {
    "name": "ipython",
    "version": 3
   },
   "file_extension": ".py",
   "mimetype": "text/x-python",
   "name": "python",
   "nbconvert_exporter": "python",
   "pygments_lexer": "ipython3",
   "version": "3.11.8"
  }
 },
 "nbformat": 4,
 "nbformat_minor": 5
}
