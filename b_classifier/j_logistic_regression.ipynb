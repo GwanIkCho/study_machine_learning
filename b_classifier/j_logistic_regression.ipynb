{
 "cells": [
  {
   "cell_type": "markdown",
   "id": "7ce434ba-4ce3-4813-8b09-86b459f6d4ca",
   "metadata": {},
   "source": [
    "### 로지스틱 회귀 (Logistic Regression)\r\n",
    "\r\n",
    "- 독립 변수의 선형 결합을 이용하여 이진 분류 사건의 발생 가능성을 예측하는데 사용되는 통계기법이다.\r\n",
    "\r\n",
    "<div style=\"display: flex; justify-content: space-between; width: 1000px;\">\r\n",
    "    <table style=\"margin-left: 20px; text-align: center; border: 1px solid #eee; width: 500px;\">\r\n",
    "        <tr>\r\n",
    "            <th>노는 시간 - 공부 시간 (x)</th>\r\n",
    "            <th>합격 여부 (y)</th>\r\n",
    "        </tr>\r\n",
    "        <tr>\r\n",
    "            <td>-4</td>\r\n",
    "            <td>0</td>\r\n",
    "        </tr>\r\n",
    "        <tr>\r\n",
    "            <td>-2</td>\r\n",
    "            <td>0</td>\r\n",
    "        </tr>\r\n",
    "        <tr>\r\n",
    "            <td>2</td>\r\n",
    "            <td>1</td>\r\n",
    "        </tr>\r\n",
    "        <tr>\r\n",
    "            <td>4</td>\r\n",
    "            <td>1</td>\r\n",
    "        </tr>\r\n",
    "    </table>  \r\n",
    "    <div style=\"width: 400px\">\r\n",
    "        <img src=\"./images/logistic_regression_train.png\">\r\n",
    "        <br><br><br>\r\n",
    "        <img src=\"./images/linear_combination.png\">\r\n",
    "    </div>\r\n",
    "</div>  "
   ]
  },
  {
   "cell_type": "code",
   "execution_count": 2,
   "id": "64a46a36-cc81-4794-9fe9-f4d002f8d8b3",
   "metadata": {},
   "outputs": [],
   "source": [
    "import torch\n",
    "\n",
    "X_train = torch.FloatTensor([[-4],[-2],[2],[4]])\n",
    "X_train = torch.FloatTensor([[0],[0],[1],[1]])"
   ]
  },
  {
   "cell_type": "markdown",
   "id": "11e0c652-7f2d-4dc4-bdc7-d940f99af915",
   "metadata": {},
   "source": [
    "- 위와 같은 데이터에 직선을 사용하게 되면, 오차가 너무 크게 생긴다.\n",
    "- 기존의 가설에 S모양 그래프로 만들 수 있는 함수로 감싸주어야 하고, 이 f함수는 시그모이드 함수이다.\n",
    "- 따라서 로지스틱 회귀에서는 아래와 같은 가설을 사용하게 된다.\n",
    "\n",
    "<img src=\"./images/logistic_h.png\" style=\"margin-left: 25px;\">  \r\n",
    "<img src=\"./images/logistic_sigmoid.png\" style=\"margin-left: 25px;\">"
   ]
  },
  {
   "cell_type": "markdown",
   "id": "b77cb777-7998-447c-b0f8-8701018483a4",
   "metadata": {},
   "source": [
    "- 위에서 확인할 수 있듯이, W는 기울기가 아니라 경사도를 결정하게 된다. 즉, W가 커지면 경사도가 높아지고 작아지면 경사가 낮아진다.\n",
    "- b는 커질 수록 왼쪽으로 이동하고, 작아질 수록 오른쪽으로 이동한다.\n",
    "- MSE(평균 제곱 오차) 수식을 통해 경사도와 오차에 대한 그래프를 그리고 미분을 진행하면 다음과 같다.\n",
    "\n",
    "<img src=\"./images/img01.png\" style=\"margin-left: 20px;\">  \n",
    "<img src=\"./images/img02.png\" style=\"margin-left: 20px;\">\n",
    "\n",
    "- 경사 하강법을 통해 오차가 최소로 되는 곳에 도착해도 해당 부분이 최소가 아닐 수 있기 때문에(로컬 미니멈),\n",
    "\n",
    "실제로 최소가 되는 곳(글로벌 미니멈)까지 가야한다. 이는 많은 기술을 요하므로 다른 loss function을 고려해봐야 한다.\n",
    "\n",
    "---\n",
    "\n",
    "- 아래 그래프는 y = 0.5에 대칭하는 log 함수이다.\n",
    "\n",
    "<img src=\"./images/img03.png\" style=\"margin-left: 20px;\">\n",
    "\n",
    "- 식제값이 0일 때 예측값이 1에 가까워지면 loss가 점점 커지고, 실제값이 1일 때 예측값이 0에 수렴해도 loss가 점점 커진다.\n",
    "- 위 로그 함수를 수식으로 나타내면 다음과 같다.\n",
    "\n",
    "- 위 식을 통해 W에 대한 loss function을 구하는 식은 아래와 같다.\n",
    "\n",
    "<img src=\"./images/img04.png\" style=\"margin-left: 20px;\">\n",
    "\n",
    "- 실제값 y와 예측값 H(x)의 차이가 커질 수록 loss값이 커지고 차이가 작아지면 loss값이 작아진다. 위의 loss function에 대해서 경사 하강법을 수행하며 최적의\n",
    "  경사도(W)를 찾아간다.\n",
    "\n",
    "<img src=\"./images/img05.png\" style=\"margin-left: 20px;\">"
   ]
  },
  {
   "cell_type": "code",
   "execution_count": null,
   "id": "25bcc323-4dcb-42c1-83f7-a84630e1e2c8",
   "metadata": {},
   "outputs": [],
   "source": [
    "import torch\n",
    "\n",
    "X_train = torch.FloatTensor([[-4],[-2],[2],[4]])\n",
    "y_train = torch.FloatTensor([[0],[0],[1],[1]])\n",
    "\n",
    "W = torch.zeros((1,1), requires_grad=True)\n",
    "b = torch.zeros(1, requires_grad=True)\n",
    "\n",
    "op\n",
    "\n",
    "\n",
    "print(X_train, y_train, sep='\\n')\n"
   ]
  },
  {
   "cell_type": "code",
   "execution_count": null,
   "id": "471fa307-00ae-4319-8666-6ef0c4820981",
   "metadata": {},
   "outputs": [],
   "source": []
  },
  {
   "cell_type": "code",
   "execution_count": null,
   "id": "b64bd21b-aa72-49f0-8051-6c9c2f7bd02e",
   "metadata": {},
   "outputs": [],
   "source": []
  },
  {
   "cell_type": "code",
   "execution_count": null,
   "id": "d55f0265-1671-453b-a42c-87d6d48eb783",
   "metadata": {},
   "outputs": [],
   "source": []
  },
  {
   "cell_type": "code",
   "execution_count": null,
   "id": "b732f2b5-55bf-4e29-b1e2-23f64cec7458",
   "metadata": {},
   "outputs": [],
   "source": []
  },
  {
   "cell_type": "code",
   "execution_count": null,
   "id": "69605fa0-32f9-42ac-b6c8-b43c9224fca1",
   "metadata": {},
   "outputs": [],
   "source": []
  },
  {
   "cell_type": "code",
   "execution_count": null,
   "id": "c9f5a619-27f7-4aca-bb8b-3ed629e5109b",
   "metadata": {},
   "outputs": [],
   "source": []
  },
  {
   "cell_type": "code",
   "execution_count": null,
   "id": "1f56ee53-1247-4759-a3b4-2afaf067f2ae",
   "metadata": {},
   "outputs": [],
   "source": []
  },
  {
   "cell_type": "code",
   "execution_count": null,
   "id": "61bc4509-7090-417a-bdb4-e34424617dc9",
   "metadata": {},
   "outputs": [],
   "source": []
  },
  {
   "cell_type": "code",
   "execution_count": null,
   "id": "6ef74d48-778e-418d-af56-c1b58c50a8aa",
   "metadata": {},
   "outputs": [],
   "source": []
  },
  {
   "cell_type": "code",
   "execution_count": null,
   "id": "8bdac166-53ac-461e-9944-3df80bb4a916",
   "metadata": {},
   "outputs": [],
   "source": []
  },
  {
   "cell_type": "code",
   "execution_count": null,
   "id": "ccbb2c67-bdad-485c-b966-08363edbe0ea",
   "metadata": {},
   "outputs": [],
   "source": []
  },
  {
   "cell_type": "code",
   "execution_count": null,
   "id": "ccd7e466-60ad-4072-adbc-e7447b10afd3",
   "metadata": {},
   "outputs": [],
   "source": []
  },
  {
   "cell_type": "code",
   "execution_count": null,
   "id": "b7627ce3-4447-459d-99c8-991b9fdf3722",
   "metadata": {},
   "outputs": [],
   "source": []
  },
  {
   "cell_type": "code",
   "execution_count": null,
   "id": "6f293725-21d6-4c0f-82f9-119fe1b26ff1",
   "metadata": {},
   "outputs": [],
   "source": []
  },
  {
   "cell_type": "code",
   "execution_count": null,
   "id": "ed8216a9-a48c-4d6c-b0ab-2b2aa4d36464",
   "metadata": {},
   "outputs": [],
   "source": []
  },
  {
   "cell_type": "code",
   "execution_count": null,
   "id": "cd9c5a45-85f0-46f6-9ab1-0fdd096280dc",
   "metadata": {},
   "outputs": [],
   "source": []
  },
  {
   "cell_type": "code",
   "execution_count": null,
   "id": "fe2bc377-707c-4880-99ba-77359c778377",
   "metadata": {},
   "outputs": [],
   "source": []
  },
  {
   "cell_type": "code",
   "execution_count": null,
   "id": "d0c3d211-3dff-4324-87b3-a1229a75f3c3",
   "metadata": {},
   "outputs": [],
   "source": []
  },
  {
   "cell_type": "code",
   "execution_count": null,
   "id": "1480638f-e7de-4da8-a404-0fca7ed4bf17",
   "metadata": {},
   "outputs": [],
   "source": []
  },
  {
   "cell_type": "code",
   "execution_count": null,
   "id": "45e988cc-ce96-4635-99b8-723242d19d02",
   "metadata": {},
   "outputs": [],
   "source": []
  }
 ],
 "metadata": {
  "kernelspec": {
   "display_name": "Python 3 (ipykernel)",
   "language": "python",
   "name": "python3"
  },
  "language_info": {
   "codemirror_mode": {
    "name": "ipython",
    "version": 3
   },
   "file_extension": ".py",
   "mimetype": "text/x-python",
   "name": "python",
   "nbconvert_exporter": "python",
   "pygments_lexer": "ipython3",
   "version": "3.11.8"
  }
 },
 "nbformat": 4,
 "nbformat_minor": 5
}
