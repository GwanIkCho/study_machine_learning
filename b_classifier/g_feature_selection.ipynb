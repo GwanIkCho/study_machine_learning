{
 "cells": [
  {
   "cell_type": "markdown",
   "id": "8ff22c73-92c6-4726-b32c-4f4d7eaa9f14",
   "metadata": {},
   "source": [
    "### Feature Selection\r\n",
    "- 결과 예측에 있어서, 불필요한 feature들로 인해 모델 예측 성능을 떨어뜨릴 가능성을 사전 제거할 수 있다.\r\n",
    "- 타겟 데이터와 관련이 없는 feature들을 제거하여, 타겟 데이터를 가장 잘 예측하는 feature들의 조합(상관관계가 높은)을 찾아내는 것이 목적이다.\r\n",
    "\r\n",
    "#### 🎈용어 정리\r\n",
    "<table style=\"margin-left: 0\">\r\n",
    "    <tr>\r\n",
    "        <th style=\"text-align: center\">표현</th>\r\n",
    "        <th style=\"text-align: center\">정의</th>\r\n",
    "    </tr>\r\n",
    "    <tr>\r\n",
    "        <td style=\"text-align: center\">Feature Engineering</td>\r\n",
    "        <td style=\"text-align: center\">도메인(기본) 지식을 사용하여 데이터에서 피처를 변형 및 생성</td>\r\n",
    "    </tr>\r\n",
    "    <tr>\r\n",
    "        <td style=\"text-align: center\">Feature Extraction</td>\r\n",
    "        <td style=\"text-align: center\">차원축소 등 새로운 중요 피처를 추출</td>\r\n",
    "    </tr>\r\n",
    "    <tr>\r\n",
    "        <td style=\"text-align: center\">Feature Selection</td>\r\n",
    "        <td style=\"text-align: center\">기존 피처에서 원하는 피처만 선택하는 과정</td>\r\n",
    "    </tr>\r\n",
    "</table>\r\n",
    "\r\n",
    "#### Recursive Feature Elimination (RFE)\r\n",
    "- 모델 최초 학습 이후 feature의 중요도를 선정하는 방식이다.\r\n",
    "- feature의 중요도가 낮은 속성들을 차례로 제거하면서 원하는 feature의 개수가 남을 때까지 반복적으로 학습 및 평가를 수행한다.\r\n",
    "- 경우의 수로 제거해가  며 학습을 재수행하기 때문에 시간이 오래 걸린다.\r\n",
    "- 몇 개의 feature를   추  \n",
    "<img src=\"./images/RFE.png\" width=\"400px\">  \n",
    "   \n",
    "#### Recursive Feature Elimination Cross Validation(RFECV)    \n",
    "- RFE의 단점을 보완하기 위해 만들어졌으며, 최고 성능에서의 feature 개수를 알려주고, 해당 feature를 선택해준다.   \n",
    "- 각 feature마다 CrossValidation을 진행하여 각기 다른 성능을 도출한다.  \n",
    "- 도출된 성능 수치를 평균 내어 가장 높은 성능을 발휘하는 feature들을 선택한다.\n",
    "  \n",
    "\n",
    "\n",
    "<img src=\"./images/RFECV.png\" width=\"400px\">\n",
    "\n",
    "#### Permutation Importance\n",
    "- Permutation(순열)이란, 서로 다른 n개의 원소에서 r개를 중복없이 순서에 상관있게 선택하는 혹은 나열하는 것이다. 여기서 원소는 feature이며, 각 feature별로\n",
    "  중복없이 선택하여 feature의 중요도를 검증하는 방식이다.\n",
    "- 임의의 feature의 요소 순서를 무작위로 섞은 후 성능 감소에 대한 평균을 구한다.\n",
    "- 중요도를 판단하려는 feature의 요소를 noise로 만들어서 전과 후를 비교한 뒤 중요도를 판단한다.\n",
    "- 임의의 feature를 noice로 만들었을 때 성능이 떨어진 정도로 feature importance를 판별할 수 있다.\n",
    "\n",
    "<img src=\"./images/image23.png\" width=\"500px\">\n",
    "<img src=\"./images/image24.png\" width=\"500px\">images/RFE.png\" width=\"400px\">"
   ]
  },
  {
   "cell_type": "code",
   "execution_count": 3,
   "id": "040346ae-7ad0-42bc-b31f-0ca0959a4118",
   "metadata": {},
   "outputs": [
    {
     "data": {
      "text/plain": [
       "array([2, 3, 1, 0], dtype=int64)"
      ]
     },
     "execution_count": 3,
     "metadata": {},
     "output_type": "execute_result"
    }
   ],
   "source": [
    "from sklearn.datasets import load_iris\n",
    "from sklearn.model_selection import train_test_split\n",
    "from sklearn.svm import SVC\n",
    "from sklearn.inspection import permutation_importance\n",
    "\n",
    "iris = load_iris()\n",
    "x_train, x_test, y_train, y_test = train_test_split(iris.data, iris.target, stratify=iris.target, test_size=0.2, random_state=124)\n",
    "\n",
    "svc = SVC().fit(x_train, y_train)\n",
    "\n",
    "importance = permutation_importance(svc, x_test, y_test , n_repeats=30, random_state=124)\n",
    "importance.importances_mean.argsort()[::-1]"
   ]
  },
  {
   "cell_type": "code",
   "execution_count": 7,
   "id": "ce236207-8d71-4516-9fd3-fac892fe799b",
   "metadata": {},
   "outputs": [
    {
     "name": "stdout",
     "output_type": "stream",
     "text": [
      "petal length (cm)\n",
      "petal width (cm)\n",
      "sep\n",
      "sepal length (cm)\n"
     ]
    }
   ],
   "source": [
    "for i in importance.importances_mean.argsort()[::-1]:\n",
    "    print(f'{iris.feature_names[i]:{round(importance.importances_mean[i],4 )}}')"
   ]
  },
  {
   "cell_type": "code",
   "execution_count": null,
   "id": "11099017-bbaf-4da1-9dc8-73fe9fe6482e",
   "metadata": {},
   "outputs": [],
   "source": []
  },
  {
   "cell_type": "code",
   "execution_count": null,
   "id": "78b648c1-006f-4ff7-b5ee-b3595c0f1f37",
   "metadata": {},
   "outputs": [],
   "source": []
  },
  {
   "cell_type": "code",
   "execution_count": null,
   "id": "a9d29f30-2aaa-4dbf-8d97-43e03bc9f718",
   "metadata": {},
   "outputs": [],
   "source": []
  },
  {
   "cell_type": "code",
   "execution_count": null,
   "id": "54c75292-c745-43e2-a152-a267511fe531",
   "metadata": {},
   "outputs": [],
   "source": []
  },
  {
   "cell_type": "code",
   "execution_count": null,
   "id": "7b078f41-aacb-49cd-8c7b-e33645df60cf",
   "metadata": {},
   "outputs": [],
   "source": []
  },
  {
   "cell_type": "code",
   "execution_count": null,
   "id": "7ed1f233-b0f1-481c-912a-8756de11e5d2",
   "metadata": {},
   "outputs": [],
   "source": []
  },
  {
   "cell_type": "code",
   "execution_count": null,
   "id": "76b26695-e970-49da-be42-c62e83f8498c",
   "metadata": {},
   "outputs": [],
   "source": []
  },
  {
   "cell_type": "code",
   "execution_count": null,
   "id": "30980d70-68c0-43f8-b038-5652d0883c71",
   "metadata": {},
   "outputs": [],
   "source": []
  },
  {
   "cell_type": "code",
   "execution_count": null,
   "id": "ff75a6db-f604-45cf-96c5-0ff108ae48cb",
   "metadata": {},
   "outputs": [],
   "source": []
  },
  {
   "cell_type": "code",
   "execution_count": null,
   "id": "3361d76e-ede4-4abb-96a8-0bddc9945f30",
   "metadata": {},
   "outputs": [],
   "source": []
  },
  {
   "cell_type": "code",
   "execution_count": null,
   "id": "c0eb99e6-628e-4313-8e36-b97e607be624",
   "metadata": {},
   "outputs": [],
   "source": []
  },
  {
   "cell_type": "code",
   "execution_count": null,
   "id": "75eae22b-10ae-4b2d-99c0-2d1882775696",
   "metadata": {},
   "outputs": [],
   "source": []
  },
  {
   "cell_type": "code",
   "execution_count": null,
   "id": "d45265a6-43b7-48bd-972e-adf7a9d0907e",
   "metadata": {},
   "outputs": [],
   "source": []
  },
  {
   "cell_type": "code",
   "execution_count": null,
   "id": "86b8694b-3eba-4b22-ae70-fd004eaa9411",
   "metadata": {},
   "outputs": [],
   "source": []
  },
  {
   "cell_type": "code",
   "execution_count": null,
   "id": "786b8cd6-d921-449a-9d65-ba1e48523da2",
   "metadata": {},
   "outputs": [],
   "source": []
  },
  {
   "cell_type": "code",
   "execution_count": null,
   "id": "1c941870-8987-4d84-b258-2e9d11e6d140",
   "metadata": {},
   "outputs": [],
   "source": []
  },
  {
   "cell_type": "code",
   "execution_count": null,
   "id": "a12281d9-8ee7-4d15-87b1-766c282e7421",
   "metadata": {},
   "outputs": [],
   "source": []
  },
  {
   "cell_type": "code",
   "execution_count": null,
   "id": "e9b5302d-6f7e-45b7-b312-adc98544e82a",
   "metadata": {},
   "outputs": [],
   "source": []
  },
  {
   "cell_type": "code",
   "execution_count": null,
   "id": "f293c110-0978-4577-8790-acc042db3f93",
   "metadata": {},
   "outputs": [],
   "source": []
  },
  {
   "cell_type": "code",
   "execution_count": null,
   "id": "a71e8b35-874a-4626-bec6-554dbae9ba93",
   "metadata": {},
   "outputs": [],
   "source": []
  }
 ],
 "metadata": {
  "kernelspec": {
   "display_name": "Python 3 (ipykernel)",
   "language": "python",
   "name": "python3"
  },
  "language_info": {
   "codemirror_mode": {
    "name": "ipython",
    "version": 3
   },
   "file_extension": ".py",
   "mimetype": "text/x-python",
   "name": "python",
   "nbconvert_exporter": "python",
   "pygments_lexer": "ipython3",
   "version": "3.11.8"
  }
 },
 "nbformat": 4,
 "nbformat_minor": 5
}
