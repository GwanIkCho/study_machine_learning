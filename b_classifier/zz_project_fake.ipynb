{
 "cells": [
  {
   "cell_type": "code",
   "execution_count": 3,
   "id": "19da9434-c4d2-431e-a09c-52da80bd1381",
   "metadata": {},
   "outputs": [
    {
     "data": {
      "text/html": [
       "<div>\n",
       "<style scoped>\n",
       "    .dataframe tbody tr th:only-of-type {\n",
       "        vertical-align: middle;\n",
       "    }\n",
       "\n",
       "    .dataframe tbody tr th {\n",
       "        vertical-align: top;\n",
       "    }\n",
       "\n",
       "    .dataframe thead th {\n",
       "        text-align: right;\n",
       "    }\n",
       "</style>\n",
       "<table border=\"1\" class=\"dataframe\">\n",
       "  <thead>\n",
       "    <tr style=\"text-align: right;\">\n",
       "      <th></th>\n",
       "      <th>index</th>\n",
       "      <th>title</th>\n",
       "      <th>text</th>\n",
       "      <th>subject</th>\n",
       "      <th>date</th>\n",
       "      <th>class</th>\n",
       "      <th>Unnamed: 6</th>\n",
       "    </tr>\n",
       "  </thead>\n",
       "  <tbody>\n",
       "    <tr>\n",
       "      <th>0</th>\n",
       "      <td>0</td>\n",
       "      <td>PRESIDENT TRUMP Explains New “America First” R...</td>\n",
       "      <td>That s what we re talking about! Another campa...</td>\n",
       "      <td>politics</td>\n",
       "      <td>Aug 2, 2017</td>\n",
       "      <td>Fake</td>\n",
       "      <td>NaN</td>\n",
       "    </tr>\n",
       "    <tr>\n",
       "      <th>1</th>\n",
       "      <td>1</td>\n",
       "      <td>TERMINALLY ILL FORMER MISS WI: “Until my last ...</td>\n",
       "      <td>How is it that Sean Hannity is the only media ...</td>\n",
       "      <td>politics</td>\n",
       "      <td>Oct 4, 2016</td>\n",
       "      <td>Fake</td>\n",
       "      <td>NaN</td>\n",
       "    </tr>\n",
       "    <tr>\n",
       "      <th>2</th>\n",
       "      <td>2</td>\n",
       "      <td>Cruz Humiliated By Moderator After Lie About ...</td>\n",
       "      <td>Almost immediately after learning that longtim...</td>\n",
       "      <td>News</td>\n",
       "      <td>February 13, 2016</td>\n",
       "      <td>Fake</td>\n",
       "      <td>NaN</td>\n",
       "    </tr>\n",
       "    <tr>\n",
       "      <th>3</th>\n",
       "      <td>3</td>\n",
       "      <td>Russia revels in Trump victory, looks to sanct...</td>\n",
       "      <td>MOSCOW (Reuters) - For all their mutual praise...</td>\n",
       "      <td>politicsNews</td>\n",
       "      <td>November 9, 2016</td>\n",
       "      <td>Real</td>\n",
       "      <td>NaN</td>\n",
       "    </tr>\n",
       "    <tr>\n",
       "      <th>4</th>\n",
       "      <td>4</td>\n",
       "      <td>Trump's bid to open U.S. monuments to developm...</td>\n",
       "      <td>WASHINGTON (Reuters) - The Trump administratio...</td>\n",
       "      <td>politicsNews</td>\n",
       "      <td>May 26, 2017</td>\n",
       "      <td>Real</td>\n",
       "      <td>NaN</td>\n",
       "    </tr>\n",
       "    <tr>\n",
       "      <th>...</th>\n",
       "      <td>...</td>\n",
       "      <td>...</td>\n",
       "      <td>...</td>\n",
       "      <td>...</td>\n",
       "      <td>...</td>\n",
       "      <td>...</td>\n",
       "      <td>...</td>\n",
       "    </tr>\n",
       "    <tr>\n",
       "      <th>39995</th>\n",
       "      <td>39995</td>\n",
       "      <td>U.S. officials step up rhetoric on Russia link...</td>\n",
       "      <td>(Reuters) - Republican vice presidential candi...</td>\n",
       "      <td>politicsNews</td>\n",
       "      <td>October 16, 2016</td>\n",
       "      <td>Real</td>\n",
       "      <td>NaN</td>\n",
       "    </tr>\n",
       "    <tr>\n",
       "      <th>39996</th>\n",
       "      <td>39996</td>\n",
       "      <td>McDonald’s Manager To Hispanic Customer: ‘Can...</td>\n",
       "      <td>An employee working at a North Carolina McDona...</td>\n",
       "      <td>News</td>\n",
       "      <td>September 13, 2017</td>\n",
       "      <td>Fake</td>\n",
       "      <td>NaN</td>\n",
       "    </tr>\n",
       "    <tr>\n",
       "      <th>39997</th>\n",
       "      <td>39997</td>\n",
       "      <td>SMUG LIBERAL LAW PROFESSOR SHUT DOWN BY TUCKER...</td>\n",
       "      <td>Tucker to sanctuary city supporter: how did a ...</td>\n",
       "      <td>politics</td>\n",
       "      <td>Mar 29, 2017</td>\n",
       "      <td>Fake</td>\n",
       "      <td>NaN</td>\n",
       "    </tr>\n",
       "    <tr>\n",
       "      <th>39998</th>\n",
       "      <td>39998</td>\n",
       "      <td>Robert Parry: Sorting Out the Russia Mess</td>\n",
       "      <td>Consortium News Exclusive: The U.S. mainstream...</td>\n",
       "      <td>US_News</td>\n",
       "      <td>October 31, 2017</td>\n",
       "      <td>Fake</td>\n",
       "      <td>NaN</td>\n",
       "    </tr>\n",
       "    <tr>\n",
       "      <th>39999</th>\n",
       "      <td>39999</td>\n",
       "      <td>Israeli missiles hit military post near Damasc...</td>\n",
       "      <td>BEIRUT (Reuters) - Israeli missiles struck a m...</td>\n",
       "      <td>worldnews</td>\n",
       "      <td>December 2, 2017</td>\n",
       "      <td>Real</td>\n",
       "      <td>NaN</td>\n",
       "    </tr>\n",
       "  </tbody>\n",
       "</table>\n",
       "<p>40000 rows × 7 columns</p>\n",
       "</div>"
      ],
      "text/plain": [
       "       index                                              title  \\\n",
       "0          0  PRESIDENT TRUMP Explains New “America First” R...   \n",
       "1          1  TERMINALLY ILL FORMER MISS WI: “Until my last ...   \n",
       "2          2   Cruz Humiliated By Moderator After Lie About ...   \n",
       "3          3  Russia revels in Trump victory, looks to sanct...   \n",
       "4          4  Trump's bid to open U.S. monuments to developm...   \n",
       "...      ...                                                ...   \n",
       "39995  39995  U.S. officials step up rhetoric on Russia link...   \n",
       "39996  39996   McDonald’s Manager To Hispanic Customer: ‘Can...   \n",
       "39997  39997  SMUG LIBERAL LAW PROFESSOR SHUT DOWN BY TUCKER...   \n",
       "39998  39998          Robert Parry: Sorting Out the Russia Mess   \n",
       "39999  39999  Israeli missiles hit military post near Damasc...   \n",
       "\n",
       "                                                    text       subject  \\\n",
       "0      That s what we re talking about! Another campa...      politics   \n",
       "1      How is it that Sean Hannity is the only media ...      politics   \n",
       "2      Almost immediately after learning that longtim...          News   \n",
       "3      MOSCOW (Reuters) - For all their mutual praise...  politicsNews   \n",
       "4      WASHINGTON (Reuters) - The Trump administratio...  politicsNews   \n",
       "...                                                  ...           ...   \n",
       "39995  (Reuters) - Republican vice presidential candi...  politicsNews   \n",
       "39996  An employee working at a North Carolina McDona...          News   \n",
       "39997  Tucker to sanctuary city supporter: how did a ...      politics   \n",
       "39998  Consortium News Exclusive: The U.S. mainstream...       US_News   \n",
       "39999  BEIRUT (Reuters) - Israeli missiles struck a m...     worldnews   \n",
       "\n",
       "                     date class Unnamed: 6  \n",
       "0             Aug 2, 2017  Fake        NaN  \n",
       "1             Oct 4, 2016  Fake        NaN  \n",
       "2       February 13, 2016  Fake        NaN  \n",
       "3       November 9, 2016   Real        NaN  \n",
       "4           May 26, 2017   Real        NaN  \n",
       "...                   ...   ...        ...  \n",
       "39995   October 16, 2016   Real        NaN  \n",
       "39996  September 13, 2017  Fake        NaN  \n",
       "39997        Mar 29, 2017  Fake        NaN  \n",
       "39998    October 31, 2017  Fake        NaN  \n",
       "39999   December 2, 2017   Real        NaN  \n",
       "\n",
       "[40000 rows x 7 columns]"
      ]
     },
     "execution_count": 3,
     "metadata": {},
     "output_type": "execute_result"
    }
   ],
   "source": [
    "import pandas as pd\n",
    "\n",
    "first_data = pd.read_csv('./dataset/project/fake.csv')\n",
    "ft = first_data.copy()\n",
    "ft"
   ]
  },
  {
   "cell_type": "code",
   "execution_count": 7,
   "id": "9324dddf-d954-45aa-94a4-631e6db08481",
   "metadata": {},
   "outputs": [],
   "source": [
    "ft = ft.drop(labels=['Unnamed: 6', 'date'], axis=1)\n",
    "ft.drop(ft[ft['class'] == 'February 5, 2017'].index, inplace=True)"
   ]
  },
  {
   "cell_type": "code",
   "execution_count": 8,
   "id": "ba1afed1-d423-44c7-8e26-d48c46e2ccab",
   "metadata": {},
   "outputs": [
    {
     "name": "stdout",
     "output_type": "stream",
     "text": [
      "<class 'pandas.core.frame.DataFrame'>\n",
      "RangeIndex: 40000 entries, 0 to 39999\n",
      "Data columns (total 5 columns):\n",
      " #   Column   Non-Null Count  Dtype \n",
      "---  ------   --------------  ----- \n",
      " 0   index    40000 non-null  int64 \n",
      " 1   title    40000 non-null  object\n",
      " 2   text     40000 non-null  object\n",
      " 3   subject  40000 non-null  object\n",
      " 4   class    40000 non-null  object\n",
      "dtypes: int64(1), object(4)\n",
      "memory usage: 1.5+ MB\n"
     ]
    }
   ],
   "source": [
    "ft.info()"
   ]
  },
  {
   "cell_type": "code",
   "execution_count": 9,
   "id": "35fdb0b4-af1c-41f3-ba0c-6c6703b895b1",
   "metadata": {},
   "outputs": [
    {
     "data": {
      "text/plain": [
       "index      0\n",
       "title      0\n",
       "text       0\n",
       "subject    0\n",
       "class      0\n",
       "dtype: int64"
      ]
     },
     "execution_count": 9,
     "metadata": {},
     "output_type": "execute_result"
    }
   ],
   "source": [
    "ft.isna().sum()"
   ]
  },
  {
   "cell_type": "code",
   "execution_count": 10,
   "id": "e1744817-0f41-42bb-8b9f-a4c1b80aa954",
   "metadata": {},
   "outputs": [
    {
     "data": {
      "text/plain": [
       "0"
      ]
     },
     "execution_count": 10,
     "metadata": {},
     "output_type": "execute_result"
    }
   ],
   "source": [
    "ft.duplicated().sum()"
   ]
  },
  {
   "cell_type": "code",
   "execution_count": 16,
   "id": "6a5cf3f5-a6f3-4264-b58e-d4661ac6ad98",
   "metadata": {},
   "outputs": [
    {
     "data": {
      "text/plain": [
       "subject\n",
       "politicsNews       10075\n",
       "worldnews           9038\n",
       "News                8027\n",
       "politics            6126\n",
       "left-news           3966\n",
       "Government News     1393\n",
       "Middle-east          691\n",
       "US_News              683\n",
       "Name: count, dtype: int64"
      ]
     },
     "execution_count": 16,
     "metadata": {},
     "output_type": "execute_result"
    }
   ],
   "source": [
    "ft['subject'].value_counts()"
   ]
  },
  {
   "cell_type": "code",
   "execution_count": 19,
   "id": "f3188b90-1374-49ec-acb3-ffba4bee8d4c",
   "metadata": {},
   "outputs": [],
   "source": [
    "from sklearn.preprocessing import LabelEncoder\n",
    "\n",
    "subject_encoder = LabelEncoder()\n",
    "subject = subject_encoder.fit_transform(ft['subject'].tolist())\n",
    "ft['subject'] = subject\n",
    "\n",
    "class_encoder = LabelEncoder()\n",
    "class_en = class_encoder.fit_transform(ft['class'].tolist())\n",
    "ft['class'] = class_en"
   ]
  },
  {
   "cell_type": "code",
   "execution_count": 24,
   "id": "9b5c1ca0-61cf-49e4-98b6-a1b903d37acc",
   "metadata": {},
   "outputs": [],
   "source": [
    "from imblearn.over_sampling import SMOTE\n",
    "from sklearn.model_selection import train_test_split\n",
    "\n",
    "features, targets = ft.text, ft.iloc[:,-1]\n",
    "\n",
    "x_train, x_test, y_train, y_test = train_test_split(features, targets, stratify= targets, test_size=0.2, random_state=124)\n"
   ]
  },
  {
   "cell_type": "code",
   "execution_count": 25,
   "id": "11471861-0098-4a0c-a13e-57c5ffd74562",
   "metadata": {},
   "outputs": [
    {
     "data": {
      "text/html": [
       "<style>#sk-container-id-1 {color: black;background-color: white;}#sk-container-id-1 pre{padding: 0;}#sk-container-id-1 div.sk-toggleable {background-color: white;}#sk-container-id-1 label.sk-toggleable__label {cursor: pointer;display: block;width: 100%;margin-bottom: 0;padding: 0.3em;box-sizing: border-box;text-align: center;}#sk-container-id-1 label.sk-toggleable__label-arrow:before {content: \"▸\";float: left;margin-right: 0.25em;color: #696969;}#sk-container-id-1 label.sk-toggleable__label-arrow:hover:before {color: black;}#sk-container-id-1 div.sk-estimator:hover label.sk-toggleable__label-arrow:before {color: black;}#sk-container-id-1 div.sk-toggleable__content {max-height: 0;max-width: 0;overflow: hidden;text-align: left;background-color: #f0f8ff;}#sk-container-id-1 div.sk-toggleable__content pre {margin: 0.2em;color: black;border-radius: 0.25em;background-color: #f0f8ff;}#sk-container-id-1 input.sk-toggleable__control:checked~div.sk-toggleable__content {max-height: 200px;max-width: 100%;overflow: auto;}#sk-container-id-1 input.sk-toggleable__control:checked~label.sk-toggleable__label-arrow:before {content: \"▾\";}#sk-container-id-1 div.sk-estimator input.sk-toggleable__control:checked~label.sk-toggleable__label {background-color: #d4ebff;}#sk-container-id-1 div.sk-label input.sk-toggleable__control:checked~label.sk-toggleable__label {background-color: #d4ebff;}#sk-container-id-1 input.sk-hidden--visually {border: 0;clip: rect(1px 1px 1px 1px);clip: rect(1px, 1px, 1px, 1px);height: 1px;margin: -1px;overflow: hidden;padding: 0;position: absolute;width: 1px;}#sk-container-id-1 div.sk-estimator {font-family: monospace;background-color: #f0f8ff;border: 1px dotted black;border-radius: 0.25em;box-sizing: border-box;margin-bottom: 0.5em;}#sk-container-id-1 div.sk-estimator:hover {background-color: #d4ebff;}#sk-container-id-1 div.sk-parallel-item::after {content: \"\";width: 100%;border-bottom: 1px solid gray;flex-grow: 1;}#sk-container-id-1 div.sk-label:hover label.sk-toggleable__label {background-color: #d4ebff;}#sk-container-id-1 div.sk-serial::before {content: \"\";position: absolute;border-left: 1px solid gray;box-sizing: border-box;top: 0;bottom: 0;left: 50%;z-index: 0;}#sk-container-id-1 div.sk-serial {display: flex;flex-direction: column;align-items: center;background-color: white;padding-right: 0.2em;padding-left: 0.2em;position: relative;}#sk-container-id-1 div.sk-item {position: relative;z-index: 1;}#sk-container-id-1 div.sk-parallel {display: flex;align-items: stretch;justify-content: center;background-color: white;position: relative;}#sk-container-id-1 div.sk-item::before, #sk-container-id-1 div.sk-parallel-item::before {content: \"\";position: absolute;border-left: 1px solid gray;box-sizing: border-box;top: 0;bottom: 0;left: 50%;z-index: -1;}#sk-container-id-1 div.sk-parallel-item {display: flex;flex-direction: column;z-index: 1;position: relative;background-color: white;}#sk-container-id-1 div.sk-parallel-item:first-child::after {align-self: flex-end;width: 50%;}#sk-container-id-1 div.sk-parallel-item:last-child::after {align-self: flex-start;width: 50%;}#sk-container-id-1 div.sk-parallel-item:only-child::after {width: 0;}#sk-container-id-1 div.sk-dashed-wrapped {border: 1px dashed gray;margin: 0 0.4em 0.5em 0.4em;box-sizing: border-box;padding-bottom: 0.4em;background-color: white;}#sk-container-id-1 div.sk-label label {font-family: monospace;font-weight: bold;display: inline-block;line-height: 1.2em;}#sk-container-id-1 div.sk-label-container {text-align: center;}#sk-container-id-1 div.sk-container {/* jupyter's `normalize.less` sets `[hidden] { display: none; }` but bootstrap.min.css set `[hidden] { display: none !important; }` so we also need the `!important` here to be able to override the default hidden behavior on the sphinx rendered scikit-learn.org. See: https://github.com/scikit-learn/scikit-learn/issues/21755 */display: inline-block !important;position: relative;}#sk-container-id-1 div.sk-text-repr-fallback {display: none;}</style><div id=\"sk-container-id-1\" class=\"sk-top-container\"><div class=\"sk-text-repr-fallback\"><pre>Pipeline(steps=[(&#x27;count_vectorizer&#x27;, CountVectorizer()),\n",
       "                (&#x27;multinimual_NB&#x27;, MultinomialNB())])</pre><b>In a Jupyter environment, please rerun this cell to show the HTML representation or trust the notebook. <br />On GitHub, the HTML representation is unable to render, please try loading this page with nbviewer.org.</b></div><div class=\"sk-container\" hidden><div class=\"sk-item sk-dashed-wrapped\"><div class=\"sk-label-container\"><div class=\"sk-label sk-toggleable\"><input class=\"sk-toggleable__control sk-hidden--visually\" id=\"sk-estimator-id-1\" type=\"checkbox\" ><label for=\"sk-estimator-id-1\" class=\"sk-toggleable__label sk-toggleable__label-arrow\">Pipeline</label><div class=\"sk-toggleable__content\"><pre>Pipeline(steps=[(&#x27;count_vectorizer&#x27;, CountVectorizer()),\n",
       "                (&#x27;multinimual_NB&#x27;, MultinomialNB())])</pre></div></div></div><div class=\"sk-serial\"><div class=\"sk-item\"><div class=\"sk-estimator sk-toggleable\"><input class=\"sk-toggleable__control sk-hidden--visually\" id=\"sk-estimator-id-2\" type=\"checkbox\" ><label for=\"sk-estimator-id-2\" class=\"sk-toggleable__label sk-toggleable__label-arrow\">CountVectorizer</label><div class=\"sk-toggleable__content\"><pre>CountVectorizer()</pre></div></div></div><div class=\"sk-item\"><div class=\"sk-estimator sk-toggleable\"><input class=\"sk-toggleable__control sk-hidden--visually\" id=\"sk-estimator-id-3\" type=\"checkbox\" ><label for=\"sk-estimator-id-3\" class=\"sk-toggleable__label sk-toggleable__label-arrow\">MultinomialNB</label><div class=\"sk-toggleable__content\"><pre>MultinomialNB()</pre></div></div></div></div></div></div></div>"
      ],
      "text/plain": [
       "Pipeline(steps=[('count_vectorizer', CountVectorizer()),\n",
       "                ('multinimual_NB', MultinomialNB())])"
      ]
     },
     "execution_count": 25,
     "metadata": {},
     "output_type": "execute_result"
    }
   ],
   "source": [
    "from sklearn.feature_extraction.text import CountVectorizer\n",
    "from sklearn.naive_bayes import MultinomialNB\n",
    "from sklearn.pipeline import Pipeline\n",
    "\n",
    "m_nb_pipe =  Pipeline([('count_vectorizer', CountVectorizer()) ,('multinimual_NB', MultinomialNB())])\n",
    "m_nb_pipe.fit(x_train, y_train)"
   ]
  },
  {
   "cell_type": "code",
   "execution_count": 26,
   "id": "6727ab61-110a-4b95-8615-e6c061f9dd63",
   "metadata": {},
   "outputs": [],
   "source": [
    "prediction = m_nb_pipe.predict(x_test)"
   ]
  },
  {
   "cell_type": "code",
   "execution_count": 27,
   "id": "7d16402f-b2f8-4acf-8e45-9b4e5ac2e8c6",
   "metadata": {},
   "outputs": [
    {
     "data": {
      "text/plain": [
       "0.949625"
      ]
     },
     "execution_count": 27,
     "metadata": {},
     "output_type": "execute_result"
    }
   ],
   "source": [
    "m_nb_pipe.score(x_test, y_test)"
   ]
  },
  {
   "cell_type": "code",
   "execution_count": null,
   "id": "0279914e-14b6-4327-aa94-e51873dae88e",
   "metadata": {},
   "outputs": [],
   "source": []
  },
  {
   "cell_type": "code",
   "execution_count": null,
   "id": "61351661-b95a-4106-a8d9-ca9c2c87685f",
   "metadata": {},
   "outputs": [],
   "source": []
  },
  {
   "cell_type": "code",
   "execution_count": null,
   "id": "2f99b78d-0585-4691-8816-8ea11b455b73",
   "metadata": {},
   "outputs": [],
   "source": []
  },
  {
   "cell_type": "code",
   "execution_count": null,
   "id": "067c7ee7-b418-404d-ab14-34d5e7ec756f",
   "metadata": {},
   "outputs": [],
   "source": []
  },
  {
   "cell_type": "code",
   "execution_count": null,
   "id": "87bc879b-0058-4c0d-8aae-c0aa29d11d5c",
   "metadata": {},
   "outputs": [],
   "source": []
  },
  {
   "cell_type": "code",
   "execution_count": null,
   "id": "53c5b147-a8b4-44b2-9aad-dfb4e15142b8",
   "metadata": {},
   "outputs": [],
   "source": []
  },
  {
   "cell_type": "code",
   "execution_count": null,
   "id": "09125d22-7c18-4f08-b965-4818d000b3e5",
   "metadata": {},
   "outputs": [],
   "source": []
  },
  {
   "cell_type": "code",
   "execution_count": null,
   "id": "60c0783f-3447-44d0-8ab6-efe4b85ceff1",
   "metadata": {},
   "outputs": [],
   "source": []
  },
  {
   "cell_type": "code",
   "execution_count": null,
   "id": "4981f49a-3f68-418e-a974-f4fda415bbb4",
   "metadata": {},
   "outputs": [],
   "source": []
  },
  {
   "cell_type": "code",
   "execution_count": null,
   "id": "267a6951-960c-4009-9d4b-3188f12ed838",
   "metadata": {},
   "outputs": [],
   "source": []
  },
  {
   "cell_type": "code",
   "execution_count": null,
   "id": "43eeea04-7d39-4dbb-a8a2-efbd43a20282",
   "metadata": {},
   "outputs": [],
   "source": []
  },
  {
   "cell_type": "code",
   "execution_count": null,
   "id": "3acde918-34fd-49b1-865c-baead243a230",
   "metadata": {},
   "outputs": [],
   "source": []
  },
  {
   "cell_type": "code",
   "execution_count": null,
   "id": "d0059831-70c3-449f-9041-f4fc958d1d45",
   "metadata": {},
   "outputs": [],
   "source": []
  },
  {
   "cell_type": "code",
   "execution_count": null,
   "id": "0892e224-5c05-4e96-8391-a3d326c70ae2",
   "metadata": {},
   "outputs": [],
   "source": []
  },
  {
   "cell_type": "code",
   "execution_count": null,
   "id": "47a7df31-f7e5-416b-9847-d0787e67e3c7",
   "metadata": {},
   "outputs": [],
   "source": []
  },
  {
   "cell_type": "code",
   "execution_count": null,
   "id": "f022a213-58c9-4ab7-bc82-ae3749506212",
   "metadata": {},
   "outputs": [],
   "source": []
  },
  {
   "cell_type": "code",
   "execution_count": null,
   "id": "ec4ee8e9-d181-4c04-858b-b91f896189d6",
   "metadata": {},
   "outputs": [],
   "source": []
  },
  {
   "cell_type": "code",
   "execution_count": null,
   "id": "f895630f-e1a7-4c97-b7af-7d8089917ae8",
   "metadata": {},
   "outputs": [],
   "source": []
  },
  {
   "cell_type": "code",
   "execution_count": null,
   "id": "7588a77d-e1eb-4a51-850d-ff53a861779f",
   "metadata": {},
   "outputs": [],
   "source": []
  },
  {
   "cell_type": "code",
   "execution_count": null,
   "id": "b522a0c0-3ea7-462b-9305-23b19b315b9d",
   "metadata": {},
   "outputs": [],
   "source": []
  },
  {
   "cell_type": "code",
   "execution_count": null,
   "id": "7409cf3b-c91a-4a28-889f-310700490c1b",
   "metadata": {},
   "outputs": [],
   "source": []
  },
  {
   "cell_type": "code",
   "execution_count": null,
   "id": "c3bfebe6-b2bc-4208-ae1c-0916c45f0b12",
   "metadata": {},
   "outputs": [],
   "source": []
  },
  {
   "cell_type": "code",
   "execution_count": null,
   "id": "84277ff0-4416-4b0e-89df-2aea05b504c9",
   "metadata": {},
   "outputs": [],
   "source": []
  },
  {
   "cell_type": "code",
   "execution_count": null,
   "id": "9d93604e-edff-4e47-94cd-12ea1a75137b",
   "metadata": {},
   "outputs": [],
   "source": []
  },
  {
   "cell_type": "code",
   "execution_count": null,
   "id": "2fa4718f-a9e5-41d9-8389-0190a0f03f61",
   "metadata": {},
   "outputs": [],
   "source": []
  },
  {
   "cell_type": "code",
   "execution_count": null,
   "id": "c4e069cf-af42-4820-bd6e-13890c1d4f1b",
   "metadata": {},
   "outputs": [],
   "source": []
  },
  {
   "cell_type": "code",
   "execution_count": null,
   "id": "3c787c20-5fde-4834-87af-0644adb06274",
   "metadata": {},
   "outputs": [],
   "source": []
  },
  {
   "cell_type": "code",
   "execution_count": null,
   "id": "173b967d-3a7a-42e2-82b5-6dcc15b8001d",
   "metadata": {},
   "outputs": [],
   "source": []
  }
 ],
 "metadata": {
  "kernelspec": {
   "display_name": "Python 3 (ipykernel)",
   "language": "python",
   "name": "python3"
  },
  "language_info": {
   "codemirror_mode": {
    "name": "ipython",
    "version": 3
   },
   "file_extension": ".py",
   "mimetype": "text/x-python",
   "name": "python",
   "nbconvert_exporter": "python",
   "pygments_lexer": "ipython3",
   "version": "3.11.8"
  }
 },
 "nbformat": 4,
 "nbformat_minor": 5
}
