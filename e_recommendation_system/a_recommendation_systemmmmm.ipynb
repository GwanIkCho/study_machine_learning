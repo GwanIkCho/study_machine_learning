{
 "cells": [
  {
   "cell_type": "code",
   "execution_count": 22,
   "id": "bf2469b4-ad2d-4df3-a511-1d1f68a24167",
   "metadata": {},
   "outputs": [],
   "source": [
    "import numpy as np\n",
    "\n",
    "v1 = np.array([0, 0, 2])\n",
    "v2 = np.array([0, 1, 1])"
   ]
  },
  {
   "cell_type": "code",
   "execution_count": 23,
   "id": "df19c31c-d685-4650-b32a-80fbaa58583e",
   "metadata": {},
   "outputs": [],
   "source": [
    "from numpy import dot\n",
    "from numpy.linalg import norm\n",
    "\n",
    "def get_cosine_similarity(A, B):\n",
    "    return dot(A, B) / (norm(A) * norm(B))"
   ]
  },
  {
   "cell_type": "code",
   "execution_count": 24,
   "id": "4731683a-eb11-4df3-a592-05d4cfb61e6c",
   "metadata": {},
   "outputs": [
    {
     "data": {
      "text/plain": [
       "0.7071067811865475"
      ]
     },
     "execution_count": 24,
     "metadata": {},
     "output_type": "execute_result"
    }
   ],
   "source": [
    "get_cosine_similarity(v1, v2)"
   ]
  },
  {
   "cell_type": "code",
   "execution_count": 25,
   "id": "e1967438-30a1-496e-9b78-fcf920c77f82",
   "metadata": {},
   "outputs": [
    {
     "data": {
      "text/plain": [
       "array([[0.70710678]])"
      ]
     },
     "execution_count": 25,
     "metadata": {},
     "output_type": "execute_result"
    }
   ],
   "source": [
    "from sklearn.metrics.pairwise import cosine_similarity\n",
    "\n",
    "v1 = np.array([[0, 0, 2]])\n",
    "v2 = np.array([[0, 1, 1]])\n",
    "cosine_similarity(v1, v2)"
   ]
  },
  {
   "cell_type": "code",
   "execution_count": 26,
   "id": "9065f4be-a3fa-43b7-a905-83e987d16ce4",
   "metadata": {},
   "outputs": [
    {
     "name": "stdout",
     "output_type": "stream",
     "text": [
      "<class 'pandas.core.frame.DataFrame'>\n",
      "RangeIndex: 4803 entries, 0 to 4802\n",
      "Data columns (total 24 columns):\n",
      " #   Column                Non-Null Count  Dtype  \n",
      "---  ------                --------------  -----  \n",
      " 0   index                 4803 non-null   int64  \n",
      " 1   budget                4803 non-null   int64  \n",
      " 2   genres                4775 non-null   object \n",
      " 3   homepage              1712 non-null   object \n",
      " 4   id                    4803 non-null   int64  \n",
      " 5   keywords              4391 non-null   object \n",
      " 6   original_language     4803 non-null   object \n",
      " 7   original_title        4803 non-null   object \n",
      " 8   overview              4800 non-null   object \n",
      " 9   popularity            4803 non-null   float64\n",
      " 10  production_companies  4803 non-null   object \n",
      " 11  production_countries  4803 non-null   object \n",
      " 12  release_date          4802 non-null   object \n",
      " 13  revenue               4803 non-null   int64  \n",
      " 14  runtime               4801 non-null   float64\n",
      " 15  spoken_languages      4803 non-null   object \n",
      " 16  status                4803 non-null   object \n",
      " 17  tagline               3959 non-null   object \n",
      " 18  title                 4803 non-null   object \n",
      " 19  vote_average          4803 non-null   float64\n",
      " 20  vote_count            4803 non-null   int64  \n",
      " 21  cast                  4760 non-null   object \n",
      " 22  crew                  4803 non-null   object \n",
      " 23  director              4773 non-null   object \n",
      "dtypes: float64(3), int64(5), object(16)\n",
      "memory usage: 900.7+ KB\n"
     ]
    }
   ],
   "source": [
    "import numpy as np\n",
    "import pandas as pd\n",
    "\n",
    "m_df = pd.read_csv('./datasets/movie_dataset.csv')\n",
    "m_df.info()"
   ]
  },
  {
   "cell_type": "code",
   "execution_count": 31,
   "id": "d6b857c2-7ee5-414c-83bc-8d10877bf298",
   "metadata": {},
   "outputs": [
    {
     "data": {
      "text/plain": [
       "0           James Cameron\n",
       "1          Gore Verbinski\n",
       "2              Sam Mendes\n",
       "3       Christopher Nolan\n",
       "4          Andrew Stanton\n",
       "              ...        \n",
       "4798     Robert Rodriguez\n",
       "4799         Edward Burns\n",
       "4800          Scott Smith\n",
       "4801          Daniel Hsia\n",
       "4802     Brian Herzlinger\n",
       "Name: director, Length: 4803, dtype: object"
      ]
     },
     "execution_count": 31,
     "metadata": {},
     "output_type": "execute_result"
    }
   ],
   "source": [
    "m_df.director"
   ]
  },
  {
   "cell_type": "code",
   "execution_count": 32,
   "id": "7c644122-3bd0-4b5c-b093-2c9e86a5850d",
   "metadata": {},
   "outputs": [
    {
     "data": {
      "text/plain": [
       "index                      0\n",
       "budget                     0\n",
       "genres                    28\n",
       "homepage                3091\n",
       "id                         0\n",
       "keywords                 412\n",
       "original_language          0\n",
       "original_title             0\n",
       "overview                   3\n",
       "popularity                 0\n",
       "production_companies       0\n",
       "production_countries       0\n",
       "release_date               1\n",
       "revenue                    0\n",
       "runtime                    2\n",
       "spoken_languages           0\n",
       "status                     0\n",
       "tagline                  844\n",
       "title                      0\n",
       "vote_average               0\n",
       "vote_count                 0\n",
       "cast                      43\n",
       "crew                       0\n",
       "director                  30\n",
       "dtype: int64"
      ]
     },
     "execution_count": 32,
     "metadata": {},
     "output_type": "execute_result"
    }
   ],
   "source": [
    "m_df.isna().sum()"
   ]
  },
  {
   "cell_type": "code",
   "execution_count": 33,
   "id": "843270b2-ed56-48e6-8c96-8f46dadd7d50",
   "metadata": {},
   "outputs": [
    {
     "data": {
      "text/plain": [
       "genres      0\n",
       "keywords    0\n",
       "overview    0\n",
       "tagline     0\n",
       "cast        0\n",
       "director    0\n",
       "dtype: int64"
      ]
     },
     "execution_count": 33,
     "metadata": {},
     "output_type": "execute_result"
    }
   ],
   "source": [
    "# genres, keywords, overview, tagline, cast, director\n",
    "columns = ['genres', 'keywords', 'overview', 'tagline', 'cast', 'director']\n",
    "pre_m_df = m_df[columns].fillna('')\n",
    "pre_m_df.isna().sum()"
   ]
  },
  {
   "cell_type": "code",
   "execution_count": 37,
   "id": "5f7d2bb1-e344-4fb2-b2c5-6279d4195b87",
   "metadata": {},
   "outputs": [
    {
     "data": {
      "text/plain": [
       "0       Action Adventure Fantasy Science Fiction cultu...\n",
       "1       Adventure Fantasy Action ocean drug abuse exot...\n",
       "2       Action Adventure Crime spy based on novel secr...\n",
       "3       Action Crime Drama Thriller dc comics crime fi...\n",
       "4       Action Adventure Science Fiction based on nove...\n",
       "                              ...                        \n",
       "4798    Action Crime Thriller united states\\u2013mexic...\n",
       "4799    Comedy Romance  A newlywed couple's honeymoon ...\n",
       "4800    Comedy Drama Romance TV Movie date love at fir...\n",
       "4801      When ambitious New York attorney Sam is sent...\n",
       "4802    Documentary obsession camcorder crush dream gi...\n",
       "Length: 4803, dtype: object"
      ]
     },
     "execution_count": 37,
     "metadata": {},
     "output_type": "execute_result"
    }
   ],
   "source": [
    "columns = ['genres', 'keywords', 'overview', 'tagline', 'cast', 'director']\n",
    "features = pre_m_df.loc[:, columns]\n",
    "\n",
    "def concatenate(features):\n",
    "    return features.genres + ' ' + features.keywords + ' ' + \\\n",
    "            features.overview + ' ' + features.tagline + ' ' + \\\n",
    "            features.cast + ' ' + features.director\n",
    "\n",
    "result_df = concatenate(features)\n",
    "result_df"
   ]
  },
  {
   "cell_type": "code",
   "execution_count": 41,
   "id": "7a2c9c52-67c2-4939-9a5f-8e1e0b30904e",
   "metadata": {},
   "outputs": [
    {
     "name": "stdout",
     "output_type": "stream",
     "text": [
      "  (0, 561)\t1\n",
      "  (0, 703)\t1\n",
      "  (0, 9754)\t1\n",
      "  (0, 23977)\t1\n",
      "  (0, 10023)\t1\n",
      "  (0, 6601)\t1\n",
      "  (0, 5279)\t1\n",
      "  (0, 10796)\t1\n",
      "  (0, 25413)\t2\n",
      "  (0, 29469)\t1\n",
      "  (0, 5592)\t1\n",
      "  (0, 25232)\t1\n",
      "  (0, 13474)\t1\n",
      "  (0, 27118)\t3\n",
      "  (0, 239)\t1\n",
      "  (0, 4768)\t1\n",
      "  (0, 20104)\t1\n",
      "  (0, 17021)\t1\n",
      "  (0, 14023)\t1\n",
      "  (0, 7827)\t1\n",
      "  (0, 27405)\t1\n",
      "  (0, 18249)\t1\n",
      "  (0, 20039)\t2\n",
      "  (0, 19541)\t1\n",
      "  (0, 28597)\t1\n",
      "  :\t:\n",
      "  (4802, 9588)\t1\n",
      "  (4802, 21386)\t1\n",
      "  (4802, 9166)\t1\n",
      "  (4802, 24102)\t1\n",
      "  (4802, 6136)\t1\n",
      "  (4802, 14324)\t1\n",
      "  (4802, 3875)\t1\n",
      "  (4802, 8258)\t3\n",
      "  (4802, 2501)\t3\n",
      "  (4802, 23076)\t1\n",
      "  (4802, 10089)\t1\n",
      "  (4802, 10738)\t1\n",
      "  (4802, 11677)\t1\n",
      "  (4802, 1833)\t1\n",
      "  (4802, 7044)\t1\n",
      "  (4802, 23793)\t1\n",
      "  (4802, 1819)\t1\n",
      "  (4802, 7964)\t1\n",
      "  (4802, 8403)\t1\n",
      "  (4802, 250)\t1\n",
      "  (4802, 6542)\t2\n",
      "  (4802, 9910)\t1\n",
      "  (4802, 11524)\t1\n",
      "  (4802, 4278)\t1\n",
      "  (4802, 12576)\t4\n",
      "[[1.         0.35896368 0.24467726 ... 0.29233355 0.21320072 0.11875422]\n",
      " [0.35896368 1.         0.33243277 ... 0.39097542 0.2896669  0.16501336]\n",
      " [0.24467726 0.33243277 1.         ... 0.24353367 0.21252557 0.15496777]\n",
      " ...\n",
      " [0.29233355 0.39097542 0.24353367 ... 1.         0.27749786 0.1636604 ]\n",
      " [0.21320072 0.2896669  0.21252557 ... 0.27749786 1.         0.20254787]\n",
      " [0.11875422 0.16501336 0.15496777 ... 0.1636604  0.20254787 1.        ]]\n",
      "(4803, 4803)\n"
     ]
    }
   ],
   "source": [
    "from sklearn.feature_extraction.text import CountVectorizer\n",
    "from sklearn.metrics.pairwise import cosine_similarity\n",
    "\n",
    "count_v = CountVectorizer()\n",
    "count_metrix = count_v.fit_transform(result_df)\n",
    "print(count_metrix)\n",
    "\n",
    "c_s = cosine_similarity(count_metrix)\n",
    "print(c_s)\n",
    "print(c_s.shape)"
   ]
  },
  {
   "cell_type": "code",
   "execution_count": 55,
   "id": "76fae4a5-9c72-498c-8e2d-289415a2b151",
   "metadata": {},
   "outputs": [
    {
     "name": "stdout",
     "output_type": "stream",
     "text": [
      "Men in Black II\n",
      "Space Battleship Yamato\n",
      "The Hobbit: The Battle of the Five Armies\n",
      "The Work and the Glory II: American Zion\n",
      "The Andromeda Strain\n"
     ]
    }
   ],
   "source": [
    "def get_index_from_title(title):\n",
    "    return m_df[m_df.title == title].index[0]\n",
    "\n",
    "def get_title_from_index(index):\n",
    "    return m_df[m_df.index == index]['title'].values[0]\n",
    "\n",
    "movie_title = \"Men in Black\"\n",
    "movie_index = get_index_from_title(movie_title)\n",
    "recommended_movie = sorted(list(enumerate(c_s[movie_index])), key=lambda x: x[1], reverse=True)\n",
    "\n",
    "for movie in recommended_movie[1:6]:\n",
    "    print(get_title_from_index(movie[0]))"
   ]
  }
 ],
 "metadata": {
  "kernelspec": {
   "display_name": "Python 3 (ipykernel)",
   "language": "python",
   "name": "python3"
  },
  "language_info": {
   "codemirror_mode": {
    "name": "ipython",
    "version": 3
   },
   "file_extension": ".py",
   "mimetype": "text/x-python",
   "name": "python",
   "nbconvert_exporter": "python",
   "pygments_lexer": "ipython3",
   "version": "3.11.8"
  }
 },
 "nbformat": 4,
 "nbformat_minor": 5
}
